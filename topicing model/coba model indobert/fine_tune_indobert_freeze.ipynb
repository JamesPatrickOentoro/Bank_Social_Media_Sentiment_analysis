{
  "cells": [
    {
      "cell_type": "code",
      "execution_count": 1,
      "metadata": {
        "id": "8HNUE5fXIb-W"
      },
      "outputs": [
        {
          "name": "stderr",
          "output_type": "stream",
          "text": [
            "d:\\CIT\\skripsi cd\\.venv\\lib\\site-packages\\tqdm\\auto.py:21: TqdmWarning: IProgress not found. Please update jupyter and ipywidgets. See https://ipywidgets.readthedocs.io/en/stable/user_install.html\n",
            "  from .autonotebook import tqdm as notebook_tqdm\n"
          ]
        }
      ],
      "source": [
        "import torch\n",
        "from torch import nn\n",
        "from torch.utils.data import DataLoader, Dataset\n",
        "from transformers import BertTokenizer, BertModel, AdamW, get_linear_schedule_with_warmup\n",
        "from sklearn.model_selection import train_test_split\n",
        "from sklearn.metrics import accuracy_score, classification_report\n",
        "import pandas as pd\n",
        "from sklearn.model_selection import train_test_split\n",
        "from sklearn.metrics import accuracy_score, recall_score, precision_score, f1_score\n",
        "import torch\n",
        "from transformers import BertTokenizer, BertModel\n",
        "import torch.nn.functional as F\n",
        "import matplotlib.pyplot as plt\n",
        "import numpy as np"
      ]
    },
    {
      "cell_type": "markdown",
      "metadata": {},
      "source": [
        "# Initiate Dataset"
      ]
    },
    {
      "cell_type": "code",
      "execution_count": 2,
      "metadata": {
        "colab": {
          "base_uri": "https://localhost:8080/",
          "height": 206
        },
        "id": "ZLuKyvHJ47xK",
        "outputId": "c854bd43-9109-4a56-ce0d-fa4e3d2e7544"
      },
      "outputs": [
        {
          "data": {
            "text/html": [
              "<div>\n",
              "<style scoped>\n",
              "    .dataframe tbody tr th:only-of-type {\n",
              "        vertical-align: middle;\n",
              "    }\n",
              "\n",
              "    .dataframe tbody tr th {\n",
              "        vertical-align: top;\n",
              "    }\n",
              "\n",
              "    .dataframe thead th {\n",
              "        text-align: right;\n",
              "    }\n",
              "</style>\n",
              "<table border=\"1\" class=\"dataframe\">\n",
              "  <thead>\n",
              "    <tr style=\"text-align: right;\">\n",
              "      <th></th>\n",
              "      <th>comments</th>\n",
              "      <th>bank</th>\n",
              "      <th>platform</th>\n",
              "      <th>label</th>\n",
              "      <th>topic</th>\n",
              "    </tr>\n",
              "  </thead>\n",
              "  <tbody>\n",
              "    <tr>\n",
              "      <th>0</th>\n",
              "      <td>keren sekali transmart bintang melanda bintang...</td>\n",
              "      <td>Bank Mega</td>\n",
              "      <td>Instagram</td>\n",
              "      <td>0</td>\n",
              "      <td>service</td>\n",
              "    </tr>\n",
              "    <tr>\n",
              "      <th>1</th>\n",
              "      <td>tidak pernah kabari menerapkan</td>\n",
              "      <td>Bank Mega</td>\n",
              "      <td>Instagram</td>\n",
              "      <td>2</td>\n",
              "      <td>cc</td>\n",
              "    </tr>\n",
              "    <tr>\n",
              "      <th>2</th>\n",
              "      <td>keren bht</td>\n",
              "      <td>Bank Mega</td>\n",
              "      <td>Instagram</td>\n",
              "      <td>0</td>\n",
              "      <td>service</td>\n",
              "    </tr>\n",
              "    <tr>\n",
              "      <th>3</th>\n",
              "      <td>transmart makssar masih kurang lengkap barangnya</td>\n",
              "      <td>Bank Mega</td>\n",
              "      <td>Instagram</td>\n",
              "      <td>2</td>\n",
              "      <td>service</td>\n",
              "    </tr>\n",
              "    <tr>\n",
              "      <th>4</th>\n",
              "      <td>dan transmart keren oke wajah tersenyum dengan...</td>\n",
              "      <td>Bank Mega</td>\n",
              "      <td>Instagram</td>\n",
              "      <td>0</td>\n",
              "      <td>service</td>\n",
              "    </tr>\n",
              "  </tbody>\n",
              "</table>\n",
              "</div>"
            ],
            "text/plain": [
              "                                            comments       bank   platform  \\\n",
              "0  keren sekali transmart bintang melanda bintang...  Bank Mega  Instagram   \n",
              "1                     tidak pernah kabari menerapkan  Bank Mega  Instagram   \n",
              "2                                          keren bht  Bank Mega  Instagram   \n",
              "3   transmart makssar masih kurang lengkap barangnya  Bank Mega  Instagram   \n",
              "4  dan transmart keren oke wajah tersenyum dengan...  Bank Mega  Instagram   \n",
              "\n",
              "   label    topic  \n",
              "0      0  service  \n",
              "1      2       cc  \n",
              "2      0  service  \n",
              "3      2  service  \n",
              "4      0  service  "
            ]
          },
          "execution_count": 2,
          "metadata": {},
          "output_type": "execute_result"
        }
      ],
      "source": [
        "# https://www.kaggle.com/competitions/jigsaw-toxic-comment-classification-challenge/data\n",
        "df = pd.read_excel(\"train_preprocessed.xlsx\",sheet_name=\"Sheet1\")\n",
        "df.head()"
      ]
    },
    {
      "cell_type": "code",
      "execution_count": 3,
      "metadata": {
        "id": "vWHj7tkRG0Je"
      },
      "outputs": [],
      "source": [
        "class TextClassificationDataset(Dataset):\n",
        "    def __init__(self, texts, labels, tokenizer, max_length):\n",
        "            self.texts = texts\n",
        "            self.labels = labels\n",
        "            self.tokenizer = tokenizer\n",
        "            self.max_length = max_length\n",
        "    def __len__(self):\n",
        "        return len(self.texts)\n",
        "    def __getitem__(self, idx):\n",
        "        text = self.texts[idx]\n",
        "        label = self.labels[idx]\n",
        "        encoding = self.tokenizer(text, return_tensors='pt', max_length=self.max_length, padding='max_length', truncation=True)\n",
        "        return {'input_ids': encoding['input_ids'].flatten(), 'attention_mask': encoding['attention_mask'].flatten(), 'label': torch.tensor(label)}"
      ]
    },
    {
      "cell_type": "markdown",
      "metadata": {},
      "source": [
        "## Train Validation Split"
      ]
    },
    {
      "cell_type": "code",
      "execution_count": 4,
      "metadata": {},
      "outputs": [],
      "source": [
        "train_df, val_df = train_test_split(df, test_size=0.05, random_state=42)\n",
        "train_df[\"comments\"] = train_df[\"comments\"].astype(str)\n",
        "# Reset index for both train and validation sets\n",
        "train_df.reset_index(drop=True, inplace=True)\n",
        "val_df.reset_index(drop=True, inplace=True)\n",
        "\n",
        "# Extract texts and labels\n",
        "train_texts, train_labels = train_df[\"comments\"], train_df[\"label\"]\n",
        "val_texts, val_labels = val_df[\"comments\"], val_df[\"label\"]"
      ]
    },
    {
      "cell_type": "markdown",
      "metadata": {},
      "source": [
        "# BERT Model"
      ]
    },
    {
      "cell_type": "code",
      "execution_count": 5,
      "metadata": {
        "id": "UzuMYgS6fZNE"
      },
      "outputs": [],
      "source": [
        "class BERTClassifier(nn.Module):\n",
        "    def __init__(self, bert_model_name, num_classes, freeze_layers = 0):\n",
        "        super(BERTClassifier, self).__init__()\n",
        "        self.bert = BertModel.from_pretrained(bert_model_name)\n",
        "        self.dropout = nn.Dropout(0.1)\n",
        "        self.fc = nn.Linear(self.bert.config.hidden_size, num_classes) #add classification layer\n",
        "        self.freeze_layers = freeze_layers\n",
        "        # for param in self.bert.parameters():\n",
        "        #     param.requires_grad = False\n",
        "        # for i in range(freeze_layers):\n",
        "        #     for name, param in self.bert.encoder.layer[i].named_parameters():\n",
        "        #         param.requires_grad = False\n",
        "\n",
        "        # layer_count = 0\n",
        "        # for name, param in self.bert.named_parameters():\n",
        "        #     print(name)\n",
        "        #     if 'layer' in name:\n",
        "        #         layer_count += 1\n",
        "        #         if layer_count <= freeze_layers:\n",
        "        #             param.requires_grad = False\n",
        "        #             # print('Masuk')\n",
        "        # print(layer_count)\n",
        "\n",
        "\n",
        "    def forward(self, input_ids, attention_mask):\n",
        "            outputs = self.bert(input_ids=input_ids, attention_mask=attention_mask)\n",
        "            # # Freeze specified layers\n",
        "            # if self.freeze_layers > 0:\n",
        "            #     with torch.no_grad():\n",
        "            #         # Detach the output of the frozen layers from the computational graph\n",
        "            #         for layer in range(self.freeze_layers):\n",
        "            #             outputs.hidden_states[layer] = outputs.hidden_states[layer].detach()\n",
        "            last_hidden_states = outputs.last_hidden_state\n",
        "            hidden_states = outputs.hidden_states\n",
        "            attentions = outputs.attentions\n",
        "            pooled_output = outputs.pooler_output\n",
        "            x = self.dropout(pooled_output)\n",
        "            logits = self.fc(x)\n",
        "            # print(last_hidden_states)\n",
        "            # print(hidden_states)\n",
        "            # print(attentions)\n",
        "            # print(pooled_output)\n",
        "            # print(logits)\n",
        "            return logits"
      ]
    },
    {
      "cell_type": "code",
      "execution_count": 6,
      "metadata": {
        "id": "gtqfE6lyK0mp"
      },
      "outputs": [],
      "source": [
        "def evaluate(model, data_loader, device):\n",
        "    model.eval()\n",
        "    predictions = []\n",
        "    actual_labels = []\n",
        "    val_loss = 0.0\n",
        "    with torch.no_grad():\n",
        "        for batch in data_loader:\n",
        "            input_ids = batch['input_ids'].to(device)\n",
        "            attention_mask = batch['attention_mask'].to(device)\n",
        "            labels = batch['label'].to(device)\n",
        "            outputs = model(input_ids=input_ids, attention_mask=attention_mask)\n",
        "            _, preds = torch.max(outputs, dim=1)\n",
        "            predictions.extend(preds.cpu().tolist())\n",
        "            actual_labels.extend(labels.cpu().tolist())\n",
        "\n",
        "            # Compute validation loss\n",
        "            loss = F.cross_entropy(outputs, labels)\n",
        "            val_loss += loss.item() * input_ids.size(0)  # Accumulate the loss\n",
        "    # val_accuracy = accuracy_score(actual_labels, predictions)\n",
        "    # classification_rep = classification_report(actual_labels, predictions)\n",
        "    avg_val_loss = val_loss / len(data_loader.dataset)  # Compute average validation loss\n",
        "    return accuracy_score(actual_labels, predictions), classification_report(actual_labels, predictions), avg_val_loss"
      ]
    },
    {
      "cell_type": "code",
      "execution_count": 7,
      "metadata": {},
      "outputs": [],
      "source": [
        "def compute_saliency_map(model, input_ids, attention_mask, label):\n",
        "    print(input_ids, attention_mask, label)\n",
        "    model.eval()\n",
        "    grad_input_ids = torch.ones_like(input_ids, dtype=torch.float32, requires_grad=True)\n",
        "    grad_attention_mask = torch.ones_like(attention_mask, dtype=torch.float32, requires_grad=True)\n",
        "\n",
        "    outputs = model(input_ids=input_ids, attention_mask=attention_mask)\n",
        "    loss = F.cross_entropy(outputs, label)\n",
        "\n",
        "    model.zero_grad()\n",
        "\n",
        "    # Compute gradients of the loss with respect to the new tensors\n",
        "    loss.backward(retain_graph=True)\n",
        "\n",
        "    # Ensure gradients are computed and accessible\n",
        "    if grad_input_ids.grad is None:\n",
        "        raise RuntimeError(\"Gradients for grad_input_ids are None. Check if gradients are being computed correctly.\")\n",
        "\n",
        "    # Compute the saliency map\n",
        "    saliency_map = grad_input_ids.grad.abs().sum(dim=-1).detach().cpu().numpy()\n",
        "\n",
        "    # Debugging: Print gradients of the model parameters after backward pass\n",
        "    print(\"Gradients after backward pass:\")\n",
        "    for name, param in model.named_parameters():\n",
        "        print(name, param.grad)\n",
        "\n",
        "    return saliency_map\n",
        "\n",
        "def visualize_saliency_maps(batch, saliency_map):\n",
        "    input_text = batch['input_text']\n",
        "    tokens = input_text.split()  # Assuming input_text is a single string of space-separated tokens\n",
        "\n",
        "    # Normalize the saliency map\n",
        "    saliency_map = saliency_map / np.max(saliency_map)\n",
        "\n",
        "    # Plot the saliency map\n",
        "    plt.figure(figsize=(10, 6))\n",
        "    plt.bar(range(len(tokens)), saliency_map, tick_label=tokens, color='skyblue')\n",
        "    plt.xlabel('Tokens')\n",
        "    plt.ylabel('Saliency Score')\n",
        "    plt.title('Saliency Map')\n",
        "    plt.xticks(rotation=45, ha='right')\n",
        "    plt.tight_layout()\n",
        "    plt.show()"
      ]
    },
    {
      "cell_type": "code",
      "execution_count": 8,
      "metadata": {},
      "outputs": [],
      "source": [
        "import torch\n",
        "\n",
        "def train(model, train_loader, val_loader, optimizer, scheduler, device, num_epochs, patience, checkpoint_path):\n",
        "    model.train()\n",
        "    best_val_accuracy = 0.0\n",
        "    consecutive_no_improvement = 0\n",
        "    train_losses = []\n",
        "    val_losses = []\n",
        "    val_accuracies = []\n",
        "    train_accuracies = []\n",
        "    for epoch in range(num_epochs):\n",
        "        print(f\"Epoch {epoch + 1}/{num_epochs}\")\n",
        "\n",
        "        # Training phase\n",
        "        epoch_train_loss = 0.0\n",
        "        correct_train = 0\n",
        "        total_train = 0\n",
        "        for batch in train_loader:\n",
        "            optimizer.zero_grad()\n",
        "            input_ids = batch['input_ids'].to(device)\n",
        "            attention_mask = batch['attention_mask'].to(device)\n",
        "            labels = batch['label'].to(device)\n",
        "             # Compute gradients for saliency map\n",
        "            # saliency_map = compute_saliency_map(model, input_ids, attention_mask, labels)\n",
        "            outputs = model(input_ids=input_ids, attention_mask=attention_mask)\n",
        "            loss = nn.CrossEntropyLoss()(outputs, labels)\n",
        "            # grad_input_ids = torch.ones_like(input_ids, dtype=torch.float32, requires_grad=True)\n",
        "            # print(grad_input_ids)\n",
        "            loss.backward(retain_graph=True)\n",
        "            # print(\"Gradients before optimizer step:\")\n",
        "            # for name, param in model.named_parameters():\n",
        "            #     if param.grad is not None:\n",
        "            #         print(name, param.grad.mean())\n",
        "            #     else:\n",
        "            #         print(name, \"None\")\n",
        "\n",
        "            optimizer.step()\n",
        "            scheduler.step()\n",
        "            _, predicted = torch.max(outputs, 1)\n",
        "            correct_train += (predicted == labels).sum().item()\n",
        "            total_train += labels.size(0)\n",
        "            # saliency_map = grad_input_ids.grad.abs().sum(dim=-1).detach().cpu().numpy()\n",
        "            # print(\"Gradients after optimizer step:\")\n",
        "            # for name, param in model.named_parameters():\n",
        "            #     if param.grad is not None:\n",
        "            #         print(name, param.grad.mean())\n",
        "            #     else:\n",
        "            #         print(name, \"None\")\n",
        "\n",
        "            epoch_train_loss += loss.item()\n",
        "        train_loss = epoch_train_loss / len(train_loader)\n",
        "        train_losses.append(train_loss)\n",
        "        train_accuracy = correct_train / total_train\n",
        "        train_accuracies.append(train_accuracy)\n",
        "\n",
        "        # Validation phase\n",
        "        val_accuracy, report, val_loss = evaluate(model, val_loader, device)\n",
        "        print(report)\n",
        "        val_losses.append(val_loss)\n",
        "        val_accuracies.append(val_accuracy)\n",
        "        print(f\"Validation Accuracy: {val_accuracy}, Validation Loss: {val_loss}\")\n",
        "\n",
        "        # Check for early stopping\n",
        "        if val_accuracy > best_val_accuracy:\n",
        "            best_val_accuracy = val_accuracy\n",
        "            consecutive_no_improvement = 0\n",
        "\n",
        "            # Save the checkpoint\n",
        "            torch.save({\n",
        "                'epoch': epoch,\n",
        "                'model_state_dict': model.state_dict(),\n",
        "                'optimizer_state_dict': optimizer.state_dict(),\n",
        "                'scheduler_state_dict': scheduler.state_dict(),\n",
        "                'best_val_accuracy': best_val_accuracy,\n",
        "                'consecutive_no_improvement': consecutive_no_improvement\n",
        "            }, checkpoint_path)\n",
        "\n",
        "        else:\n",
        "            consecutive_no_improvement += 1\n",
        "\n",
        "        if consecutive_no_improvement >= patience:\n",
        "            print(f\"Early stopping after {epoch + 1} epochs without improvement.\")\n",
        "            break\n",
        "        #Visualize saliency maps\n",
        "        # if epoch % 2 == 0:\n",
        "        #     visualize_saliency_maps(batch, saliency_map)\n",
        "\n",
        "    # Plot learning curves\n",
        "    plt.figure(figsize=(15, 10))\n",
        "\n",
        "    plt.subplot(2, 1, 1)\n",
        "    plt.plot(train_losses, label='Training Loss')\n",
        "    plt.plot(val_losses, label='Validation Loss')\n",
        "    plt.xlabel('Epoch')\n",
        "    plt.ylabel('Loss')\n",
        "    plt.title('Loss Curves')\n",
        "    plt.legend()\n",
        "\n",
        "    plt.subplot(2, 1, 2)\n",
        "    plt.plot(train_accuracies, label='Training Accuracy')\n",
        "    plt.plot(val_accuracies, label='Validation Accuracy')\n",
        "    plt.xlabel('Epoch')\n",
        "    plt.ylabel('Accuracy')\n",
        "    plt.title('Accuracy Curves')\n",
        "    plt.legend()\n",
        "\n",
        "    plt.tight_layout()\n",
        "    plt.show()\n",
        "\n",
        "    print(\"Training completed.\")"
      ]
    },
    {
      "cell_type": "code",
      "execution_count": 9,
      "metadata": {
        "id": "wNnnnueVLDdL"
      },
      "outputs": [],
      "source": [
        "bert_model_name = 'indolem/indobert-base-uncased'\n",
        "num_classes = 3\n",
        "max_length = 128\n",
        "batch_size = 16\n",
        "num_epochs = 50\n",
        "learning_rate = 2e-5\n",
        "patience = 5\n",
        "checkpoint_path = \"best_indobert_model.pth\""
      ]
    },
    {
      "cell_type": "code",
      "execution_count": 10,
      "metadata": {},
      "outputs": [],
      "source": [
        "tokenizer = BertTokenizer.from_pretrained(bert_model_name)\n",
        "train_dataset = TextClassificationDataset(train_texts, train_labels, tokenizer, max_length)\n",
        "val_dataset = TextClassificationDataset(val_texts, val_labels, tokenizer, max_length)\n",
        "train_dataloader = DataLoader(train_dataset, batch_size=batch_size, shuffle=True)\n",
        "val_dataloader = DataLoader(val_dataset, batch_size=batch_size)"
      ]
    },
    {
      "cell_type": "code",
      "execution_count": 11,
      "metadata": {
        "id": "DmNI31RbMU2l"
      },
      "outputs": [
        {
          "name": "stdout",
          "output_type": "stream",
          "text": [
            "BERTClassifier(\n",
            "  (bert): BertModel(\n",
            "    (embeddings): BertEmbeddings(\n",
            "      (word_embeddings): Embedding(31923, 768, padding_idx=0)\n",
            "      (position_embeddings): Embedding(512, 768)\n",
            "      (token_type_embeddings): Embedding(2, 768)\n",
            "      (LayerNorm): LayerNorm((768,), eps=1e-12, elementwise_affine=True)\n",
            "      (dropout): Dropout(p=0.1, inplace=False)\n",
            "    )\n",
            "    (encoder): BertEncoder(\n",
            "      (layer): ModuleList(\n",
            "        (0-11): 12 x BertLayer(\n",
            "          (attention): BertAttention(\n",
            "            (self): BertSelfAttention(\n",
            "              (query): Linear(in_features=768, out_features=768, bias=True)\n",
            "              (key): Linear(in_features=768, out_features=768, bias=True)\n",
            "              (value): Linear(in_features=768, out_features=768, bias=True)\n",
            "              (dropout): Dropout(p=0.1, inplace=False)\n",
            "            )\n",
            "            (output): BertSelfOutput(\n",
            "              (dense): Linear(in_features=768, out_features=768, bias=True)\n",
            "              (LayerNorm): LayerNorm((768,), eps=1e-12, elementwise_affine=True)\n",
            "              (dropout): Dropout(p=0.1, inplace=False)\n",
            "            )\n",
            "          )\n",
            "          (intermediate): BertIntermediate(\n",
            "            (dense): Linear(in_features=768, out_features=3072, bias=True)\n",
            "            (intermediate_act_fn): GELUActivation()\n",
            "          )\n",
            "          (output): BertOutput(\n",
            "            (dense): Linear(in_features=3072, out_features=768, bias=True)\n",
            "            (LayerNorm): LayerNorm((768,), eps=1e-12, elementwise_affine=True)\n",
            "            (dropout): Dropout(p=0.1, inplace=False)\n",
            "          )\n",
            "        )\n",
            "      )\n",
            "    )\n",
            "    (pooler): BertPooler(\n",
            "      (dense): Linear(in_features=768, out_features=768, bias=True)\n",
            "      (activation): Tanh()\n",
            "    )\n",
            "  )\n",
            "  (dropout): Dropout(p=0.1, inplace=False)\n",
            "  (fc): Linear(in_features=768, out_features=3, bias=True)\n",
            ")\n"
          ]
        }
      ],
      "source": [
        "device = torch.device(\"cuda\" if torch.cuda.is_available() else \"cpu\")\n",
        "freeze_layers = 0\n",
        "model = BERTClassifier(bert_model_name, num_classes, freeze_layers).to(device)\n",
        "print(model)"
      ]
    },
    {
      "cell_type": "code",
      "execution_count": 12,
      "metadata": {
        "colab": {
          "base_uri": "https://localhost:8080/"
        },
        "id": "tGuq3bQ7NFrc",
        "outputId": "9afaa6df-2f09-4977-edff-2f77a68fe24d"
      },
      "outputs": [
        {
          "name": "stderr",
          "output_type": "stream",
          "text": [
            "d:\\CIT\\skripsi cd\\.venv\\lib\\site-packages\\transformers\\optimization.py:429: FutureWarning: This implementation of AdamW is deprecated and will be removed in a future version. Use the PyTorch implementation torch.optim.AdamW instead, or set `no_deprecation_warning=True` to disable this warning\n",
            "  warnings.warn(\n"
          ]
        }
      ],
      "source": [
        "optimizer = AdamW(model.parameters(), lr=learning_rate)\n",
        "total_steps = len(train_dataloader) * num_epochs\n",
        "scheduler = get_linear_schedule_with_warmup(optimizer, num_warmup_steps=0, num_training_steps=total_steps)"
      ]
    },
    {
      "cell_type": "code",
      "execution_count": 13,
      "metadata": {},
      "outputs": [
        {
          "name": "stdout",
          "output_type": "stream",
          "text": [
            "Epoch 1/50\n"
          ]
        },
        {
          "name": "stderr",
          "output_type": "stream",
          "text": [
            "d:\\CIT\\skripsi cd\\.venv\\lib\\site-packages\\sklearn\\metrics\\_classification.py:1471: UndefinedMetricWarning: Precision and F-score are ill-defined and being set to 0.0 in labels with no predicted samples. Use `zero_division` parameter to control this behavior.\n",
            "  _warn_prf(average, modifier, msg_start, len(result))\n",
            "d:\\CIT\\skripsi cd\\.venv\\lib\\site-packages\\sklearn\\metrics\\_classification.py:1471: UndefinedMetricWarning: Precision and F-score are ill-defined and being set to 0.0 in labels with no predicted samples. Use `zero_division` parameter to control this behavior.\n",
            "  _warn_prf(average, modifier, msg_start, len(result))\n",
            "d:\\CIT\\skripsi cd\\.venv\\lib\\site-packages\\sklearn\\metrics\\_classification.py:1471: UndefinedMetricWarning: Precision and F-score are ill-defined and being set to 0.0 in labels with no predicted samples. Use `zero_division` parameter to control this behavior.\n",
            "  _warn_prf(average, modifier, msg_start, len(result))\n"
          ]
        },
        {
          "name": "stdout",
          "output_type": "stream",
          "text": [
            "              precision    recall  f1-score   support\n",
            "\n",
            "           0       0.55      1.00      0.71       683\n",
            "           1       0.60      0.01      0.01       409\n",
            "           2       0.00      0.00      0.00       164\n",
            "\n",
            "    accuracy                           0.55      1256\n",
            "   macro avg       0.38      0.34      0.24      1256\n",
            "weighted avg       0.49      0.55      0.39      1256\n",
            "\n",
            "Validation Accuracy: 0.5453821656050956, Validation Loss: 0.9524398829526962\n",
            "Epoch 2/50\n"
          ]
        },
        {
          "name": "stderr",
          "output_type": "stream",
          "text": [
            "d:\\CIT\\skripsi cd\\.venv\\lib\\site-packages\\sklearn\\metrics\\_classification.py:1471: UndefinedMetricWarning: Precision and F-score are ill-defined and being set to 0.0 in labels with no predicted samples. Use `zero_division` parameter to control this behavior.\n",
            "  _warn_prf(average, modifier, msg_start, len(result))\n",
            "d:\\CIT\\skripsi cd\\.venv\\lib\\site-packages\\sklearn\\metrics\\_classification.py:1471: UndefinedMetricWarning: Precision and F-score are ill-defined and being set to 0.0 in labels with no predicted samples. Use `zero_division` parameter to control this behavior.\n",
            "  _warn_prf(average, modifier, msg_start, len(result))\n",
            "d:\\CIT\\skripsi cd\\.venv\\lib\\site-packages\\sklearn\\metrics\\_classification.py:1471: UndefinedMetricWarning: Precision and F-score are ill-defined and being set to 0.0 in labels with no predicted samples. Use `zero_division` parameter to control this behavior.\n",
            "  _warn_prf(average, modifier, msg_start, len(result))\n"
          ]
        },
        {
          "name": "stdout",
          "output_type": "stream",
          "text": [
            "              precision    recall  f1-score   support\n",
            "\n",
            "           0       0.59      0.76      0.67       683\n",
            "           1       0.40      0.37      0.38       409\n",
            "           2       0.00      0.00      0.00       164\n",
            "\n",
            "    accuracy                           0.53      1256\n",
            "   macro avg       0.33      0.38      0.35      1256\n",
            "weighted avg       0.45      0.53      0.49      1256\n",
            "\n",
            "Validation Accuracy: 0.5342356687898089, Validation Loss: 0.9342519766206194\n",
            "Epoch 3/50\n",
            "              precision    recall  f1-score   support\n",
            "\n",
            "           0       0.58      0.90      0.70       683\n",
            "           1       0.44      0.21      0.28       409\n",
            "           2       0.00      0.00      0.00       164\n",
            "\n",
            "    accuracy                           0.55      1256\n",
            "   macro avg       0.34      0.37      0.33      1256\n",
            "weighted avg       0.46      0.55      0.47      1256\n",
            "\n",
            "Validation Accuracy: 0.5549363057324841, Validation Loss: 0.9542082191272906\n",
            "Epoch 4/50\n",
            "              precision    recall  f1-score   support\n",
            "\n",
            "           0       0.62      0.70      0.66       683\n",
            "           1       0.41      0.44      0.43       409\n",
            "           2       0.20      0.05      0.08       164\n",
            "\n",
            "    accuracy                           0.53      1256\n",
            "   macro avg       0.41      0.40      0.39      1256\n",
            "weighted avg       0.50      0.53      0.51      1256\n",
            "\n",
            "Validation Accuracy: 0.5318471337579618, Validation Loss: 1.0006410741502312\n",
            "Epoch 5/50\n",
            "              precision    recall  f1-score   support\n",
            "\n",
            "           0       0.59      0.70      0.64       683\n",
            "           1       0.41      0.34      0.37       409\n",
            "           2       0.19      0.12      0.15       164\n",
            "\n",
            "    accuracy                           0.51      1256\n",
            "   macro avg       0.40      0.39      0.39      1256\n",
            "weighted avg       0.48      0.51      0.49      1256\n",
            "\n",
            "Validation Accuracy: 0.5063694267515924, Validation Loss: 1.461367288972162\n",
            "Epoch 6/50\n",
            "              precision    recall  f1-score   support\n",
            "\n",
            "           0       0.60      0.60      0.60       683\n",
            "           1       0.39      0.39      0.39       409\n",
            "           2       0.17      0.17      0.17       164\n",
            "\n",
            "    accuracy                           0.48      1256\n",
            "   macro avg       0.39      0.39      0.39      1256\n",
            "weighted avg       0.48      0.48      0.48      1256\n",
            "\n",
            "Validation Accuracy: 0.4785031847133758, Validation Loss: 1.9630742703273798\n",
            "Epoch 7/50\n",
            "              precision    recall  f1-score   support\n",
            "\n",
            "           0       0.60      0.69      0.64       683\n",
            "           1       0.40      0.43      0.42       409\n",
            "           2       0.24      0.06      0.10       164\n",
            "\n",
            "    accuracy                           0.52      1256\n",
            "   macro avg       0.42      0.39      0.39      1256\n",
            "weighted avg       0.49      0.52      0.50      1256\n",
            "\n",
            "Validation Accuracy: 0.5214968152866242, Validation Loss: 2.228435505727294\n",
            "Epoch 8/50\n",
            "              precision    recall  f1-score   support\n",
            "\n",
            "           0       0.60      0.60      0.60       683\n",
            "           1       0.38      0.42      0.40       409\n",
            "           2       0.19      0.13      0.16       164\n",
            "\n",
            "    accuracy                           0.48      1256\n",
            "   macro avg       0.39      0.39      0.39      1256\n",
            "weighted avg       0.47      0.48      0.48      1256\n",
            "\n",
            "Validation Accuracy: 0.482484076433121, Validation Loss: 2.5098958152114967\n",
            "Early stopping after 8 epochs without improvement.\n"
          ]
        },
        {
          "data": {
            "image/png": "[encoded data removed]",
            "text/plain": [
              "<Figure size 1500x1000 with 2 Axes>"
            ]
          },
          "metadata": {},
          "output_type": "display_data"
        },
        {
          "name": "stdout",
          "output_type": "stream",
          "text": [
            "Training completed.\n"
          ]
        }
      ],
      "source": [
        "train(model, train_dataloader, val_dataloader, optimizer, scheduler, device, num_epochs, patience, checkpoint_path)"
      ]
    },
    {
      "cell_type": "markdown",
      "metadata": {},
      "source": [
        "## Save model"
      ]
    },
    {
      "cell_type": "code",
      "execution_count": 14,
      "metadata": {},
      "outputs": [],
      "source": [
        "torch.save(model.state_dict(), 'bert_model2.pth')"
      ]
    },
    {
      "cell_type": "code",
      "execution_count": 15,
      "metadata": {},
      "outputs": [
        {
          "data": {
            "text/plain": [
              "BERTClassifier(\n",
              "  (bert): BertModel(\n",
              "    (embeddings): BertEmbeddings(\n",
              "      (word_embeddings): Embedding(31923, 768, padding_idx=0)\n",
              "      (position_embeddings): Embedding(512, 768)\n",
              "      (token_type_embeddings): Embedding(2, 768)\n",
              "      (LayerNorm): LayerNorm((768,), eps=1e-12, elementwise_affine=True)\n",
              "      (dropout): Dropout(p=0.1, inplace=False)\n",
              "    )\n",
              "    (encoder): BertEncoder(\n",
              "      (layer): ModuleList(\n",
              "        (0-11): 12 x BertLayer(\n",
              "          (attention): BertAttention(\n",
              "            (self): BertSelfAttention(\n",
              "              (query): Linear(in_features=768, out_features=768, bias=True)\n",
              "              (key): Linear(in_features=768, out_features=768, bias=True)\n",
              "              (value): Linear(in_features=768, out_features=768, bias=True)\n",
              "              (dropout): Dropout(p=0.1, inplace=False)\n",
              "            )\n",
              "            (output): BertSelfOutput(\n",
              "              (dense): Linear(in_features=768, out_features=768, bias=True)\n",
              "              (LayerNorm): LayerNorm((768,), eps=1e-12, elementwise_affine=True)\n",
              "              (dropout): Dropout(p=0.1, inplace=False)\n",
              "            )\n",
              "          )\n",
              "          (intermediate): BertIntermediate(\n",
              "            (dense): Linear(in_features=768, out_features=3072, bias=True)\n",
              "            (intermediate_act_fn): GELUActivation()\n",
              "          )\n",
              "          (output): BertOutput(\n",
              "            (dense): Linear(in_features=3072, out_features=768, bias=True)\n",
              "            (LayerNorm): LayerNorm((768,), eps=1e-12, elementwise_affine=True)\n",
              "            (dropout): Dropout(p=0.1, inplace=False)\n",
              "          )\n",
              "        )\n",
              "      )\n",
              "    )\n",
              "    (pooler): BertPooler(\n",
              "      (dense): Linear(in_features=768, out_features=768, bias=True)\n",
              "      (activation): Tanh()\n",
              "    )\n",
              "  )\n",
              "  (dropout): Dropout(p=0.1, inplace=False)\n",
              "  (fc): Linear(in_features=768, out_features=3, bias=True)\n",
              ")"
            ]
          },
          "execution_count": 15,
          "metadata": {},
          "output_type": "execute_result"
        }
      ],
      "source": [
        "# Instantiate the BERT model architecture\n",
        "loaded_model = BERTClassifier(bert_model_name, num_classes)\n",
        "\n",
        "# Load the saved model state dictionary\n",
        "loaded_model.load_state_dict(torch.load('bert_model2.pth'))\n",
        "\n",
        "# Set the model to evaluation mode (important if you have dropout layers)\n",
        "loaded_model.eval()\n",
        "\n",
        "# Move the model to the desired device (CPU or GPU)\n",
        "loaded_model.to(device)"
      ]
    },
    {
      "cell_type": "markdown",
      "metadata": {},
      "source": [
        "## Test model"
      ]
    },
    {
      "cell_type": "code",
      "execution_count": 16,
      "metadata": {
        "id": "34NJH6IKAqWr"
      },
      "outputs": [],
      "source": [
        "def predict_sentiment(text, model, tokenizer, device, max_length=128):\n",
        "    model.eval()\n",
        "    encoding = tokenizer(text, return_tensors='pt', max_length=max_length, padding='max_length', truncation=True)\n",
        "    input_ids = encoding['input_ids'].to(device)\n",
        "    attention_mask = encoding['attention_mask'].to(device)\n",
        "\n",
        "    with torch.no_grad():\n",
        "        outputs = model(input_ids=input_ids, attention_mask=attention_mask)\n",
        "        _, preds = torch.max(outputs, dim=1)\n",
        "        print(preds)\n",
        "        print(preds.item())\n",
        "    if preds.item() == 0:\n",
        "        return \"positive\"\n",
        "    elif preds.item() == 1:\n",
        "        return \"neutral\"\n",
        "    else:\n",
        "        return \"negative\""
      ]
    },
    {
      "cell_type": "code",
      "execution_count": 17,
      "metadata": {},
      "outputs": [
        {
          "name": "stdout",
          "output_type": "stream",
          "text": [
            "tensor([1])\n",
            "1\n",
            "neutral\n"
          ]
        }
      ],
      "source": [
        "device = torch.device(\"cuda\" if torch.cuda.is_available() else \"cpu\")\n",
        "\n",
        "print(predict_sentiment(\"bank mega jelek banget pelayanannya\", loaded_model, tokenizer, device))"
      ]
    },
    {
      "cell_type": "markdown",
      "metadata": {},
      "source": [
        "# Check last BERT layer"
      ]
    },
    {
      "cell_type": "code",
      "execution_count": 18,
      "metadata": {},
      "outputs": [
        {
          "name": "stdout",
          "output_type": "stream",
          "text": [
            "Parameter containing:\n",
            "tensor([[ 0.0689,  0.0189,  0.0165,  ...,  0.0400, -0.0020, -0.0178],\n",
            "        [ 0.0153,  0.0355, -0.0269,  ..., -0.0227,  0.0060, -0.0521],\n",
            "        [-0.0291, -0.0510, -0.0291,  ..., -0.0312, -0.0193, -0.0641],\n",
            "        ...,\n",
            "        [-0.0168, -0.0012,  0.0832,  ...,  0.0555,  0.0214, -0.0211],\n",
            "        [ 0.0209,  0.0067, -0.0119,  ...,  0.0427, -0.0628, -0.0385],\n",
            "        [ 0.0015,  0.0131, -0.0260,  ...,  0.0237,  0.0370, -0.0185]],\n",
            "       requires_grad=True)\n"
          ]
        }
      ],
      "source": [
        "last_layer_weights = model.bert.encoder.layer[-1].output.dense.weight\n",
        "print(last_layer_weights)"
      ]
    },
    {
      "cell_type": "code",
      "execution_count": 19,
      "metadata": {},
      "outputs": [],
      "source": [
        "def predict_sentiment2(text, model, tokenizer, device, max_length=128):\n",
        "    model.eval()\n",
        "    encoding = tokenizer(text, return_tensors='pt', max_length=max_length, padding='max_length', truncation=True)\n",
        "    input_ids = encoding['input_ids'].to(device)\n",
        "    attention_mask = encoding['attention_mask'].to(device)\n",
        "\n",
        "    with torch.no_grad():\n",
        "        outputs = model(input_ids=input_ids, attention_mask=attention_mask)\n",
        "        _, preds = torch.max(outputs, dim=1)\n",
        "        last_hidden_states = outputs.last_hidden_state\n",
        "        pooler_output = outputs.pooler_output\n",
        "        hidden_states = outputs.hidden_states\n",
        "        attentions = outputs.attentions\n",
        "        print(last_hidden_states)\n",
        "        print(pooler_output)\n",
        "        print(hidden_states)\n",
        "        print(attentions)\n",
        "    if preds.item() == 0:\n",
        "        return \"positive\"\n",
        "    elif preds.item() == 1:\n",
        "        return \"neutral\"\n",
        "    else:\n",
        "        return \"negative\""
      ]
    },
    {
      "cell_type": "code",
      "execution_count": 20,
      "metadata": {},
      "outputs": [
        {
          "ename": "AttributeError",
          "evalue": "'Tensor' object has no attribute 'last_hidden_state'",
          "output_type": "error",
          "traceback": [
            "\u001b[1;31m---------------------------------------------------------------------------\u001b[0m",
            "\u001b[1;31mAttributeError\u001b[0m                            Traceback (most recent call last)",
            "Cell \u001b[1;32mIn[20], line 1\u001b[0m\n\u001b[1;32m----> 1\u001b[0m \u001b[38;5;28mprint\u001b[39m(\u001b[43mpredict_sentiment2\u001b[49m\u001b[43m(\u001b[49m\u001b[38;5;124;43m\"\u001b[39;49m\u001b[38;5;124;43mbank mega jelek banget pelayanannya\u001b[39;49m\u001b[38;5;124;43m\"\u001b[39;49m\u001b[43m,\u001b[49m\u001b[43m \u001b[49m\u001b[43mloaded_model\u001b[49m\u001b[43m,\u001b[49m\u001b[43m \u001b[49m\u001b[43mtokenizer\u001b[49m\u001b[43m,\u001b[49m\u001b[43m \u001b[49m\u001b[43mdevice\u001b[49m\u001b[43m)\u001b[49m)\n",
            "Cell \u001b[1;32mIn[19], line 10\u001b[0m, in \u001b[0;36mpredict_sentiment2\u001b[1;34m(text, model, tokenizer, device, max_length)\u001b[0m\n\u001b[0;32m      8\u001b[0m outputs \u001b[38;5;241m=\u001b[39m model(input_ids\u001b[38;5;241m=\u001b[39minput_ids, attention_mask\u001b[38;5;241m=\u001b[39mattention_mask)\n\u001b[0;32m      9\u001b[0m _, preds \u001b[38;5;241m=\u001b[39m torch\u001b[38;5;241m.\u001b[39mmax(outputs, dim\u001b[38;5;241m=\u001b[39m\u001b[38;5;241m1\u001b[39m)\n\u001b[1;32m---> 10\u001b[0m last_hidden_states \u001b[38;5;241m=\u001b[39m \u001b[43moutputs\u001b[49m\u001b[38;5;241;43m.\u001b[39;49m\u001b[43mlast_hidden_state\u001b[49m\n\u001b[0;32m     11\u001b[0m pooler_output \u001b[38;5;241m=\u001b[39m outputs\u001b[38;5;241m.\u001b[39mpooler_output\n\u001b[0;32m     12\u001b[0m hidden_states \u001b[38;5;241m=\u001b[39m outputs\u001b[38;5;241m.\u001b[39mhidden_states\n",
            "\u001b[1;31mAttributeError\u001b[0m: 'Tensor' object has no attribute 'last_hidden_state'"
          ]
        }
      ],
      "source": [
        "print(predict_sentiment2(\"bank mega jelek banget pelayanannya\", loaded_model, tokenizer, device))"
      ]
    },
    {
      "cell_type": "code",
      "execution_count": null,
      "metadata": {},
      "outputs": [],
      "source": []
    }
  ],
  "metadata": {
    "accelerator": "GPU",
    "colab": {
      "gpuType": "T4",
      "provenance": []
    },
    "kernelspec": {
      "display_name": "Python 3",
      "name": "python3"
    },
    "language_info": {
      "codemirror_mode": {
        "name": "ipython",
        "version": 3
      },
      "file_extension": ".py",
      "mimetype": "text/x-python",
      "name": "python",
      "nbconvert_exporter": "python",
      "pygments_lexer": "ipython3",
      "version": "3.9.7"
    }
  },
  "nbformat": 4,
  "nbformat_minor": 0
}
