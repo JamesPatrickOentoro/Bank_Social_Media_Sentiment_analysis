{
  "cells": [
    {
      "cell_type": "code",
      "execution_count": 1,
      "metadata": {
        "id": "8HNUE5fXIb-W"
      },
      "outputs": [
        {
          "name": "stderr",
          "output_type": "stream",
          "text": [
            "d:\\CIT\\skripsi cd\\.venv\\lib\\site-packages\\tqdm\\auto.py:21: TqdmWarning: IProgress not found. Please update jupyter and ipywidgets. See https://ipywidgets.readthedocs.io/en/stable/user_install.html\n",
            "  from .autonotebook import tqdm as notebook_tqdm\n"
          ]
        }
      ],
      "source": [
        "import torch\n",
        "from torch import nn\n",
        "from torch.utils.data import DataLoader, Dataset\n",
        "from transformers import BertTokenizer, BertModel, AdamW, get_linear_schedule_with_warmup\n",
        "from sklearn.model_selection import train_test_split\n",
        "from sklearn.metrics import accuracy_score, classification_report\n",
        "import pandas as pd\n",
        "from sklearn.model_selection import train_test_split\n",
        "from sklearn.metrics import accuracy_score, recall_score, precision_score, f1_score\n",
        "import torch\n",
        "from transformers import BertTokenizer, BertModel\n",
        "from sklearn.preprocessing import LabelEncoder"
      ]
    },
    {
      "cell_type": "markdown",
      "metadata": {},
      "source": [
        "# Initiate Dataset"
      ]
    },
    {
      "cell_type": "code",
      "execution_count": 2,
      "metadata": {
        "colab": {
          "base_uri": "https://localhost:8080/",
          "height": 206
        },
        "id": "ZLuKyvHJ47xK",
        "outputId": "c854bd43-9109-4a56-ce0d-fa4e3d2e7544"
      },
      "outputs": [
        {
          "data": {
            "text/html": [
              "<div>\n",
              "<style scoped>\n",
              "    .dataframe tbody tr th:only-of-type {\n",
              "        vertical-align: middle;\n",
              "    }\n",
              "\n",
              "    .dataframe tbody tr th {\n",
              "        vertical-align: top;\n",
              "    }\n",
              "\n",
              "    .dataframe thead th {\n",
              "        text-align: right;\n",
              "    }\n",
              "</style>\n",
              "<table border=\"1\" class=\"dataframe\">\n",
              "  <thead>\n",
              "    <tr style=\"text-align: right;\">\n",
              "      <th></th>\n",
              "      <th>no</th>\n",
              "      <th>comments</th>\n",
              "      <th>bank</th>\n",
              "      <th>date</th>\n",
              "      <th>platform</th>\n",
              "      <th>label</th>\n",
              "      <th>topik</th>\n",
              "      <th>Unnamed: 7</th>\n",
              "    </tr>\n",
              "  </thead>\n",
              "  <tbody>\n",
              "    <tr>\n",
              "      <th>0</th>\n",
              "      <td>1</td>\n",
              "      <td>keren sekali transmart bintang melanda bintang...</td>\n",
              "      <td>Bank Mega</td>\n",
              "      <td>2023-05-07</td>\n",
              "      <td>Instagram</td>\n",
              "      <td>0</td>\n",
              "      <td>service</td>\n",
              "      <td>NaN</td>\n",
              "    </tr>\n",
              "    <tr>\n",
              "      <th>1</th>\n",
              "      <td>2</td>\n",
              "      <td>tidak pernah kabari menerapkan</td>\n",
              "      <td>Bank Mega</td>\n",
              "      <td>2023-05-07</td>\n",
              "      <td>Instagram</td>\n",
              "      <td>2</td>\n",
              "      <td>cc</td>\n",
              "      <td>NaN</td>\n",
              "    </tr>\n",
              "    <tr>\n",
              "      <th>2</th>\n",
              "      <td>3</td>\n",
              "      <td>keren bht</td>\n",
              "      <td>Bank Mega</td>\n",
              "      <td>2023-05-07</td>\n",
              "      <td>Instagram</td>\n",
              "      <td>0</td>\n",
              "      <td>service</td>\n",
              "      <td>NaN</td>\n",
              "    </tr>\n",
              "    <tr>\n",
              "      <th>3</th>\n",
              "      <td>4</td>\n",
              "      <td>transmart makssar masih kurang lengkap barangnya</td>\n",
              "      <td>Bank Mega</td>\n",
              "      <td>2023-05-07</td>\n",
              "      <td>Instagram</td>\n",
              "      <td>2</td>\n",
              "      <td>service</td>\n",
              "      <td>NaN</td>\n",
              "    </tr>\n",
              "    <tr>\n",
              "      <th>4</th>\n",
              "      <td>5</td>\n",
              "      <td>dan transmart keren oke wajah tersenyum dengan...</td>\n",
              "      <td>Bank Mega</td>\n",
              "      <td>2023-05-07</td>\n",
              "      <td>Instagram</td>\n",
              "      <td>0</td>\n",
              "      <td>service</td>\n",
              "      <td>NaN</td>\n",
              "    </tr>\n",
              "  </tbody>\n",
              "</table>\n",
              "</div>"
            ],
            "text/plain": [
              "   no                                           comments       bank  \\\n",
              "0   1  keren sekali transmart bintang melanda bintang...  Bank Mega   \n",
              "1   2                     tidak pernah kabari menerapkan  Bank Mega   \n",
              "2   3                                          keren bht  Bank Mega   \n",
              "3   4   transmart makssar masih kurang lengkap barangnya  Bank Mega   \n",
              "4   5  dan transmart keren oke wajah tersenyum dengan...  Bank Mega   \n",
              "\n",
              "        date   platform  label    topik  Unnamed: 7  \n",
              "0 2023-05-07  Instagram      0  service         NaN  \n",
              "1 2023-05-07  Instagram      2       cc         NaN  \n",
              "2 2023-05-07  Instagram      0  service         NaN  \n",
              "3 2023-05-07  Instagram      2  service         NaN  \n",
              "4 2023-05-07  Instagram      0  service         NaN  "
            ]
          },
          "execution_count": 2,
          "metadata": {},
          "output_type": "execute_result"
        }
      ],
      "source": [
        "# https://www.kaggle.com/competitions/jigsaw-toxic-comment-classification-challenge/data\n",
        "df = pd.read_excel(\"output_file.xlsx\",sheet_name=\"Sheet1\")\n",
        "df.head()"
      ]
    },
    {
      "cell_type": "code",
      "execution_count": 3,
      "metadata": {
        "id": "vWHj7tkRG0Je"
      },
      "outputs": [],
      "source": [
        "class TextClassificationDataset(Dataset):\n",
        "    def __init__(self, texts, labels, tokenizer, max_length):\n",
        "            self.texts = texts\n",
        "            self.labels = labels\n",
        "            self.tokenizer = tokenizer\n",
        "            self.max_length = max_length\n",
        "    def __len__(self):\n",
        "        return len(self.texts)\n",
        "    def __getitem__(self, idx):\n",
        "        text = self.texts[idx]\n",
        "        label = self.labels[idx]\n",
        "        # print(self.texts, len(self.texts))\n",
        "        # print(text, label, idx)\n",
        "        encoding = self.tokenizer(text, return_tensors='pt', max_length=self.max_length, padding='max_length', truncation=True)\n",
        "        return {'input_ids': encoding['input_ids'].flatten(), 'attention_mask': encoding['attention_mask'].flatten(), 'label': torch.tensor(label)}"
      ]
    },
    {
      "cell_type": "markdown",
      "metadata": {},
      "source": [
        "## Train Validation Split"
      ]
    },
    {
      "cell_type": "code",
      "execution_count": 4,
      "metadata": {},
      "outputs": [],
      "source": [
        "label_encoder = LabelEncoder()\n",
        "df['topik'] = label_encoder.fit_transform(df['topik'])\n",
        "df = df.rename(columns={'label': 'sentiment'})"
      ]
    },
    {
      "cell_type": "code",
      "execution_count": 5,
      "metadata": {},
      "outputs": [
        {
          "data": {
            "text/html": [
              "<div>\n",
              "<style scoped>\n",
              "    .dataframe tbody tr th:only-of-type {\n",
              "        vertical-align: middle;\n",
              "    }\n",
              "\n",
              "    .dataframe tbody tr th {\n",
              "        vertical-align: top;\n",
              "    }\n",
              "\n",
              "    .dataframe thead th {\n",
              "        text-align: right;\n",
              "    }\n",
              "</style>\n",
              "<table border=\"1\" class=\"dataframe\">\n",
              "  <thead>\n",
              "    <tr style=\"text-align: right;\">\n",
              "      <th></th>\n",
              "      <th>no</th>\n",
              "      <th>comments</th>\n",
              "      <th>bank</th>\n",
              "      <th>date</th>\n",
              "      <th>platform</th>\n",
              "      <th>sentiment</th>\n",
              "      <th>topik</th>\n",
              "      <th>Unnamed: 7</th>\n",
              "    </tr>\n",
              "  </thead>\n",
              "  <tbody>\n",
              "    <tr>\n",
              "      <th>0</th>\n",
              "      <td>1</td>\n",
              "      <td>keren sekali transmart bintang melanda bintang...</td>\n",
              "      <td>Bank Mega</td>\n",
              "      <td>2023-05-07</td>\n",
              "      <td>Instagram</td>\n",
              "      <td>0</td>\n",
              "      <td>2</td>\n",
              "      <td>NaN</td>\n",
              "    </tr>\n",
              "    <tr>\n",
              "      <th>1</th>\n",
              "      <td>2</td>\n",
              "      <td>tidak pernah kabari menerapkan</td>\n",
              "      <td>Bank Mega</td>\n",
              "      <td>2023-05-07</td>\n",
              "      <td>Instagram</td>\n",
              "      <td>2</td>\n",
              "      <td>0</td>\n",
              "      <td>NaN</td>\n",
              "    </tr>\n",
              "    <tr>\n",
              "      <th>2</th>\n",
              "      <td>3</td>\n",
              "      <td>keren bht</td>\n",
              "      <td>Bank Mega</td>\n",
              "      <td>2023-05-07</td>\n",
              "      <td>Instagram</td>\n",
              "      <td>0</td>\n",
              "      <td>2</td>\n",
              "      <td>NaN</td>\n",
              "    </tr>\n",
              "    <tr>\n",
              "      <th>3</th>\n",
              "      <td>4</td>\n",
              "      <td>transmart makssar masih kurang lengkap barangnya</td>\n",
              "      <td>Bank Mega</td>\n",
              "      <td>2023-05-07</td>\n",
              "      <td>Instagram</td>\n",
              "      <td>2</td>\n",
              "      <td>2</td>\n",
              "      <td>NaN</td>\n",
              "    </tr>\n",
              "    <tr>\n",
              "      <th>4</th>\n",
              "      <td>5</td>\n",
              "      <td>dan transmart keren oke wajah tersenyum dengan...</td>\n",
              "      <td>Bank Mega</td>\n",
              "      <td>2023-05-07</td>\n",
              "      <td>Instagram</td>\n",
              "      <td>0</td>\n",
              "      <td>2</td>\n",
              "      <td>NaN</td>\n",
              "    </tr>\n",
              "  </tbody>\n",
              "</table>\n",
              "</div>"
            ],
            "text/plain": [
              "   no                                           comments       bank  \\\n",
              "0   1  keren sekali transmart bintang melanda bintang...  Bank Mega   \n",
              "1   2                     tidak pernah kabari menerapkan  Bank Mega   \n",
              "2   3                                          keren bht  Bank Mega   \n",
              "3   4   transmart makssar masih kurang lengkap barangnya  Bank Mega   \n",
              "4   5  dan transmart keren oke wajah tersenyum dengan...  Bank Mega   \n",
              "\n",
              "        date   platform  sentiment  topik  Unnamed: 7  \n",
              "0 2023-05-07  Instagram          0      2         NaN  \n",
              "1 2023-05-07  Instagram          2      0         NaN  \n",
              "2 2023-05-07  Instagram          0      2         NaN  \n",
              "3 2023-05-07  Instagram          2      2         NaN  \n",
              "4 2023-05-07  Instagram          0      2         NaN  "
            ]
          },
          "execution_count": 5,
          "metadata": {},
          "output_type": "execute_result"
        }
      ],
      "source": [
        "df.head()"
      ]
    },
    {
      "cell_type": "code",
      "execution_count": 6,
      "metadata": {},
      "outputs": [],
      "source": [
        "train_df, val_df = train_test_split(df, test_size=0.2, random_state=42)\n",
        "\n",
        "# Reset index for both train and validation sets\n",
        "train_df.reset_index(drop=True, inplace=True)\n",
        "val_df.reset_index(drop=True, inplace=True)\n",
        "\n",
        "# Extract texts and labels\n",
        "train_texts, train_labels = train_df[\"comments\"], train_df[\"topik\"]\n",
        "val_texts, val_labels = val_df[\"comments\"], val_df[\"topik\"]"
      ]
    },
    {
      "cell_type": "markdown",
      "metadata": {},
      "source": [
        "# BERT Model"
      ]
    },
    {
      "cell_type": "code",
      "execution_count": 7,
      "metadata": {
        "id": "UzuMYgS6fZNE"
      },
      "outputs": [],
      "source": [
        "class BERTClassifier(nn.Module):\n",
        "    def __init__(self, bert_model_name, num_classes):\n",
        "        super(BERTClassifier, self).__init__()\n",
        "        self.bert = BertModel.from_pretrained(bert_model_name)\n",
        "        self.dropout = nn.Dropout(0.1)\n",
        "        self.fc = nn.Linear(self.bert.config.hidden_size, num_classes) #add classification layer\n",
        "\n",
        "    def forward(self, input_ids, attention_mask):\n",
        "            outputs = self.bert(input_ids=input_ids, attention_mask=attention_mask)\n",
        "            last_hidden_states = outputs.last_hidden_state\n",
        "            hidden_states = outputs.hidden_states\n",
        "            attentions = outputs.attentions\n",
        "            pooled_output = outputs.pooler_output\n",
        "            x = self.dropout(pooled_output)\n",
        "            logits = self.fc(x)\n",
        "            # print(last_hidden_states)\n",
        "            # print(hidden_states)\n",
        "            # print(attentions)\n",
        "            # print(pooled_output)\n",
        "            # print(logits)\n",
        "            return logits"
      ]
    },
    {
      "cell_type": "code",
      "execution_count": 8,
      "metadata": {
        "id": "owRFx6MwKTET"
      },
      "outputs": [],
      "source": [
        "# def train(model, data_loader, optimizer, scheduler, device):\n",
        "#     model.train()\n",
        "#     for batch in data_loader:\n",
        "#         optimizer.zero_grad()\n",
        "#         input_ids = batch['input_ids'].to(device)\n",
        "#         attention_mask = batch['attention_mask'].to(device)\n",
        "#         labels = batch['label'].to(device).long()\n",
        "#         outputs = model(input_ids=input_ids, attention_mask=attention_mask)\n",
        "#         loss = nn.CrossEntropyLoss()(outputs, labels)\n",
        "#         loss.backward()\n",
        "#         optimizer.step()\n",
        "#         scheduler.step()"
      ]
    },
    {
      "cell_type": "code",
      "execution_count": 9,
      "metadata": {
        "id": "gtqfE6lyK0mp"
      },
      "outputs": [],
      "source": [
        "def evaluate(model, data_loader, device):\n",
        "    model.eval()\n",
        "    predictions = []\n",
        "    actual_labels = []\n",
        "    with torch.no_grad():\n",
        "        for batch in data_loader:\n",
        "            input_ids = batch['input_ids'].to(device)\n",
        "            attention_mask = batch['attention_mask'].to(device)\n",
        "            labels = batch['label'].to(device).long()\n",
        "            outputs = model(input_ids=input_ids, attention_mask=attention_mask)\n",
        "            _, preds = torch.max(outputs, dim=1)\n",
        "            predictions.extend(preds.cpu().tolist())\n",
        "            actual_labels.extend(labels.cpu().tolist())\n",
        "    return accuracy_score(actual_labels, predictions), classification_report(actual_labels, predictions)"
      ]
    },
    {
      "cell_type": "code",
      "execution_count": 10,
      "metadata": {},
      "outputs": [],
      "source": [
        "import torch\n",
        "\n",
        "def train(model, train_loader, val_loader, optimizer, scheduler, device, num_epochs, patience, checkpoint_path):\n",
        "    model.train()\n",
        "    best_val_accuracy = 0.0\n",
        "    consecutive_no_improvement = 0\n",
        "\n",
        "    for epoch in range(num_epochs):\n",
        "        print(f\"Epoch {epoch + 1}/{num_epochs}\")\n",
        "\n",
        "        # Training phase\n",
        "        for batch in train_loader:\n",
        "            optimizer.zero_grad()\n",
        "            input_ids = batch['input_ids'].to(device)\n",
        "            attention_mask = batch['attention_mask'].to(device)\n",
        "            labels = batch['label'].to(device).long()\n",
        "            outputs = model(input_ids=input_ids, attention_mask=attention_mask)\n",
        "            loss = nn.CrossEntropyLoss()(outputs, labels)\n",
        "            loss.backward()\n",
        "            optimizer.step()\n",
        "            scheduler.step()\n",
        "\n",
        "        # Validation phase\n",
        "        val_accuracy, report = evaluate(model, val_loader, device)\n",
        "        print(f\"Validation Accuracy: {val_accuracy:.4f}\")\n",
        "        print(report)\n",
        "\n",
        "        # Check for early stopping\n",
        "        if val_accuracy > best_val_accuracy:\n",
        "            best_val_accuracy = val_accuracy\n",
        "            consecutive_no_improvement = 0\n",
        "\n",
        "            # Save the checkpoint\n",
        "            torch.save({\n",
        "                'epoch': epoch,\n",
        "                'model_state_dict': model.state_dict(),\n",
        "                'optimizer_state_dict': optimizer.state_dict(),\n",
        "                'scheduler_state_dict': scheduler.state_dict(),\n",
        "                'best_val_accuracy': best_val_accuracy,\n",
        "                'consecutive_no_improvement': consecutive_no_improvement\n",
        "            }, checkpoint_path)\n",
        "\n",
        "        else:\n",
        "            consecutive_no_improvement += 1\n",
        "\n",
        "        if consecutive_no_improvement >= patience:\n",
        "            print(f\"Early stopping after {epoch + 1} epochs without improvement.\")\n",
        "            break\n",
        "\n",
        "    print(\"Training completed.\")"
      ]
    },
    {
      "cell_type": "code",
      "execution_count": 11,
      "metadata": {
        "id": "wNnnnueVLDdL"
      },
      "outputs": [],
      "source": [
        "bert_model_name = 'indolem/indobert-base-uncased'\n",
        "num_classes = 3\n",
        "max_length = 128\n",
        "batch_size = 16\n",
        "num_epochs = 20\n",
        "learning_rate = 2e-5\n",
        "patience = 2\n",
        "checkpoint_path = \"best_indobert_model.pth\""
      ]
    },
    {
      "cell_type": "code",
      "execution_count": 12,
      "metadata": {},
      "outputs": [],
      "source": [
        "tokenizer = BertTokenizer.from_pretrained(bert_model_name)\n",
        "train_dataset = TextClassificationDataset(train_texts, train_labels, tokenizer, max_length)\n",
        "val_dataset = TextClassificationDataset(val_texts, val_labels, tokenizer, max_length)\n",
        "train_dataloader = DataLoader(train_dataset, batch_size=batch_size, shuffle=True)\n",
        "val_dataloader = DataLoader(val_dataset, batch_size=batch_size)"
      ]
    },
    {
      "cell_type": "code",
      "execution_count": 13,
      "metadata": {
        "id": "DmNI31RbMU2l"
      },
      "outputs": [],
      "source": [
        "device = torch.device(\"cuda\" if torch.cuda.is_available() else \"cpu\")\n",
        "model = BERTClassifier(bert_model_name, num_classes).to(device)"
      ]
    },
    {
      "cell_type": "code",
      "execution_count": 14,
      "metadata": {
        "colab": {
          "base_uri": "https://localhost:8080/"
        },
        "id": "tGuq3bQ7NFrc",
        "outputId": "9afaa6df-2f09-4977-edff-2f77a68fe24d"
      },
      "outputs": [
        {
          "name": "stderr",
          "output_type": "stream",
          "text": [
            "d:\\CIT\\skripsi cd\\.venv\\lib\\site-packages\\transformers\\optimization.py:429: FutureWarning: This implementation of AdamW is deprecated and will be removed in a future version. Use the PyTorch implementation torch.optim.AdamW instead, or set `no_deprecation_warning=True` to disable this warning\n",
            "  warnings.warn(\n"
          ]
        }
      ],
      "source": [
        "optimizer = AdamW(model.parameters(), lr=learning_rate)\n",
        "total_steps = len(train_dataloader) * num_epochs\n",
        "scheduler = get_linear_schedule_with_warmup(optimizer, num_warmup_steps=0, num_training_steps=total_steps)"
      ]
    },
    {
      "cell_type": "code",
      "execution_count": 15,
      "metadata": {},
      "outputs": [
        {
          "name": "stdout",
          "output_type": "stream",
          "text": [
            "Epoch 1/20\n"
          ]
        },
        {
          "name": "stderr",
          "output_type": "stream",
          "text": [
            "d:\\CIT\\skripsi cd\\.venv\\lib\\site-packages\\sklearn\\metrics\\_classification.py:1471: UndefinedMetricWarning: Precision and F-score are ill-defined and being set to 0.0 in labels with no predicted samples. Use `zero_division` parameter to control this behavior.\n",
            "  _warn_prf(average, modifier, msg_start, len(result))\n",
            "d:\\CIT\\skripsi cd\\.venv\\lib\\site-packages\\sklearn\\metrics\\_classification.py:1471: UndefinedMetricWarning: Precision and F-score are ill-defined and being set to 0.0 in labels with no predicted samples. Use `zero_division` parameter to control this behavior.\n",
            "  _warn_prf(average, modifier, msg_start, len(result))\n",
            "d:\\CIT\\skripsi cd\\.venv\\lib\\site-packages\\sklearn\\metrics\\_classification.py:1471: UndefinedMetricWarning: Precision and F-score are ill-defined and being set to 0.0 in labels with no predicted samples. Use `zero_division` parameter to control this behavior.\n",
            "  _warn_prf(average, modifier, msg_start, len(result))\n"
          ]
        },
        {
          "name": "stdout",
          "output_type": "stream",
          "text": [
            "Validation Accuracy: 0.7660\n",
            "              precision    recall  f1-score   support\n",
            "\n",
            "           0       0.00      0.00      0.00        25\n",
            "           1       0.00      0.00      0.00         8\n",
            "           2       0.77      1.00      0.87       108\n",
            "\n",
            "    accuracy                           0.77       141\n",
            "   macro avg       0.26      0.33      0.29       141\n",
            "weighted avg       0.59      0.77      0.66       141\n",
            "\n",
            "Epoch 2/20\n",
            "Validation Accuracy: 0.7943\n",
            "              precision    recall  f1-score   support\n",
            "\n",
            "           0       0.67      0.56      0.61        25\n",
            "           1       0.33      0.88      0.48         8\n",
            "           2       0.92      0.84      0.88       108\n",
            "\n",
            "    accuracy                           0.79       141\n",
            "   macro avg       0.64      0.76      0.66       141\n",
            "weighted avg       0.84      0.79      0.81       141\n",
            "\n",
            "Epoch 3/20\n",
            "Validation Accuracy: 0.8440\n",
            "              precision    recall  f1-score   support\n",
            "\n",
            "           0       0.80      0.48      0.60        25\n",
            "           1       0.67      0.25      0.36         8\n",
            "           2       0.85      0.97      0.91       108\n",
            "\n",
            "    accuracy                           0.84       141\n",
            "   macro avg       0.77      0.57      0.62       141\n",
            "weighted avg       0.83      0.84      0.82       141\n",
            "\n",
            "Epoch 4/20\n",
            "Validation Accuracy: 0.8723\n",
            "              precision    recall  f1-score   support\n",
            "\n",
            "           0       0.72      0.72      0.72        25\n",
            "           1       0.75      0.75      0.75         8\n",
            "           2       0.92      0.92      0.92       108\n",
            "\n",
            "    accuracy                           0.87       141\n",
            "   macro avg       0.80      0.80      0.80       141\n",
            "weighted avg       0.87      0.87      0.87       141\n",
            "\n",
            "Epoch 5/20\n",
            "Validation Accuracy: 0.8652\n",
            "              precision    recall  f1-score   support\n",
            "\n",
            "           0       0.65      0.68      0.67        25\n",
            "           1       0.88      0.88      0.88         8\n",
            "           2       0.92      0.91      0.91       108\n",
            "\n",
            "    accuracy                           0.87       141\n",
            "   macro avg       0.81      0.82      0.82       141\n",
            "weighted avg       0.87      0.87      0.87       141\n",
            "\n",
            "Epoch 6/20\n",
            "Validation Accuracy: 0.8511\n",
            "              precision    recall  f1-score   support\n",
            "\n",
            "           0       0.63      0.76      0.69        25\n",
            "           1       0.75      0.75      0.75         8\n",
            "           2       0.92      0.88      0.90       108\n",
            "\n",
            "    accuracy                           0.85       141\n",
            "   macro avg       0.77      0.80      0.78       141\n",
            "weighted avg       0.86      0.85      0.85       141\n",
            "\n",
            "Early stopping after 6 epochs without improvement.\n",
            "Training completed.\n"
          ]
        }
      ],
      "source": [
        "train(model, train_dataloader, val_dataloader, optimizer, scheduler, device, num_epochs, patience, checkpoint_path)"
      ]
    },
    {
      "cell_type": "markdown",
      "metadata": {},
      "source": [
        "## Save model"
      ]
    },
    {
      "cell_type": "code",
      "execution_count": 18,
      "metadata": {},
      "outputs": [],
      "source": [
        "torch.save(model.state_dict(), 'bert_model_topic1.pth')"
      ]
    },
    {
      "cell_type": "code",
      "execution_count": null,
      "metadata": {},
      "outputs": [
        {
          "data": {
            "text/plain": [
              "BERTClassifier(\n",
              "  (bert): BertModel(\n",
              "    (embeddings): BertEmbeddings(\n",
              "      (word_embeddings): Embedding(32000, 768, padding_idx=0)\n",
              "      (position_embeddings): Embedding(512, 768)\n",
              "      (token_type_embeddings): Embedding(2, 768)\n",
              "      (LayerNorm): LayerNorm((768,), eps=1e-12, elementwise_affine=True)\n",
              "      (dropout): Dropout(p=0.1, inplace=False)\n",
              "    )\n",
              "    (encoder): BertEncoder(\n",
              "      (layer): ModuleList(\n",
              "        (0-11): 12 x BertLayer(\n",
              "          (attention): BertAttention(\n",
              "            (self): BertSelfAttention(\n",
              "              (query): Linear(in_features=768, out_features=768, bias=True)\n",
              "              (key): Linear(in_features=768, out_features=768, bias=True)\n",
              "              (value): Linear(in_features=768, out_features=768, bias=True)\n",
              "              (dropout): Dropout(p=0.1, inplace=False)\n",
              "            )\n",
              "            (output): BertSelfOutput(\n",
              "              (dense): Linear(in_features=768, out_features=768, bias=True)\n",
              "              (LayerNorm): LayerNorm((768,), eps=1e-12, elementwise_affine=True)\n",
              "              (dropout): Dropout(p=0.1, inplace=False)\n",
              "            )\n",
              "          )\n",
              "          (intermediate): BertIntermediate(\n",
              "            (dense): Linear(in_features=768, out_features=3072, bias=True)\n",
              "            (intermediate_act_fn): GELUActivation()\n",
              "          )\n",
              "          (output): BertOutput(\n",
              "            (dense): Linear(in_features=3072, out_features=768, bias=True)\n",
              "            (LayerNorm): LayerNorm((768,), eps=1e-12, elementwise_affine=True)\n",
              "            (dropout): Dropout(p=0.1, inplace=False)\n",
              "          )\n",
              "        )\n",
              "      )\n",
              "    )\n",
              "    (pooler): BertPooler(\n",
              "      (dense): Linear(in_features=768, out_features=768, bias=True)\n",
              "      (activation): Tanh()\n",
              "    )\n",
              "  )\n",
              "  (dropout): Dropout(p=0.1, inplace=False)\n",
              "  (fc): Linear(in_features=768, out_features=3, bias=True)\n",
              ")"
            ]
          },
          "execution_count": 48,
          "metadata": {},
          "output_type": "execute_result"
        }
      ],
      "source": [
        "# Instantiate the BERT model architecture\n",
        "loaded_model = BERTClassifier(bert_model_name, num_classes)\n",
        "\n",
        "# Load the saved model state dictionary\n",
        "loaded_model.load_state_dict(torch.load('bert_model1.pth'))\n",
        "\n",
        "# Set the model to evaluation mode (important if you have dropout layers)\n",
        "loaded_model.eval()\n",
        "\n",
        "# Move the model to the desired device (CPU or GPU)\n",
        "loaded_model.to(device)"
      ]
    },
    {
      "cell_type": "markdown",
      "metadata": {},
      "source": [
        "## Test model"
      ]
    },
    {
      "cell_type": "code",
      "execution_count": null,
      "metadata": {
        "id": "34NJH6IKAqWr"
      },
      "outputs": [],
      "source": [
        "def predict_sentiment(text, model, tokenizer, device, max_length=128):\n",
        "    model.eval()\n",
        "    encoding = tokenizer(text, return_tensors='pt', max_length=max_length, padding='max_length', truncation=True)\n",
        "    input_ids = encoding['input_ids'].to(device)\n",
        "    attention_mask = encoding['attention_mask'].to(device)\n",
        "\n",
        "    with torch.no_grad():\n",
        "        outputs = model(input_ids=input_ids, attention_mask=attention_mask)\n",
        "        _, preds = torch.max(outputs, dim=1)\n",
        "        print(preds)\n",
        "        print(preds.item())\n",
        "    if preds.item() == 0:\n",
        "        return \"positive\"\n",
        "    elif preds.item() == 1:\n",
        "        return \"neutral\"\n",
        "    else:\n",
        "        return \"negative\""
      ]
    },
    {
      "cell_type": "code",
      "execution_count": null,
      "metadata": {},
      "outputs": [
        {
          "name": "stdout",
          "output_type": "stream",
          "text": [
            "tensor([[[-0.4350, -0.6659, -0.3739,  ..., -0.3584,  0.7349,  0.2229],\n",
            "         [-0.2089,  0.4062, -1.0106,  ..., -0.5113,  0.1457, -0.1008],\n",
            "         [-0.0333, -0.0485, -0.0718,  ...,  0.7889, -0.0395, -0.4712],\n",
            "         ...,\n",
            "         [-0.0241, -0.8481, -0.7842,  ...,  0.5589, -0.1591,  0.5199],\n",
            "         [-0.0543, -0.9029, -0.9501,  ...,  0.5639, -0.1369,  0.4541],\n",
            "         [ 0.0170, -0.7999, -0.9675,  ...,  0.4635, -0.5736,  0.4686]]])\n",
            "None\n",
            "None\n",
            "tensor([[ 5.2712e-02,  1.2291e-01,  3.5079e-01, -5.2025e-02, -6.3245e-01,\n",
            "          1.7005e-01,  6.3419e-01, -7.6902e-01,  2.6698e-01,  1.6044e-01,\n",
            "         -4.6129e-02,  3.5555e-01, -6.5248e-01,  7.0153e-01,  7.0624e-02,\n",
            "          1.9026e-01, -2.0505e-01, -5.7395e-01, -5.3928e-01,  2.5725e-01,\n",
            "         -9.0643e-02,  5.0417e-01, -5.4447e-02, -4.1963e-01, -1.7511e-02,\n",
            "         -1.1273e-01,  9.4036e-02,  7.6764e-03,  7.0238e-01,  4.0891e-01,\n",
            "          1.3801e-02,  7.1326e-01, -8.5344e-02,  5.7809e-01, -2.9001e-01,\n",
            "         -3.7979e-01,  2.7353e-01, -4.0517e-01,  4.0340e-01, -4.2416e-01,\n",
            "          4.1272e-01, -4.8576e-01,  2.8560e-01,  8.7261e-02, -5.1490e-01,\n",
            "          5.3881e-01, -1.2231e-01,  1.0611e-01,  3.1257e-01,  4.1463e-01,\n",
            "         -1.9174e-02,  3.2497e-01, -8.2867e-01,  1.0683e-01,  8.8882e-01,\n",
            "          2.3161e-01, -3.6456e-01,  5.4925e-01, -5.5044e-01,  7.0436e-01,\n",
            "         -5.6006e-01, -8.6466e-01,  5.7879e-01, -2.5557e-01, -4.8703e-01,\n",
            "         -4.9975e-02, -2.6200e-01, -4.9554e-01,  6.9526e-01, -3.3614e-01,\n",
            "         -1.2617e-01,  6.3529e-02, -7.0508e-02,  5.2101e-02, -3.4172e-01,\n",
            "         -5.9138e-01,  2.9143e-01, -2.3752e-02,  4.8404e-01,  5.5645e-01,\n",
            "         -7.1459e-01, -1.1293e-01, -4.7097e-01,  3.7945e-01,  3.6511e-01,\n",
            "          1.6241e-01,  4.7727e-01, -3.8954e-01, -3.5360e-02,  7.6001e-01,\n",
            "         -3.3007e-01,  1.1062e-01, -4.3980e-01, -6.4044e-01,  7.1827e-01,\n",
            "          3.5408e-01,  8.3086e-01, -3.6722e-01, -7.8278e-02,  6.2051e-01,\n",
            "          4.5422e-01, -7.2227e-01,  1.6291e-01, -4.2289e-01,  5.8198e-01,\n",
            "          5.1952e-01, -6.8624e-01,  7.4819e-01,  1.7848e-01,  3.1563e-01,\n",
            "          3.6733e-01,  3.7808e-01,  2.9435e-01, -6.8378e-02,  4.8561e-01,\n",
            "          3.5371e-01, -2.3459e-01, -5.8029e-01,  4.2411e-01, -8.3205e-01,\n",
            "          3.9776e-01,  3.5776e-01,  3.8662e-01, -5.6061e-01,  2.7950e-01,\n",
            "         -9.5237e-02,  9.9000e-02, -2.8515e-01, -6.0863e-01, -5.3908e-01,\n",
            "         -4.2092e-01,  2.3507e-01,  5.2481e-01, -2.8677e-01, -3.1430e-01,\n",
            "         -3.8150e-02,  5.0483e-01,  1.4749e-01,  1.5239e-02, -7.7167e-01,\n",
            "          5.6784e-01,  1.5379e-01,  3.7405e-01,  6.1727e-01,  6.3724e-01,\n",
            "         -2.4555e-02,  5.6044e-01, -1.9495e-01,  6.7073e-01, -6.5759e-01,\n",
            "         -5.1459e-01,  4.4259e-01,  8.7302e-02,  7.9509e-01, -5.8398e-01,\n",
            "         -3.8384e-01, -6.1149e-01, -6.2651e-01,  1.3292e-01, -4.1235e-01,\n",
            "          6.9617e-01,  3.2993e-02,  4.4895e-01,  1.0987e-01,  1.5542e-01,\n",
            "          3.4807e-01,  9.5096e-02, -3.3541e-02,  6.8940e-02,  3.2564e-01,\n",
            "         -7.6500e-02, -8.2186e-01, -2.2746e-01, -7.4711e-01, -8.3460e-02,\n",
            "          6.8492e-01,  2.6887e-01,  4.1935e-01,  3.5243e-01,  4.5619e-01,\n",
            "          2.0662e-01, -1.1518e-01, -5.8443e-01, -4.4733e-01, -4.5360e-01,\n",
            "         -2.1004e-01,  3.8507e-01, -3.9015e-01,  4.7216e-02,  4.3223e-01,\n",
            "         -1.4073e-01,  1.2249e-01, -5.9668e-01,  3.0224e-01, -6.5887e-01,\n",
            "         -4.6466e-01,  5.8230e-01,  7.2366e-01,  3.4223e-01,  2.6649e-01,\n",
            "         -6.1907e-02, -2.5444e-01, -4.4087e-01, -5.3602e-02,  4.2984e-01,\n",
            "          5.5790e-01,  4.8482e-01, -7.4879e-01,  5.6045e-02, -9.4321e-02,\n",
            "         -7.1421e-01, -3.4826e-01,  5.9697e-02,  2.5964e-01,  1.9465e-01,\n",
            "          2.2574e-01, -4.0873e-02, -6.0317e-01, -4.2142e-01, -7.4714e-03,\n",
            "         -1.5730e-01, -2.5624e-01,  2.3768e-01,  1.6017e-01, -4.3258e-01,\n",
            "          1.1175e-01, -6.9277e-01,  3.3808e-01, -4.5432e-02,  6.3324e-01,\n",
            "         -1.7084e-02, -3.4218e-01, -4.0551e-01, -4.1509e-01,  1.9671e-01,\n",
            "          4.7380e-02, -8.4200e-02,  5.0879e-01, -8.4463e-02, -4.4407e-01,\n",
            "         -1.1438e-01,  8.5866e-01, -7.6728e-01, -2.5805e-01, -4.5618e-01,\n",
            "          8.1550e-01,  4.3354e-01, -3.5368e-02,  1.2510e-01, -2.7821e-01,\n",
            "         -3.7558e-01,  3.4633e-01,  5.9192e-01,  2.7930e-01,  1.3109e-01,\n",
            "          8.8743e-01,  4.1419e-01, -4.3036e-01,  7.9288e-02, -6.6726e-02,\n",
            "          5.7036e-01,  4.7679e-02,  8.1916e-01,  6.2024e-02,  5.4262e-01,\n",
            "          1.9024e-01,  2.1172e-01, -8.3009e-01,  1.9146e-01, -5.2278e-01,\n",
            "          2.2432e-01, -4.4863e-01,  4.1760e-02,  3.6553e-02,  9.8188e-02,\n",
            "          5.8761e-01, -5.4536e-01, -5.7197e-01, -7.2511e-01,  1.6950e-01,\n",
            "          3.8093e-01, -4.7510e-01,  6.4827e-01,  2.3544e-01, -1.7917e-01,\n",
            "          3.0732e-01, -5.5660e-01, -4.4270e-01,  6.8852e-01,  3.3561e-01,\n",
            "          1.2618e-01,  3.2198e-01, -6.9666e-01,  1.3557e-01, -3.9505e-01,\n",
            "         -2.4800e-01, -6.4982e-01, -3.3211e-01,  1.5526e-01, -9.4235e-02,\n",
            "          4.3896e-01,  2.8033e-01, -1.2987e-01,  1.9293e-01,  1.9331e-01,\n",
            "         -3.5954e-01, -4.1533e-01,  9.6579e-02,  8.0790e-01, -2.0681e-01,\n",
            "         -6.0498e-02, -2.0304e-01,  7.0572e-01, -4.7228e-02, -7.6511e-02,\n",
            "         -5.7640e-01, -7.4144e-01,  6.7539e-01, -3.2423e-01, -7.2019e-01,\n",
            "         -4.4746e-01, -2.4132e-01,  4.6312e-01, -3.5422e-01, -3.8347e-02,\n",
            "         -3.8345e-01, -3.0948e-01,  3.0232e-01,  6.1332e-01,  1.0048e-01,\n",
            "          8.3838e-01, -3.1590e-01,  5.8672e-01,  5.3840e-01, -2.6693e-01,\n",
            "          1.4729e-01,  4.1532e-01, -9.8675e-02,  5.2628e-01,  4.0568e-01,\n",
            "          8.1937e-01, -6.4668e-04, -4.3814e-01, -1.3709e-01,  6.5105e-01,\n",
            "          7.6622e-01,  4.1719e-01, -6.7256e-01,  7.9376e-01,  3.3245e-01,\n",
            "          5.3166e-01,  7.5842e-01,  3.4751e-01, -7.1095e-01, -2.8775e-01,\n",
            "         -2.6731e-01,  3.5405e-01, -6.8709e-01, -2.7503e-01,  4.3715e-01,\n",
            "          2.4044e-01,  1.8079e-01, -5.8838e-01,  1.9420e-01, -2.8278e-01,\n",
            "          1.0088e-01, -2.5839e-01,  3.7912e-01,  4.1890e-01,  1.6793e-01,\n",
            "         -3.9376e-01,  1.6364e-01,  6.2037e-01, -5.3106e-01, -1.8392e-01,\n",
            "          3.6269e-01, -5.3662e-01, -8.3034e-02, -2.9505e-01,  3.1037e-01,\n",
            "          5.2462e-01,  1.4570e-01,  1.0100e-01,  7.9590e-02, -4.8200e-01,\n",
            "          2.8799e-01,  5.3196e-01, -3.8876e-01, -3.6538e-01, -3.1635e-01,\n",
            "          7.6969e-01, -1.8287e-03,  9.5037e-02, -7.1802e-01, -9.3873e-02,\n",
            "          3.2151e-01,  3.1475e-01,  3.8707e-01,  1.3535e-01,  3.2084e-02,\n",
            "         -3.6874e-01, -3.8940e-02, -4.4140e-01, -1.0097e-01,  6.2380e-02,\n",
            "         -1.0922e-01,  4.3122e-01, -1.1216e-02, -6.3562e-01, -6.4957e-01,\n",
            "          3.1264e-02, -8.3855e-01, -3.8218e-01, -5.4514e-01,  3.9125e-01,\n",
            "         -2.6637e-01, -4.4071e-01,  4.8605e-01, -3.9872e-01,  3.5295e-01,\n",
            "          5.6997e-02,  2.2168e-02,  5.8947e-02, -4.9918e-01, -3.4767e-01,\n",
            "          2.0357e-01,  8.4057e-01, -4.3778e-01, -5.9551e-02,  1.1563e-01,\n",
            "          4.8514e-01,  1.9506e-01,  6.7299e-01, -4.5399e-01, -1.1628e-02,\n",
            "         -1.0360e-01, -7.1654e-01,  2.7622e-01, -1.9802e-01, -5.8192e-01,\n",
            "         -7.7653e-02,  2.5467e-01, -4.5618e-01, -5.2734e-01, -4.1529e-01,\n",
            "         -6.2414e-01,  1.6428e-01, -1.9554e-01,  3.3274e-01, -4.3797e-01,\n",
            "         -6.0911e-01,  8.8235e-02, -1.3761e-01, -3.2773e-01, -5.9775e-01,\n",
            "          5.5588e-01,  4.5939e-01, -8.7291e-01, -2.2905e-01, -4.3054e-01,\n",
            "          5.6210e-02,  4.5622e-01,  4.8798e-01,  2.9440e-02,  5.8362e-01,\n",
            "         -3.6552e-01, -2.8424e-01, -1.2399e-01,  5.6840e-01, -4.4897e-02,\n",
            "         -5.9619e-01,  7.4275e-01, -2.6993e-01, -2.4893e-01,  7.0018e-02,\n",
            "         -1.3311e-02,  3.3040e-01,  1.0474e-01, -3.8271e-01, -1.9397e-01,\n",
            "          7.2213e-01,  2.0679e-02,  7.7422e-01,  4.1906e-01,  1.8684e-01,\n",
            "          7.3548e-01, -2.0679e-02,  2.2741e-01,  6.9950e-01, -5.1871e-01,\n",
            "          2.4343e-01,  4.9333e-02,  1.3553e-01, -5.0200e-01, -4.8788e-01,\n",
            "          6.8232e-01,  6.7278e-02,  2.1116e-01,  5.9075e-01,  4.1947e-01,\n",
            "         -7.5435e-01, -4.6505e-01, -1.4161e-01, -3.9561e-01, -8.4693e-02,\n",
            "         -9.2578e-01,  5.4571e-01,  6.1866e-01,  7.1927e-02, -5.8372e-01,\n",
            "          4.1830e-01,  1.1190e-02, -5.5382e-01,  3.7650e-01,  1.1252e-01,\n",
            "          3.4596e-01,  1.9782e-01, -6.7672e-01,  7.1964e-02,  4.7332e-01,\n",
            "         -1.4955e-01, -5.8381e-02, -6.0664e-01, -6.1325e-01,  3.2444e-01,\n",
            "          5.1835e-01,  7.6273e-01,  3.9180e-01,  4.4883e-01, -7.5612e-01,\n",
            "         -1.5786e-01,  5.7472e-01,  6.3349e-02,  3.4216e-01, -4.2059e-02,\n",
            "          1.6903e-01, -9.6963e-02,  5.4965e-01, -4.2500e-01, -7.6393e-01,\n",
            "          2.9200e-01, -7.5151e-01, -5.8610e-01, -3.0946e-01,  4.7954e-01,\n",
            "          8.0472e-02, -4.4146e-01, -2.3343e-01, -2.5643e-01,  1.9477e-01,\n",
            "          3.7593e-01, -2.8641e-01, -7.7048e-02, -7.3122e-01, -8.8283e-02,\n",
            "          4.5591e-01,  6.1408e-01, -2.8327e-01, -4.2089e-01, -1.2473e-01,\n",
            "         -1.0714e-01, -2.8933e-01,  3.4152e-01,  5.6894e-02,  4.8451e-01,\n",
            "          5.6481e-01,  4.2631e-01,  2.9069e-01, -6.9170e-01, -1.2233e-01,\n",
            "          1.6360e-01, -7.0859e-02, -3.6103e-01, -2.3883e-01, -4.4968e-01,\n",
            "         -3.2884e-02,  1.9296e-01,  3.2533e-01, -4.1179e-01, -2.4453e-01,\n",
            "         -4.1886e-01, -8.9208e-01, -4.4303e-01, -1.6465e-01,  3.6992e-01,\n",
            "         -7.6369e-01,  2.8689e-01,  1.6581e-02, -8.1839e-01,  7.9254e-01,\n",
            "         -1.0909e-01, -6.6921e-01,  5.0660e-01,  1.4958e-02, -7.0591e-02,\n",
            "         -2.8379e-01,  9.2514e-01,  5.5379e-01, -2.4424e-01, -6.4512e-01,\n",
            "         -5.5837e-01,  1.7213e-01,  1.1947e-01, -5.4249e-01,  5.5978e-01,\n",
            "          3.2209e-01, -4.6082e-01, -3.1126e-01,  5.8613e-01, -1.4597e-02,\n",
            "          9.6175e-02, -2.0367e-01,  1.7546e-01,  6.8814e-01,  3.4289e-01,\n",
            "         -1.7392e-01,  1.7915e-01,  5.5846e-01, -4.7121e-01, -4.9414e-01,\n",
            "          5.8803e-01,  2.2747e-01,  2.0985e-01,  4.6564e-01, -2.8716e-01,\n",
            "         -2.0733e-02,  2.9125e-01,  1.1391e-01,  8.3756e-02, -1.4950e-01,\n",
            "         -4.5067e-01,  1.0491e-01, -1.4662e-01,  2.8142e-01, -2.8220e-01,\n",
            "          1.3037e-01, -6.0694e-01,  4.5249e-02,  4.6420e-01, -4.3535e-01,\n",
            "         -5.5431e-01,  1.6550e-02, -3.8373e-01, -3.4193e-01,  3.5598e-01,\n",
            "          1.7623e-01,  2.3914e-01,  8.9970e-01, -5.6812e-01, -1.5719e-01,\n",
            "          6.4542e-01, -6.5958e-01, -7.4380e-01,  1.4057e-02,  6.0122e-02,\n",
            "         -1.8091e-01, -3.4770e-01, -1.1338e-02,  2.2327e-01,  4.7217e-02,\n",
            "         -3.9834e-01,  4.2121e-01, -8.5590e-01, -4.3429e-01,  3.7395e-01,\n",
            "          1.0024e-01, -5.0705e-02, -7.1507e-03, -3.7388e-01, -7.1711e-02,\n",
            "          2.1722e-01, -1.4419e-01,  5.2576e-01,  4.5631e-01, -7.6738e-01,\n",
            "         -5.4861e-01, -4.3123e-01, -4.1030e-01, -1.9244e-01,  5.6700e-01,\n",
            "          2.3761e-01, -3.7863e-02, -5.9421e-02,  5.1524e-01, -2.0067e-01,\n",
            "         -5.5558e-01, -5.3125e-01, -5.0122e-01, -1.4771e-01,  5.7853e-02,\n",
            "         -4.0376e-01, -3.5116e-01, -3.9411e-01, -4.4414e-01,  2.2799e-01,\n",
            "          4.6100e-01,  7.2094e-01, -1.2016e-01, -1.5903e-01, -5.8751e-01,\n",
            "          6.9403e-01, -6.9128e-01,  4.9807e-01, -6.1014e-01,  3.8636e-01,\n",
            "          8.1282e-03, -5.9724e-02, -1.4837e-01,  1.4349e-01,  2.1527e-01,\n",
            "          4.1285e-01,  1.7458e-01, -5.0185e-01,  7.5844e-01, -7.4409e-01,\n",
            "         -1.4615e-01, -4.8147e-01,  3.7461e-01,  5.2700e-01,  5.2256e-01,\n",
            "          2.0851e-02, -1.0644e-01,  1.5354e-01,  4.0622e-01,  1.8992e-02,\n",
            "         -1.1507e-01,  1.9900e-01, -1.1938e-01,  2.3984e-02, -2.9992e-03,\n",
            "         -4.2655e-01,  2.5563e-01,  3.5229e-01, -1.3652e-01,  1.4303e-01,\n",
            "          3.2733e-01,  4.7365e-01, -5.3427e-01, -7.8599e-01,  1.3687e-01,\n",
            "         -5.3915e-01,  1.3105e-01, -3.4436e-01,  3.4750e-01, -5.8329e-01,\n",
            "          7.2393e-01,  1.1387e-01,  4.4250e-01, -3.0497e-01,  4.4054e-01,\n",
            "          6.4545e-01,  8.0366e-01,  1.0114e-01, -3.0499e-01, -1.5519e-01,\n",
            "         -7.1141e-01, -4.0072e-01, -3.8583e-01,  5.7295e-01,  6.0922e-01,\n",
            "         -9.3411e-02,  5.2149e-01,  8.4501e-01,  2.6256e-01, -6.8277e-02,\n",
            "         -4.9708e-01,  6.5135e-01,  3.6292e-01]])\n",
            "tensor([[-0.4549, -0.5016,  0.4897]])\n",
            "tensor([2])\n",
            "2\n",
            "negative\n"
          ]
        }
      ],
      "source": [
        "device = torch.device(\"cuda\" if torch.cuda.is_available() else \"cpu\")\n",
        "\n",
        "print(predict_sentiment(\"bank mega jelek banget pelayanannya\", loaded_model, tokenizer, device))"
      ]
    },
    {
      "cell_type": "markdown",
      "metadata": {},
      "source": [
        "# Check last BERT layer"
      ]
    },
    {
      "cell_type": "code",
      "execution_count": null,
      "metadata": {},
      "outputs": [
        {
          "name": "stdout",
          "output_type": "stream",
          "text": [
            "Parameter containing:\n",
            "tensor([[ 0.0174,  0.0182, -0.0121,  ..., -0.0242, -0.0634, -0.0537],\n",
            "        [-0.0223,  0.0087,  0.0474,  ...,  0.0408, -0.0022, -0.0073],\n",
            "        [-0.0057, -0.0232, -0.0267,  ...,  0.0102,  0.0136, -0.0225],\n",
            "        ...,\n",
            "        [-0.0093,  0.0008, -0.0089,  ...,  0.0272, -0.0265, -0.0443],\n",
            "        [ 0.0066,  0.0147,  0.0247,  ..., -0.0567,  0.0437, -0.0308],\n",
            "        [ 0.0071,  0.0157, -0.0321,  ...,  0.0467, -0.0337, -0.0027]],\n",
            "       requires_grad=True)\n"
          ]
        }
      ],
      "source": [
        "last_layer_weights = model.bert.encoder.layer[-1].output.dense.weight\n",
        "print(last_layer_weights)"
      ]
    },
    {
      "cell_type": "code",
      "execution_count": null,
      "metadata": {},
      "outputs": [],
      "source": [
        "def predict_sentiment2(text, model, tokenizer, device, max_length=128):\n",
        "    model.eval()\n",
        "    encoding = tokenizer(text, return_tensors='pt', max_length=max_length, padding='max_length', truncation=True)\n",
        "    input_ids = encoding['input_ids'].to(device)\n",
        "    attention_mask = encoding['attention_mask'].to(device)\n",
        "\n",
        "    with torch.no_grad():\n",
        "        outputs = model(input_ids=input_ids, attention_mask=attention_mask)\n",
        "        _, preds = torch.max(outputs, dim=1)\n",
        "        last_hidden_states = outputs.last_hidden_state\n",
        "        pooler_output = outputs.pooler_output\n",
        "        hidden_states = outputs.hidden_states\n",
        "        attentions = outputs.attentions\n",
        "        print(last_hidden_states)\n",
        "        print(pooler_output)\n",
        "        print(hidden_states)\n",
        "        print(attentions)\n",
        "    if preds.item() == 0:\n",
        "        return \"positive\"\n",
        "    elif preds.item() == 1:\n",
        "        return \"neutral\"\n",
        "    else:\n",
        "        return \"negative\""
      ]
    },
    {
      "cell_type": "code",
      "execution_count": null,
      "metadata": {},
      "outputs": [
        {
          "ename": "AttributeError",
          "evalue": "'Tensor' object has no attribute 'last_hidden_state'",
          "output_type": "error",
          "traceback": [
            "\u001b[1;31m---------------------------------------------------------------------------\u001b[0m",
            "\u001b[1;31mAttributeError\u001b[0m                            Traceback (most recent call last)",
            "Cell \u001b[1;32mIn[46], line 1\u001b[0m\n\u001b[1;32m----> 1\u001b[0m \u001b[38;5;28mprint\u001b[39m(\u001b[43mpredict_sentiment2\u001b[49m\u001b[43m(\u001b[49m\u001b[38;5;124;43m\"\u001b[39;49m\u001b[38;5;124;43mbank mega jelek banget pelayanannya\u001b[39;49m\u001b[38;5;124;43m\"\u001b[39;49m\u001b[43m,\u001b[49m\u001b[43m \u001b[49m\u001b[43mloaded_model\u001b[49m\u001b[43m,\u001b[49m\u001b[43m \u001b[49m\u001b[43mtokenizer\u001b[49m\u001b[43m,\u001b[49m\u001b[43m \u001b[49m\u001b[43mdevice\u001b[49m\u001b[43m)\u001b[49m)\n",
            "Cell \u001b[1;32mIn[45], line 10\u001b[0m, in \u001b[0;36mpredict_sentiment2\u001b[1;34m(text, model, tokenizer, device, max_length)\u001b[0m\n\u001b[0;32m      8\u001b[0m outputs \u001b[38;5;241m=\u001b[39m model(input_ids\u001b[38;5;241m=\u001b[39minput_ids, attention_mask\u001b[38;5;241m=\u001b[39mattention_mask)\n\u001b[0;32m      9\u001b[0m _, preds \u001b[38;5;241m=\u001b[39m torch\u001b[38;5;241m.\u001b[39mmax(outputs, dim\u001b[38;5;241m=\u001b[39m\u001b[38;5;241m1\u001b[39m)\n\u001b[1;32m---> 10\u001b[0m last_hidden_states \u001b[38;5;241m=\u001b[39m \u001b[43moutputs\u001b[49m\u001b[38;5;241;43m.\u001b[39;49m\u001b[43mlast_hidden_state\u001b[49m\n\u001b[0;32m     11\u001b[0m pooler_output \u001b[38;5;241m=\u001b[39m outputs\u001b[38;5;241m.\u001b[39mpooler_output\n\u001b[0;32m     12\u001b[0m hidden_states \u001b[38;5;241m=\u001b[39m outputs\u001b[38;5;241m.\u001b[39mhidden_states\n",
            "\u001b[1;31mAttributeError\u001b[0m: 'Tensor' object has no attribute 'last_hidden_state'"
          ]
        }
      ],
      "source": [
        "print(predict_sentiment2(\"bank mega jelek banget pelayanannya\", loaded_model, tokenizer, device))"
      ]
    },
    {
      "cell_type": "code",
      "execution_count": null,
      "metadata": {},
      "outputs": [],
      "source": []
    }
  ],
  "metadata": {
    "accelerator": "GPU",
    "colab": {
      "gpuType": "T4",
      "provenance": []
    },
    "kernelspec": {
      "display_name": "Python 3",
      "name": "python3"
    },
    "language_info": {
      "codemirror_mode": {
        "name": "ipython",
        "version": 3
      },
      "file_extension": ".py",
      "mimetype": "text/x-python",
      "name": "python",
      "nbconvert_exporter": "python",
      "pygments_lexer": "ipython3",
      "version": "3.9.7"
    }
  },
  "nbformat": 4,
  "nbformat_minor": 0
}
