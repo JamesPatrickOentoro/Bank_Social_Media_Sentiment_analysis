{
 "cells": [
  {
   "cell_type": "code",
   "execution_count": 1,
   "metadata": {},
   "outputs": [],
   "source": [
    "import pandas as pd\n",
    "train_df = pd.read_excel(\"..\\Preprocessing\\df_train_fix.xlsx\")\n",
    "test_df = pd.read_excel(\"..\\Preprocessing\\df_test_fix.xlsx\")\n"
   ]
  },
  {
   "cell_type": "code",
   "execution_count": 2,
   "metadata": {},
   "outputs": [
    {
     "data": {
      "text/html": [
       "<div>\n",
       "<style scoped>\n",
       "    .dataframe tbody tr th:only-of-type {\n",
       "        vertical-align: middle;\n",
       "    }\n",
       "\n",
       "    .dataframe tbody tr th {\n",
       "        vertical-align: top;\n",
       "    }\n",
       "\n",
       "    .dataframe thead th {\n",
       "        text-align: right;\n",
       "    }\n",
       "</style>\n",
       "<table border=\"1\" class=\"dataframe\">\n",
       "  <thead>\n",
       "    <tr style=\"text-align: right;\">\n",
       "      <th></th>\n",
       "      <th>Unnamed: 0</th>\n",
       "      <th>comments</th>\n",
       "      <th>bank</th>\n",
       "      <th>platform</th>\n",
       "      <th>Label (1,0,-1)</th>\n",
       "      <th>text_cleaned</th>\n",
       "      <th>review_text_cleaned</th>\n",
       "      <th>emoji</th>\n",
       "      <th>Data</th>\n",
       "      <th>tokenized</th>\n",
       "      <th>length_of_review</th>\n",
       "      <th>translated</th>\n",
       "    </tr>\n",
       "  </thead>\n",
       "  <tbody>\n",
       "    <tr>\n",
       "      <th>0</th>\n",
       "      <td>0</td>\n",
       "      <td>Jawabannya : 4 LOGO BRIMO Yang Muncul 😍🙌 #BRIm...</td>\n",
       "      <td>BRI</td>\n",
       "      <td>Instagram</td>\n",
       "      <td>1</td>\n",
       "      <td>Jawabannya : 4 LOGO BRIMO Yang Muncul 😍🙌</td>\n",
       "      <td>Jawabannya : 4 LOGO BRIMO Yang Muncul 😍🙌</td>\n",
       "      <td>has emoji</td>\n",
       "      <td>jawabannya logo brimo yang muncul [smiling fac...</td>\n",
       "      <td>['jawabannya', 'logo', 'brimo', 'yang', 'muncu...</td>\n",
       "      <td>12</td>\n",
       "      <td>jawabannya logo brimo yang muncul wajah terse...</td>\n",
       "    </tr>\n",
       "    <tr>\n",
       "      <th>1</th>\n",
       "      <td>1</td>\n",
       "      <td>@sudrajaddwntr @alibyulian @neidijrssyh @dhemm...</td>\n",
       "      <td>BCA</td>\n",
       "      <td>Instagram</td>\n",
       "      <td>1</td>\n",
       "      <td>.j siap siap war tiket pasang reminders dr ...</td>\n",
       "      <td>.j siap siap war tiket pasang reminders dari s...</td>\n",
       "      <td>has emoji</td>\n",
       "      <td>siap siap war tiket pasang reminders dari sek...</td>\n",
       "      <td>['siap', 'siap', 'war', 'tiket', 'pasang', 're...</td>\n",
       "      <td>20</td>\n",
       "      <td>siap siap perang tiket pasang pengingat dari ...</td>\n",
       "    </tr>\n",
       "    <tr>\n",
       "      <th>2</th>\n",
       "      <td>2</td>\n",
       "      <td>Lancar  dan lancar  semoga bukan cerita lagi</td>\n",
       "      <td>BCA</td>\n",
       "      <td>YouTube</td>\n",
       "      <td>1</td>\n",
       "      <td>Lancar  dan lancar  semoga bukan cerita lagi</td>\n",
       "      <td>Lancar dan lancar semoga bukan cerita lagi</td>\n",
       "      <td>no emoji</td>\n",
       "      <td>lancar dan lancar semoga bukan cerita lagi</td>\n",
       "      <td>['lancar', 'dan', 'lancar', 'semoga', 'bukan',...</td>\n",
       "      <td>7</td>\n",
       "      <td>lancar dan lancar semoga bukan cerita lagi</td>\n",
       "    </tr>\n",
       "    <tr>\n",
       "      <th>3</th>\n",
       "      <td>3</td>\n",
       "      <td>Bismillaaaaah</td>\n",
       "      <td>BCA</td>\n",
       "      <td>Instagram</td>\n",
       "      <td>1</td>\n",
       "      <td>Bismillaaaaah</td>\n",
       "      <td>Bismillaaaaah</td>\n",
       "      <td>no emoji</td>\n",
       "      <td>bismillaaaaah</td>\n",
       "      <td>['bismillaaaaah']</td>\n",
       "      <td>1</td>\n",
       "      <td>bismillaaaaah</td>\n",
       "    </tr>\n",
       "    <tr>\n",
       "      <th>4</th>\n",
       "      <td>4</td>\n",
       "      <td>@JeniusConnect Paypal bisa gak?</td>\n",
       "      <td>Bank BTPN</td>\n",
       "      <td>Instagram</td>\n",
       "      <td>0</td>\n",
       "      <td>Paypal bisa gak?</td>\n",
       "      <td>Paypal bisa gak?</td>\n",
       "      <td>no emoji</td>\n",
       "      <td>paypal bisa gak</td>\n",
       "      <td>['paypal', 'bisa', 'gak']</td>\n",
       "      <td>3</td>\n",
       "      <td>paypal bisa gak</td>\n",
       "    </tr>\n",
       "    <tr>\n",
       "      <th>...</th>\n",
       "      <td>...</td>\n",
       "      <td>...</td>\n",
       "      <td>...</td>\n",
       "      <td>...</td>\n",
       "      <td>...</td>\n",
       "      <td>...</td>\n",
       "      <td>...</td>\n",
       "      <td>...</td>\n",
       "      <td>...</td>\n",
       "      <td>...</td>\n",
       "      <td>...</td>\n",
       "      <td>...</td>\n",
       "    </tr>\n",
       "    <tr>\n",
       "      <th>8341</th>\n",
       "      <td>8341</td>\n",
       "      <td>@JeniusConnect @jeniushelp Unlinknya dipercepa...</td>\n",
       "      <td>Bank BTPN</td>\n",
       "      <td>Instagram</td>\n",
       "      <td>0</td>\n",
       "      <td>Unlinknya dipercepat dong</td>\n",
       "      <td>Unlinknya dipercepat dong</td>\n",
       "      <td>no emoji</td>\n",
       "      <td>unlinknya dipercepat dong</td>\n",
       "      <td>['unlinknya', 'dipercepat', 'dong']</td>\n",
       "      <td>3</td>\n",
       "      <td>unlinknya dipercepat dong</td>\n",
       "    </tr>\n",
       "    <tr>\n",
       "      <th>8342</th>\n",
       "      <td>8342</td>\n",
       "      <td>Kalo bca prioritas dpt fasilitas apa nih😁</td>\n",
       "      <td>BCA</td>\n",
       "      <td>Instagram</td>\n",
       "      <td>1</td>\n",
       "      <td>Kalo bca prioritas dpt fasilitas apa nih😁</td>\n",
       "      <td>Kalo bca prioritas dapat fasilitas apa nih😁</td>\n",
       "      <td>has emoji</td>\n",
       "      <td>kalo bca prioritas dapat fasilitas apa nih [be...</td>\n",
       "      <td>['kalo', 'bca', 'prioritas', 'dapat', 'fasilit...</td>\n",
       "      <td>12</td>\n",
       "      <td>kalo bca prioritas dapat fasilitas apa nih wa...</td>\n",
       "    </tr>\n",
       "    <tr>\n",
       "      <th>8343</th>\n",
       "      <td>8343</td>\n",
       "      <td>GILA SIHHH AYAANG AKUUU😍😍</td>\n",
       "      <td>Allo Bank</td>\n",
       "      <td>Instagram</td>\n",
       "      <td>1</td>\n",
       "      <td>GILA SIHHH AYAANG AKUUU😍😍</td>\n",
       "      <td>GILA SIHHH AYAANG AKUUU😍😍</td>\n",
       "      <td>no emoji</td>\n",
       "      <td>gila sihhh ayaang akuuu [smiling face with hea...</td>\n",
       "      <td>['gila', 'sihhh', 'ayaang', 'akuuu', '[smiling...</td>\n",
       "      <td>14</td>\n",
       "      <td>gila sihhh ayaang akuuu wajah tersenyum denga...</td>\n",
       "    </tr>\n",
       "    <tr>\n",
       "      <th>8344</th>\n",
       "      <td>8344</td>\n",
       "      <td>SEMANGATTTTTT!!!!</td>\n",
       "      <td>Bank Mega</td>\n",
       "      <td>Twitter</td>\n",
       "      <td>1</td>\n",
       "      <td>SEMANGATTTTTT!!!!</td>\n",
       "      <td>SEMANGATTTTTT!!!!</td>\n",
       "      <td>no emoji</td>\n",
       "      <td>semangatttttt</td>\n",
       "      <td>['semangatttttt']</td>\n",
       "      <td>1</td>\n",
       "      <td>semangatttttt</td>\n",
       "    </tr>\n",
       "    <tr>\n",
       "      <th>8345</th>\n",
       "      <td>8345</td>\n",
       "      <td>Mawwwwww @mawwwra_ @xarasaji_ 😍</td>\n",
       "      <td>Allo Bank</td>\n",
       "      <td>Instagram</td>\n",
       "      <td>1</td>\n",
       "      <td>Mawwwwww   😍</td>\n",
       "      <td>Mawwwwww 😍</td>\n",
       "      <td>no emoji</td>\n",
       "      <td>mawwwwww [smiling face with heart eyes]</td>\n",
       "      <td>['mawwwwww', '[smiling', 'face', 'with', 'hear...</td>\n",
       "      <td>6</td>\n",
       "      <td>mawwwwww wajah tersenyum dengan mata hati</td>\n",
       "    </tr>\n",
       "  </tbody>\n",
       "</table>\n",
       "<p>8293 rows × 12 columns</p>\n",
       "</div>"
      ],
      "text/plain": [
       "      Unnamed: 0                                           comments  \\\n",
       "0              0  Jawabannya : 4 LOGO BRIMO Yang Muncul 😍🙌 #BRIm...   \n",
       "1              1  @sudrajaddwntr @alibyulian @neidijrssyh @dhemm...   \n",
       "2              2       Lancar  dan lancar  semoga bukan cerita lagi   \n",
       "3              3                                      Bismillaaaaah   \n",
       "4              4                    @JeniusConnect Paypal bisa gak?   \n",
       "...          ...                                                ...   \n",
       "8341        8341  @JeniusConnect @jeniushelp Unlinknya dipercepa...   \n",
       "8342        8342          Kalo bca prioritas dpt fasilitas apa nih😁   \n",
       "8343        8343                          GILA SIHHH AYAANG AKUUU😍😍   \n",
       "8344        8344                                  SEMANGATTTTTT!!!!   \n",
       "8345        8345                    Mawwwwww @mawwwra_ @xarasaji_ 😍   \n",
       "\n",
       "           bank   platform  Label (1,0,-1)  \\\n",
       "0           BRI  Instagram               1   \n",
       "1           BCA  Instagram               1   \n",
       "2           BCA    YouTube               1   \n",
       "3           BCA  Instagram               1   \n",
       "4     Bank BTPN  Instagram               0   \n",
       "...         ...        ...             ...   \n",
       "8341  Bank BTPN  Instagram               0   \n",
       "8342        BCA  Instagram               1   \n",
       "8343  Allo Bank  Instagram               1   \n",
       "8344  Bank Mega    Twitter               1   \n",
       "8345  Allo Bank  Instagram               1   \n",
       "\n",
       "                                           text_cleaned  \\\n",
       "0          Jawabannya : 4 LOGO BRIMO Yang Muncul 😍🙌       \n",
       "1        .j siap siap war tiket pasang reminders dr ...   \n",
       "2          Lancar  dan lancar  semoga bukan cerita lagi   \n",
       "3                                         Bismillaaaaah   \n",
       "4                                      Paypal bisa gak?   \n",
       "...                                                 ...   \n",
       "8341                          Unlinknya dipercepat dong   \n",
       "8342          Kalo bca prioritas dpt fasilitas apa nih😁   \n",
       "8343                          GILA SIHHH AYAANG AKUUU😍😍   \n",
       "8344                                  SEMANGATTTTTT!!!!   \n",
       "8345                                       Mawwwwww   😍   \n",
       "\n",
       "                                    review_text_cleaned      emoji  \\\n",
       "0              Jawabannya : 4 LOGO BRIMO Yang Muncul 😍🙌  has emoji   \n",
       "1     .j siap siap war tiket pasang reminders dari s...  has emoji   \n",
       "2            Lancar dan lancar semoga bukan cerita lagi   no emoji   \n",
       "3                                         Bismillaaaaah   no emoji   \n",
       "4                                      Paypal bisa gak?   no emoji   \n",
       "...                                                 ...        ...   \n",
       "8341                          Unlinknya dipercepat dong   no emoji   \n",
       "8342        Kalo bca prioritas dapat fasilitas apa nih😁  has emoji   \n",
       "8343                          GILA SIHHH AYAANG AKUUU😍😍   no emoji   \n",
       "8344                                  SEMANGATTTTTT!!!!   no emoji   \n",
       "8345                                         Mawwwwww 😍   no emoji   \n",
       "\n",
       "                                                   Data  \\\n",
       "0     jawabannya logo brimo yang muncul [smiling fac...   \n",
       "1      siap siap war tiket pasang reminders dari sek...   \n",
       "2            lancar dan lancar semoga bukan cerita lagi   \n",
       "3                                         bismillaaaaah   \n",
       "4                                      paypal bisa gak    \n",
       "...                                                 ...   \n",
       "8341                          unlinknya dipercepat dong   \n",
       "8342  kalo bca prioritas dapat fasilitas apa nih [be...   \n",
       "8343  gila sihhh ayaang akuuu [smiling face with hea...   \n",
       "8344                                     semangatttttt    \n",
       "8345           mawwwwww [smiling face with heart eyes]    \n",
       "\n",
       "                                              tokenized  length_of_review  \\\n",
       "0     ['jawabannya', 'logo', 'brimo', 'yang', 'muncu...                12   \n",
       "1     ['siap', 'siap', 'war', 'tiket', 'pasang', 're...                20   \n",
       "2     ['lancar', 'dan', 'lancar', 'semoga', 'bukan',...                 7   \n",
       "3                                     ['bismillaaaaah']                 1   \n",
       "4                             ['paypal', 'bisa', 'gak']                 3   \n",
       "...                                                 ...               ...   \n",
       "8341                ['unlinknya', 'dipercepat', 'dong']                 3   \n",
       "8342  ['kalo', 'bca', 'prioritas', 'dapat', 'fasilit...                12   \n",
       "8343  ['gila', 'sihhh', 'ayaang', 'akuuu', '[smiling...                14   \n",
       "8344                                  ['semangatttttt']                 1   \n",
       "8345  ['mawwwwww', '[smiling', 'face', 'with', 'hear...                 6   \n",
       "\n",
       "                                             translated  \n",
       "0      jawabannya logo brimo yang muncul wajah terse...  \n",
       "1      siap siap perang tiket pasang pengingat dari ...  \n",
       "2            lancar dan lancar semoga bukan cerita lagi  \n",
       "3                                         bismillaaaaah  \n",
       "4                                       paypal bisa gak  \n",
       "...                                                 ...  \n",
       "8341                          unlinknya dipercepat dong  \n",
       "8342   kalo bca prioritas dapat fasilitas apa nih wa...  \n",
       "8343   gila sihhh ayaang akuuu wajah tersenyum denga...  \n",
       "8344                                      semangatttttt  \n",
       "8345          mawwwwww wajah tersenyum dengan mata hati  \n",
       "\n",
       "[8293 rows x 12 columns]"
      ]
     },
     "execution_count": 2,
     "metadata": {},
     "output_type": "execute_result"
    }
   ],
   "source": [
    "test_df = test_df[test_df['translated'].notna()]\n",
    "test_df = test_df[test_df['Label (1,0,-1)'].notna()]\n",
    "test_df"
   ]
  },
  {
   "cell_type": "code",
   "execution_count": 3,
   "metadata": {},
   "outputs": [],
   "source": [
    "combined_df = pd.concat([train_df, test_df])\n",
    "\n",
    "# Reset the index if needed\n",
    "combined_df.reset_index(drop=True, inplace=True)"
   ]
  },
  {
   "cell_type": "code",
   "execution_count": 4,
   "metadata": {},
   "outputs": [],
   "source": [
    "combined_df = combined_df.dropna(subset=['translated'])\n",
    "combined_df.reset_index(drop=True,inplace=True)"
   ]
  },
  {
   "cell_type": "code",
   "execution_count": 5,
   "metadata": {},
   "outputs": [],
   "source": [
    "from nltk.corpus import stopwords\n",
    "additional_stop = ['nya','yg','ga','gk','tp','nih','noh','lah','dong','pa','yuk','gak','ya','sih','yaa','aja', 'min', 'bca','brimo','biar','kak','blu','mega','allo','bank','bca','btn']\n",
    "all_stopwords = stopwords.words('indonesian') + additional_stop"
   ]
  },
  {
   "cell_type": "code",
   "execution_count": 6,
   "metadata": {},
   "outputs": [],
   "source": [
    "from sklearn.model_selection import train_test_split\n",
    "from sklearn.preprocessing import LabelEncoder\n",
    "X=combined_df['translated']\n",
    "y=combined_df['Label (1,0,-1)']\n",
    "encoder = LabelEncoder()\n",
    "encoded_labels = encoder.fit_transform(y)\n",
    "X_train, X_test, y_train, y_test = train_test_split(X, encoded_labels, test_size=0.20,random_state=30)"
   ]
  },
  {
   "cell_type": "code",
   "execution_count": 7,
   "metadata": {},
   "outputs": [],
   "source": [
    "from sklearn import preprocessing\n",
    "le = preprocessing.LabelEncoder()"
   ]
  },
  {
   "cell_type": "code",
   "execution_count": 8,
   "metadata": {},
   "outputs": [],
   "source": [
    "training_ratings = le.fit_transform(y_train)\n",
    "val_ratings = le.transform(y_test)"
   ]
  },
  {
   "cell_type": "code",
   "execution_count": 9,
   "metadata": {},
   "outputs": [
    {
     "data": {
      "text/plain": [
       "array([1, 2, 0, ..., 2, 2, 1], dtype=int64)"
      ]
     },
     "execution_count": 9,
     "metadata": {},
     "output_type": "execute_result"
    }
   ],
   "source": [
    "val_ratings"
   ]
  },
  {
   "cell_type": "code",
   "execution_count": 10,
   "metadata": {},
   "outputs": [],
   "source": [
    "vocab_size = 10000\n",
    "embedding_dim = 64\n",
    "max_length = 15\n",
    "trunc_type = 'post'\n",
    "padding_type = 'post'\n",
    "oov_tok = '<OOV>'"
   ]
  },
  {
   "cell_type": "code",
   "execution_count": 11,
   "metadata": {},
   "outputs": [],
   "source": [
    "from tensorflow.keras.preprocessing.text import Tokenizer\n",
    "tokenizer = Tokenizer(num_words = vocab_size, oov_token=oov_tok)\n",
    "tokenizer.fit_on_texts(X_train)"
   ]
  },
  {
   "cell_type": "code",
   "execution_count": 12,
   "metadata": {},
   "outputs": [
    {
     "data": {
      "text/plain": [
       "{'<OOV>': 1,\n",
       " 'wajah': 2,\n",
       " 'dengan': 3,\n",
       " 'bank': 4,\n",
       " 'hati': 5,\n",
       " 'dan': 6,\n",
       " 'tidak': 7,\n",
       " 'yang': 8,\n",
       " 'mata': 9,\n",
       " 'ada': 10}"
      ]
     },
     "execution_count": 12,
     "metadata": {},
     "output_type": "execute_result"
    }
   ],
   "source": [
    "word_index = tokenizer.word_index\n",
    "dict(list(word_index.items())[0:10])"
   ]
  },
  {
   "cell_type": "code",
   "execution_count": 13,
   "metadata": {},
   "outputs": [
    {
     "name": "stdout",
     "output_type": "stream",
     "text": [
      "[177, 39, 261, 31, 192, 2207, 526, 192, 48, 1759, 65, 7, 210, 286, 93, 59, 771, 526, 83, 26, 86, 248, 6, 418]\n"
     ]
    }
   ],
   "source": [
    "train_sequences = tokenizer.texts_to_sequences(X_train)\n",
    "print(train_sequences[10])"
   ]
  },
  {
   "cell_type": "code",
   "execution_count": 14,
   "metadata": {},
   "outputs": [
    {
     "name": "stdout",
     "output_type": "stream",
     "text": [
      "2\n",
      "15\n",
      "17\n",
      "15\n",
      "24\n",
      "15\n"
     ]
    }
   ],
   "source": [
    "from tensorflow.keras.preprocessing.sequence import pad_sequences\n",
    "train_padded = pad_sequences(train_sequences, maxlen=max_length, padding=padding_type, truncating=trunc_type)\n",
    "print(len(train_sequences[0]))\n",
    "print(len(train_padded[0]))\n",
    "\n",
    "print(len(train_sequences[1]))\n",
    "print(len(train_padded[1]))\n",
    "\n",
    "print(len(train_sequences[10]))\n",
    "print(len(train_padded[10]))"
   ]
  },
  {
   "cell_type": "code",
   "execution_count": 15,
   "metadata": {},
   "outputs": [
    {
     "name": "stdout",
     "output_type": "stream",
     "text": [
      "8295\n",
      "(8295, 15)\n"
     ]
    }
   ],
   "source": [
    "validation_sequences = tokenizer.texts_to_sequences(X_test)\n",
    "validation_padded = pad_sequences(validation_sequences, maxlen=max_length, padding=padding_type, truncating=trunc_type)\n",
    "\n",
    "print(len(validation_sequences))\n",
    "print(validation_padded.shape)"
   ]
  },
  {
   "cell_type": "code",
   "execution_count": 16,
   "metadata": {},
   "outputs": [],
   "source": [
    "import numpy as np\n",
    "training_label_seq = np.array(y_train)\n",
    "validation_label_seq = np.array(y_test)"
   ]
  },
  {
   "cell_type": "code",
   "execution_count": 17,
   "metadata": {},
   "outputs": [
    {
     "data": {
      "text/plain": [
       "(33176,)"
      ]
     },
     "execution_count": 17,
     "metadata": {},
     "output_type": "execute_result"
    }
   ],
   "source": [
    "np.shape(X_train)"
   ]
  },
  {
   "cell_type": "code",
   "execution_count": 18,
   "metadata": {},
   "outputs": [],
   "source": [
    "from tensorflow import keras\n",
    "import tensorflow as tf\n",
    "\n",
    "def baseline_model():\n",
    "  input_ = keras.layers.Input(1)\n",
    "  embedding = keras.layers.Embedding(vocab_size, embedding_dim)(input_)\n",
    "  bidirectional = keras.layers.Bidirectional(tf.keras.layers.LSTM(embedding_dim))(embedding)\n",
    "  hidden1 = keras.layers.Dense(embedding_dim, activation='relu')(bidirectional)\n",
    "  output = keras.layers.Dense(3, activation='softmax')(hidden1)\n",
    "  model = keras.models.Model(inputs=[input_], outputs=[output])\n",
    "\n",
    "  model.compile(loss='sparse_categorical_crossentropy', optimizer='adam', metrics=['accuracy'])\n",
    "\n",
    "  return model"
   ]
  },
  {
   "cell_type": "code",
   "execution_count": 19,
   "metadata": {},
   "outputs": [
    {
     "name": "stdout",
     "output_type": "stream",
     "text": [
      "Model: \"model\"\n",
      "_________________________________________________________________\n",
      " Layer (type)                Output Shape              Param #   \n",
      "=================================================================\n",
      " input_1 (InputLayer)        [(None, 1)]               0         \n",
      "                                                                 \n",
      " embedding (Embedding)       (None, 1, 64)             640000    \n",
      "                                                                 \n",
      " bidirectional (Bidirection  (None, 128)               66048     \n",
      " al)                                                             \n",
      "                                                                 \n",
      " dense (Dense)               (None, 64)                8256      \n",
      "                                                                 \n",
      " dense_1 (Dense)             (None, 3)                 195       \n",
      "                                                                 \n",
      "=================================================================\n",
      "Total params: 714499 (2.73 MB)\n",
      "Trainable params: 714499 (2.73 MB)\n",
      "Non-trainable params: 0 (0.00 Byte)\n",
      "_________________________________________________________________\n"
     ]
    }
   ],
   "source": [
    "baseline_model = baseline_model()\n",
    "baseline_model.summary()"
   ]
  },
  {
   "cell_type": "code",
   "execution_count": 20,
   "metadata": {},
   "outputs": [
    {
     "name": "stdout",
     "output_type": "stream",
     "text": [
      "Epoch 1/10\n",
      "260/260 [==============================] - 10s 22ms/step - loss: 0.6687 - accuracy: 0.6977 - val_loss: 0.5669 - val_accuracy: 0.7537\n",
      "Epoch 2/10\n",
      "260/260 [==============================] - 5s 18ms/step - loss: 0.4897 - accuracy: 0.7931 - val_loss: 0.5593 - val_accuracy: 0.7612\n",
      "Epoch 3/10\n",
      "260/260 [==============================] - 5s 18ms/step - loss: 0.4225 - accuracy: 0.8242 - val_loss: 0.5753 - val_accuracy: 0.7621\n",
      "Epoch 4/10\n",
      "260/260 [==============================] - 5s 18ms/step - loss: 0.3726 - accuracy: 0.8485 - val_loss: 0.6511 - val_accuracy: 0.7521\n",
      "Epoch 5/10\n",
      "260/260 [==============================] - 5s 19ms/step - loss: 0.3330 - accuracy: 0.8632 - val_loss: 0.6543 - val_accuracy: 0.7491\n",
      "Epoch 6/10\n",
      "260/260 [==============================] - 5s 19ms/step - loss: 0.2970 - accuracy: 0.8757 - val_loss: 0.7307 - val_accuracy: 0.7431\n",
      "Epoch 7/10\n",
      "260/260 [==============================] - 5s 18ms/step - loss: 0.2661 - accuracy: 0.8890 - val_loss: 0.8014 - val_accuracy: 0.7450\n",
      "Epoch 8/10\n",
      "260/260 [==============================] - 5s 20ms/step - loss: 0.2386 - accuracy: 0.9001 - val_loss: 0.9325 - val_accuracy: 0.7355\n",
      "Epoch 9/10\n",
      "260/260 [==============================] - 5s 20ms/step - loss: 0.2193 - accuracy: 0.9079 - val_loss: 1.0497 - val_accuracy: 0.7397\n",
      "Epoch 10/10\n",
      "260/260 [==============================] - 5s 19ms/step - loss: 0.1988 - accuracy: 0.9148 - val_loss: 1.0902 - val_accuracy: 0.7324\n"
     ]
    }
   ],
   "source": [
    "num_epochs = 10\n",
    "history = baseline_model.fit(train_padded, training_label_seq, epochs=num_epochs, validation_data=(validation_padded, validation_label_seq), batch_size=128)"
   ]
  },
  {
   "cell_type": "code",
   "execution_count": 21,
   "metadata": {},
   "outputs": [
    {
     "data": {
      "image/png": "[encoded data removed]",
      "text/plain": [
       "<Figure size 640x480 with 1 Axes>"
      ]
     },
     "metadata": {},
     "output_type": "display_data"
    },
    {
     "data": {
      "image/png": "[encoded data removed]",
      "text/plain": [
       "<Figure size 640x480 with 1 Axes>"
      ]
     },
     "metadata": {},
     "output_type": "display_data"
    }
   ],
   "source": [
    "import matplotlib.pyplot as plt\n",
    "def plot_graphs(history, string):\n",
    "  plt.plot(history.history[string])\n",
    "  plt.plot(history.history['val_'+string])\n",
    "  plt.xlabel(\"Epochs\")\n",
    "  plt.ylabel(string)\n",
    "  plt.legend([string, 'val_'+string])\n",
    "  plt.show()\n",
    "  \n",
    "plot_graphs(history, \"accuracy\")\n",
    "plot_graphs(history, \"loss\")"
   ]
  },
  {
   "cell_type": "code",
   "execution_count": 22,
   "metadata": {},
   "outputs": [
    {
     "name": "stderr",
     "output_type": "stream",
     "text": [
      "WARNING:absl:`lr` is deprecated in Keras optimizer, please use `learning_rate` or use the legacy optimizer, e.g.,tf.keras.optimizers.legacy.Nadam.\n"
     ]
    }
   ],
   "source": [
    "import tensorflow as tf\n",
    "vocab_size = 10000\n",
    "embedding_dim = 64\n",
    "max_length = 100\n",
    "trunc_type = 'post'\n",
    "padding_type = 'post'\n",
    "oov_tok = ''\n",
    "\n",
    "model = tf.keras.Sequential([\n",
    "  tf.keras.layers.Embedding(128, embedding_dim, input_length=max_length, mask_zero=True),\n",
    "  tf.keras.layers.Bidirectional(tf.keras.layers.LSTM(64,return_sequences=True)),\n",
    "  tf.keras.layers.Bidirectional(tf.keras.layers.LSTM(16)),\n",
    "  tf.keras.layers.Dense(16,kernel_initializer=\"he_normal\", kernel_regularizer = tf.keras.regularizers.l2(0.1),bias_regularizer = tf.keras.regularizers.l2(0.01)),\n",
    "  tf.keras.layers.LeakyReLU(alpha=0.3),\n",
    "  tf.keras.layers.Dropout(0.5),\n",
    "  tf.keras.layers.BatchNormalization(),\n",
    "  tf.keras.layers.Dense(16, kernel_initializer=\"he_normal\", kernel_regularizer = tf.keras.regularizers.l2(0.1),\n",
    "                        bias_regularizer  = tf.keras.regularizers.l2(0.01),\n",
    "                        activation='elu'),\n",
    "  tf.keras.layers.Dropout(0.5),\n",
    "  tf.keras.layers.BatchNormalization(),\n",
    "  tf.keras.layers.Dense(8, kernel_initializer=\"he_normal\", kernel_regularizer = tf.keras.regularizers.l2(0.1),\n",
    "                        activation='relu'),\n",
    "  tf.keras.layers.Dense(3, activation='softmax')\n",
    "  ])\n",
    "\n",
    "\n",
    "opt = tf.keras.optimizers.Nadam(lr=0.0001, clipvalue=1.0)\n",
    "model.compile(loss='sparse_categorical_crossentropy', optimizer=opt, metrics=['accuracy'])"
   ]
  },
  {
   "cell_type": "code",
   "execution_count": 23,
   "metadata": {},
   "outputs": [
    {
     "name": "stderr",
     "output_type": "stream",
     "text": [
      "WARNING:absl:`lr` is deprecated in Keras optimizer, please use `learning_rate` or use the legacy optimizer, e.g.,tf.keras.optimizers.legacy.Nadam.\n"
     ]
    }
   ],
   "source": [
    "import tensorflow as tf\n",
    "vocab_size = 10000\n",
    "embedding_dim = 64\n",
    "max_length = 15\n",
    "trunc_type = 'post'\n",
    "padding_type = 'post'\n",
    "oov_tok = ''\n",
    "model = tf.keras.Sequential([\n",
    "  tf.keras.layers.Embedding(vocab_size, embedding_dim, input_length=max_length, mask_zero=True),  # Updated vocab_size\n",
    "  tf.keras.layers.Bidirectional(tf.keras.layers.LSTM(64, return_sequences=True)),\n",
    "  tf.keras.layers.Bidirectional(tf.keras.layers.LSTM(16)),\n",
    "  tf.keras.layers.Dense(16, kernel_initializer=\"he_normal\", kernel_regularizer=tf.keras.regularizers.l2(0.1), bias_regularizer=tf.keras.regularizers.l2(0.01)),\n",
    "  tf.keras.layers.LeakyReLU(alpha=0.3),\n",
    "  tf.keras.layers.Dropout(0.2),\n",
    "  tf.keras.layers.BatchNormalization(),\n",
    "  tf.keras.layers.Dense(16, kernel_initializer=\"he_normal\", kernel_regularizer=tf.keras.regularizers.l2(0.1),\n",
    "                        bias_regularizer=tf.keras.regularizers.l2(0.01),\n",
    "                        activation='elu'),\n",
    "  tf.keras.layers.Dropout(0.2),\n",
    "  tf.keras.layers.BatchNormalization(),\n",
    "  tf.keras.layers.Dense(8, kernel_initializer=\"he_normal\", kernel_regularizer=tf.keras.regularizers.l2(0.1),\n",
    "                        activation='relu'),\n",
    "  tf.keras.layers.Dense(3, activation='softmax')\n",
    "])\n",
    "opt = tf.keras.optimizers.Nadam(lr=0.0001, clipvalue=1.0)\n",
    "model.compile(loss='sparse_categorical_crossentropy', optimizer=opt, metrics=['accuracy'])"
   ]
  },
  {
   "cell_type": "code",
   "execution_count": null,
   "metadata": {},
   "outputs": [],
   "source": []
  },
  {
   "cell_type": "code",
   "execution_count": 24,
   "metadata": {},
   "outputs": [
    {
     "name": "stdout",
     "output_type": "stream",
     "text": [
      "Epoch 1/30\n"
     ]
    },
    {
     "name": "stdout",
     "output_type": "stream",
     "text": [
      "332/332 [==============================] - 31s 43ms/step - loss: 4.5309 - accuracy: 0.6808 - val_loss: 2.2991 - val_accuracy: 0.5640 - lr: 0.0010\n",
      "Epoch 2/30\n",
      "332/332 [==============================] - 10s 29ms/step - loss: 1.2460 - accuracy: 0.7777 - val_loss: 0.9207 - val_accuracy: 0.7149 - lr: 0.0010\n",
      "Epoch 3/30\n",
      "332/332 [==============================] - 10s 29ms/step - loss: 0.6105 - accuracy: 0.8158 - val_loss: 0.6506 - val_accuracy: 0.7466 - lr: 0.0010\n",
      "Epoch 4/30\n",
      "332/332 [==============================] - 10s 29ms/step - loss: 0.4533 - accuracy: 0.8436 - val_loss: 0.6506 - val_accuracy: 0.7362 - lr: 0.0010\n",
      "Epoch 5/30\n",
      "332/332 [==============================] - 10s 29ms/step - loss: 0.3933 - accuracy: 0.8652 - val_loss: 0.7290 - val_accuracy: 0.7478 - lr: 0.0010\n",
      "Epoch 5: early stopping\n"
     ]
    }
   ],
   "source": [
    "callback = tf.keras.callbacks.EarlyStopping(monitor='val_loss', patience=1, verbose=1)\n",
    "reduce_lr = tf.keras.callbacks.ReduceLROnPlateau(monitor='val_loss', factor=0.2,\n",
    "                              patience=5, min_lr=0.001)\n",
    "checkpoint_filepath = './checkpoint_model'\n",
    "model_checkpoint = tf.keras.callbacks.ModelCheckpoint(\n",
    "    filepath=checkpoint_filepath,\n",
    "    save_weights_only=True,\n",
    "    monitor='val_accuracy',\n",
    "    mode='max',\n",
    "    save_best_only=True)\n",
    "\n",
    "num_epochs = 30\n",
    "history = model.fit(train_padded, training_label_seq, epochs=num_epochs, validation_data=(validation_padded, validation_label_seq), batch_size=100, callbacks=[callback, reduce_lr, model_checkpoint])"
   ]
  },
  {
   "cell_type": "code",
   "execution_count": 25,
   "metadata": {},
   "outputs": [
    {
     "data": {
      "image/png": "[encoded data removed]",
      "text/plain": [
       "<Figure size 640x480 with 1 Axes>"
      ]
     },
     "metadata": {},
     "output_type": "display_data"
    },
    {
     "data": {
      "image/png": "[encoded data removed]",
      "text/plain": [
       "<Figure size 640x480 with 1 Axes>"
      ]
     },
     "metadata": {},
     "output_type": "display_data"
    }
   ],
   "source": [
    "loss = history.history['loss']\n",
    "val_loss = history.history['val_loss']\n",
    "acc = history.history['accuracy']\n",
    "val_acc = history.history['val_accuracy']\n",
    "epochs = range(1, len(acc) + 1)\n",
    "\n",
    "plt.figure()\n",
    "plt.title('Training and validation accuracy')\n",
    "plt.plot(epochs, acc, 'red', label='Accuracy')\n",
    "plt.plot(epochs, val_acc, 'blue', label='ValidationAccuracy')\n",
    "plt.legend()\n",
    "\n",
    "plt.figure()\n",
    "plt.title('Training and validation loss')\n",
    "plt.plot(epochs, loss, 'red', label='Training loss')\n",
    "plt.plot(epochs, val_loss, 'blue', label='Validation loss')\n",
    "plt.legend()\n",
    "\n",
    "plt.show()"
   ]
  },
  {
   "cell_type": "code",
   "execution_count": null,
   "metadata": {},
   "outputs": [],
   "source": []
  }
 ],
 "metadata": {
  "kernelspec": {
   "display_name": "base",
   "language": "python",
   "name": "python3"
  },
  "language_info": {
   "codemirror_mode": {
    "name": "ipython",
    "version": 3
   },
   "file_extension": ".py",
   "mimetype": "text/x-python",
   "name": "python",
   "nbconvert_exporter": "python",
   "pygments_lexer": "ipython3",
   "version": "3.11.4"
  },
  "orig_nbformat": 4
 },
 "nbformat": 4,
 "nbformat_minor": 2
}
