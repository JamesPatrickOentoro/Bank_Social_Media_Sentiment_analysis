{
 "cells": [
  {
   "cell_type": "code",
   "execution_count": 5,
   "metadata": {},
   "outputs": [
    {
     "data": {
      "text/html": [
       "<div>\n",
       "<style scoped>\n",
       "    .dataframe tbody tr th:only-of-type {\n",
       "        vertical-align: middle;\n",
       "    }\n",
       "\n",
       "    .dataframe tbody tr th {\n",
       "        vertical-align: top;\n",
       "    }\n",
       "\n",
       "    .dataframe thead th {\n",
       "        text-align: right;\n",
       "    }\n",
       "</style>\n",
       "<table border=\"1\" class=\"dataframe\">\n",
       "  <thead>\n",
       "    <tr style=\"text-align: right;\">\n",
       "      <th></th>\n",
       "      <th>Data</th>\n",
       "      <th>Label</th>\n",
       "      <th>translated</th>\n",
       "      <th>Unnamed: 3</th>\n",
       "      <th>review_text_cleaned</th>\n",
       "    </tr>\n",
       "  </thead>\n",
       "  <tbody>\n",
       "    <tr>\n",
       "      <th>0</th>\n",
       "      <td>bangka blm bukan kantor pos ambil nya</td>\n",
       "      <td>1</td>\n",
       "      <td>bangka blm bukan kantor pos ambil nya</td>\n",
       "      <td>NaN</td>\n",
       "      <td>bangka belum bukan kantor pos ambil nya</td>\n",
       "    </tr>\n",
       "    <tr>\n",
       "      <th>1</th>\n",
       "      <td>halo min apa kpr sudah berjalan bisa minta di...</td>\n",
       "      <td>2</td>\n",
       "      <td>lingkaran cahaya min apa kpr sudah berjalan b...</td>\n",
       "      <td>NaN</td>\n",
       "      <td>lingkaran cahaya min apa kpr sudah berjalan bi...</td>\n",
       "    </tr>\n",
       "    <tr>\n",
       "      <th>2</th>\n",
       "      <td>perancis</td>\n",
       "      <td>1</td>\n",
       "      <td>perancis</td>\n",
       "      <td>NaN</td>\n",
       "      <td>perancis</td>\n",
       "    </tr>\n",
       "    <tr>\n",
       "      <th>3</th>\n",
       "      <td>kapan giveaway nya nih megamin [smirking face]</td>\n",
       "      <td>0</td>\n",
       "      <td>kapan memberi secara gratis nya nih megamin w...</td>\n",
       "      <td>NaN</td>\n",
       "      <td>kapan memberi secara gratis nya ini megamin wa...</td>\n",
       "    </tr>\n",
       "    <tr>\n",
       "      <th>4</th>\n",
       "      <td>geh yang balam tau gak soto tangkar yang dulu ...</td>\n",
       "      <td>1</td>\n",
       "      <td>geh yang balam tau gak soto tangkar yang dulu...</td>\n",
       "      <td>NaN</td>\n",
       "      <td>geh yang balam tahu tidak soto tangkar yang du...</td>\n",
       "    </tr>\n",
       "    <tr>\n",
       "      <th>...</th>\n",
       "      <td>...</td>\n",
       "      <td>...</td>\n",
       "      <td>...</td>\n",
       "      <td>...</td>\n",
       "      <td>...</td>\n",
       "    </tr>\n",
       "    <tr>\n",
       "      <th>31994</th>\n",
       "      <td>kak brarti perlu download welma lagi kan utk b...</td>\n",
       "      <td>0</td>\n",
       "      <td>kak brarti perlu unduh welma lagi kan utk beli...</td>\n",
       "      <td>NaN</td>\n",
       "      <td>kak berarti perlu unduh welma lagi kan untuk b...</td>\n",
       "    </tr>\n",
       "    <tr>\n",
       "      <th>31995</th>\n",
       "      <td>semoga kita terhindar dari modus penipuan bri ...</td>\n",
       "      <td>0</td>\n",
       "      <td>semoga kita terhindar dari modus penipuan bri ...</td>\n",
       "      <td>NaN</td>\n",
       "      <td>semoga kita terhindar dari modus penipuan bri ...</td>\n",
       "    </tr>\n",
       "    <tr>\n",
       "      <th>31996</th>\n",
       "      <td>hah dimana tuh tahun kemaren ngajuin mintanya...</td>\n",
       "      <td>2</td>\n",
       "      <td>ha dimana tuh tahun kemaren ngajuin mintanya 2jt</td>\n",
       "      <td>NaN</td>\n",
       "      <td>tertawa di mana itu tahun kemarin ngajuin mint...</td>\n",
       "    </tr>\n",
       "    <tr>\n",
       "      <th>31997</th>\n",
       "      <td>masang nomor mudah mudahan aja bisa tembus tuh...</td>\n",
       "      <td>0</td>\n",
       "      <td>masang nomor mudah mudahan aja bisa tembus tuh...</td>\n",
       "      <td>NaN</td>\n",
       "      <td>memasang nomor mudah mudahan saja bisa tembus ...</td>\n",
       "    </tr>\n",
       "    <tr>\n",
       "      <th>31998</th>\n",
       "      <td>pengalaman buka rekening melalui marketingnya ...</td>\n",
       "      <td>2</td>\n",
       "      <td>pengalaman buka rekening melalui marketingnya ...</td>\n",
       "      <td>NaN</td>\n",
       "      <td>pengalaman buka rekening melalui marketingnya ...</td>\n",
       "    </tr>\n",
       "  </tbody>\n",
       "</table>\n",
       "<p>31999 rows × 5 columns</p>\n",
       "</div>"
      ],
      "text/plain": [
       "                                                    Data  Label  \\\n",
       "0                  bangka blm bukan kantor pos ambil nya      1   \n",
       "1       halo min apa kpr sudah berjalan bisa minta di...      2   \n",
       "2                                              perancis       1   \n",
       "3        kapan giveaway nya nih megamin [smirking face]       0   \n",
       "4      geh yang balam tau gak soto tangkar yang dulu ...      1   \n",
       "...                                                  ...    ...   \n",
       "31994  kak brarti perlu download welma lagi kan utk b...      0   \n",
       "31995  semoga kita terhindar dari modus penipuan bri ...      0   \n",
       "31996   hah dimana tuh tahun kemaren ngajuin mintanya...      2   \n",
       "31997  masang nomor mudah mudahan aja bisa tembus tuh...      0   \n",
       "31998  pengalaman buka rekening melalui marketingnya ...      2   \n",
       "\n",
       "                                              translated Unnamed: 3  \\\n",
       "0                  bangka blm bukan kantor pos ambil nya        NaN   \n",
       "1       lingkaran cahaya min apa kpr sudah berjalan b...        NaN   \n",
       "2                                               perancis        NaN   \n",
       "3       kapan memberi secara gratis nya nih megamin w...        NaN   \n",
       "4       geh yang balam tau gak soto tangkar yang dulu...        NaN   \n",
       "...                                                  ...        ...   \n",
       "31994  kak brarti perlu unduh welma lagi kan utk beli...        NaN   \n",
       "31995  semoga kita terhindar dari modus penipuan bri ...        NaN   \n",
       "31996   ha dimana tuh tahun kemaren ngajuin mintanya 2jt        NaN   \n",
       "31997  masang nomor mudah mudahan aja bisa tembus tuh...        NaN   \n",
       "31998  pengalaman buka rekening melalui marketingnya ...        NaN   \n",
       "\n",
       "                                     review_text_cleaned  \n",
       "0                bangka belum bukan kantor pos ambil nya  \n",
       "1      lingkaran cahaya min apa kpr sudah berjalan bi...  \n",
       "2                                               perancis  \n",
       "3      kapan memberi secara gratis nya ini megamin wa...  \n",
       "4      geh yang balam tahu tidak soto tangkar yang du...  \n",
       "...                                                  ...  \n",
       "31994  kak berarti perlu unduh welma lagi kan untuk b...  \n",
       "31995  semoga kita terhindar dari modus penipuan bri ...  \n",
       "31996  tertawa di mana itu tahun kemarin ngajuin mint...  \n",
       "31997  memasang nomor mudah mudahan saja bisa tembus ...  \n",
       "31998  pengalaman buka rekening melalui marketingnya ...  \n",
       "\n",
       "[31999 rows x 5 columns]"
      ]
     },
     "execution_count": 5,
     "metadata": {},
     "output_type": "execute_result"
    }
   ],
   "source": [
    "import pandas as pd\n",
    "combined_df = pd.read_excel('fix_fixed.xlsx')\n",
    "combined_df"
   ]
  },
  {
   "cell_type": "code",
   "execution_count": 6,
   "metadata": {},
   "outputs": [],
   "source": [
    "combined_df = combined_df.dropna(subset=['review_text_cleaned'])\n",
    "combined_df.reset_index(drop=True,inplace=True)"
   ]
  },
  {
   "cell_type": "code",
   "execution_count": 7,
   "metadata": {},
   "outputs": [],
   "source": [
    "from nltk.corpus import stopwords\n",
    "additional_stop = ['nya','yg','ga','gk','tp','nih','noh','lah','dong','pa','yuk','gak','ya','sih','yaa','aja', 'min', 'bca','brimo','biar','kak','blu','mega','allo','bank','bca','btn']\n",
    "all_stopwords = stopwords.words('indonesian') + additional_stop"
   ]
  },
  {
   "cell_type": "code",
   "execution_count": 8,
   "metadata": {},
   "outputs": [],
   "source": [
    "from sklearn.model_selection import train_test_split\n",
    "from sklearn.preprocessing import LabelEncoder\n",
    "X=combined_df['review_text_cleaned']\n",
    "y=combined_df['Label']\n",
    "encoder = LabelEncoder()\n",
    "encoded_labels = encoder.fit_transform(y)\n",
    "X_train, X_test, y_train, y_test = train_test_split(X, encoded_labels, test_size=0.20,random_state=30)"
   ]
  },
  {
   "cell_type": "code",
   "execution_count": 9,
   "metadata": {},
   "outputs": [],
   "source": [
    "from sklearn import preprocessing\n",
    "le = preprocessing.LabelEncoder()"
   ]
  },
  {
   "cell_type": "code",
   "execution_count": 10,
   "metadata": {},
   "outputs": [],
   "source": [
    "training_ratings = le.fit_transform(y_train)\n",
    "val_ratings = le.transform(y_test)"
   ]
  },
  {
   "cell_type": "code",
   "execution_count": 11,
   "metadata": {},
   "outputs": [
    {
     "data": {
      "text/plain": [
       "array([0, 1, 0, ..., 0, 0, 2], dtype=int64)"
      ]
     },
     "execution_count": 11,
     "metadata": {},
     "output_type": "execute_result"
    }
   ],
   "source": [
    "val_ratings"
   ]
  },
  {
   "cell_type": "code",
   "execution_count": 12,
   "metadata": {},
   "outputs": [],
   "source": [
    "vocab_size = 10000\n",
    "embedding_dim = 64\n",
    "max_length = 15\n",
    "trunc_type = 'post'\n",
    "padding_type = 'post'\n",
    "oov_tok = '<OOV>'"
   ]
  },
  {
   "cell_type": "code",
   "execution_count": 13,
   "metadata": {},
   "outputs": [],
   "source": [
    "from tensorflow.keras.preprocessing.text import Tokenizer\n",
    "tokenizer = Tokenizer(num_words = vocab_size, oov_token=oov_tok)\n",
    "tokenizer.fit_on_texts(X_train)"
   ]
  },
  {
   "cell_type": "code",
   "execution_count": 14,
   "metadata": {},
   "outputs": [
    {
     "data": {
      "text/plain": [
       "{'<OOV>': 1,\n",
       " 'bank': 2,\n",
       " 'wajah': 3,\n",
       " 'dengan': 4,\n",
       " 'hati': 5,\n",
       " 'dan': 6,\n",
       " 'mata': 7,\n",
       " 'bisa': 8,\n",
       " 'ada': 9,\n",
       " 'saya': 10}"
      ]
     },
     "execution_count": 14,
     "metadata": {},
     "output_type": "execute_result"
    }
   ],
   "source": [
    "word_index = tokenizer.word_index\n",
    "dict(list(word_index.items())[0:10])"
   ]
  },
  {
   "cell_type": "code",
   "execution_count": 15,
   "metadata": {},
   "outputs": [
    {
     "name": "stdout",
     "output_type": "stream",
     "text": [
      "[103, 2, 14, 5, 748, 5, 748, 5, 748]\n"
     ]
    }
   ],
   "source": [
    "train_sequences = tokenizer.texts_to_sequences(X_train)\n",
    "print(train_sequences[10])"
   ]
  },
  {
   "cell_type": "code",
   "execution_count": 16,
   "metadata": {},
   "outputs": [
    {
     "name": "stdout",
     "output_type": "stream",
     "text": [
      "35\n",
      "15\n",
      "29\n",
      "15\n",
      "9\n",
      "15\n"
     ]
    }
   ],
   "source": [
    "from tensorflow.keras.preprocessing.sequence import pad_sequences\n",
    "train_padded = pad_sequences(train_sequences, maxlen=max_length, padding=padding_type, truncating=trunc_type)\n",
    "print(len(train_sequences[0]))\n",
    "print(len(train_padded[0]))\n",
    "\n",
    "print(len(train_sequences[1]))\n",
    "print(len(train_padded[1]))\n",
    "\n",
    "print(len(train_sequences[10]))\n",
    "print(len(train_padded[10]))"
   ]
  },
  {
   "cell_type": "code",
   "execution_count": 17,
   "metadata": {},
   "outputs": [
    {
     "name": "stdout",
     "output_type": "stream",
     "text": [
      "6388\n",
      "(6388, 15)\n"
     ]
    }
   ],
   "source": [
    "validation_sequences = tokenizer.texts_to_sequences(X_test)\n",
    "validation_padded = pad_sequences(validation_sequences, maxlen=max_length, padding=padding_type, truncating=trunc_type)\n",
    "\n",
    "print(len(validation_sequences))\n",
    "print(validation_padded.shape)"
   ]
  },
  {
   "cell_type": "code",
   "execution_count": 18,
   "metadata": {},
   "outputs": [],
   "source": [
    "import numpy as np\n",
    "training_label_seq = np.array(y_train)\n",
    "validation_label_seq = np.array(y_test)"
   ]
  },
  {
   "cell_type": "code",
   "execution_count": 19,
   "metadata": {},
   "outputs": [
    {
     "data": {
      "text/plain": [
       "(25549,)"
      ]
     },
     "execution_count": 19,
     "metadata": {},
     "output_type": "execute_result"
    }
   ],
   "source": [
    "np.shape(X_train)"
   ]
  },
  {
   "cell_type": "code",
   "execution_count": 20,
   "metadata": {},
   "outputs": [],
   "source": [
    "from tensorflow import keras\n",
    "import tensorflow as tf\n",
    "\n",
    "def baseline_model():\n",
    "  input_ = keras.layers.Input(1)\n",
    "  embedding = keras.layers.Embedding(vocab_size, embedding_dim)(input_)\n",
    "  bidirectional = keras.layers.Bidirectional(tf.keras.layers.LSTM(embedding_dim))(embedding)\n",
    "  hidden1 = keras.layers.Dense(embedding_dim, activation='relu')(bidirectional)\n",
    "  output = keras.layers.Dense(3, activation='softmax')(hidden1)\n",
    "  model = keras.models.Model(inputs=[input_], outputs=[output])\n",
    "\n",
    "  model.compile(loss='sparse_categorical_crossentropy', optimizer='adam', metrics=['accuracy'])\n",
    "\n",
    "  return model"
   ]
  },
  {
   "cell_type": "code",
   "execution_count": 21,
   "metadata": {},
   "outputs": [
    {
     "name": "stdout",
     "output_type": "stream",
     "text": [
      "Model: \"model\"\n",
      "_________________________________________________________________\n",
      " Layer (type)                Output Shape              Param #   \n",
      "=================================================================\n",
      " input_1 (InputLayer)        [(None, 1)]               0         \n",
      "                                                                 \n",
      " embedding (Embedding)       (None, 1, 64)             640000    \n",
      "                                                                 \n",
      " bidirectional (Bidirectiona  (None, 128)              66048     \n",
      " l)                                                              \n",
      "                                                                 \n",
      " dense (Dense)               (None, 64)                8256      \n",
      "                                                                 \n",
      " dense_1 (Dense)             (None, 3)                 195       \n",
      "                                                                 \n",
      "=================================================================\n",
      "Total params: 714,499\n",
      "Trainable params: 714,499\n",
      "Non-trainable params: 0\n",
      "_________________________________________________________________\n"
     ]
    }
   ],
   "source": [
    "baseline_model = baseline_model()\n",
    "baseline_model.summary()"
   ]
  },
  {
   "cell_type": "code",
   "execution_count": 22,
   "metadata": {},
   "outputs": [
    {
     "name": "stdout",
     "output_type": "stream",
     "text": [
      "Epoch 1/10\n",
      "WARNING:tensorflow:Model was constructed with shape (None, 1) for input KerasTensor(type_spec=TensorSpec(shape=(None, 1), dtype=tf.float32, name='input_1'), name='input_1', description=\"created by layer 'input_1'\"), but it was called on an input with incompatible shape (None, 15).\n",
      "WARNING:tensorflow:Model was constructed with shape (None, 1) for input KerasTensor(type_spec=TensorSpec(shape=(None, 1), dtype=tf.float32, name='input_1'), name='input_1', description=\"created by layer 'input_1'\"), but it was called on an input with incompatible shape (None, 15).\n",
      "199/200 [============================>.] - ETA: 0s - loss: 0.6990 - accuracy: 0.6897WARNING:tensorflow:Model was constructed with shape (None, 1) for input KerasTensor(type_spec=TensorSpec(shape=(None, 1), dtype=tf.float32, name='input_1'), name='input_1', description=\"created by layer 'input_1'\"), but it was called on an input with incompatible shape (None, 15).\n",
      "200/200 [==============================] - 9s 26ms/step - loss: 0.6988 - accuracy: 0.6899 - val_loss: 0.5563 - val_accuracy: 0.7606\n",
      "Epoch 2/10\n",
      "200/200 [==============================] - 4s 21ms/step - loss: 0.4986 - accuracy: 0.7960 - val_loss: 0.5533 - val_accuracy: 0.7699\n",
      "Epoch 3/10\n",
      "200/200 [==============================] - 4s 22ms/step - loss: 0.4221 - accuracy: 0.8341 - val_loss: 0.5723 - val_accuracy: 0.7611\n",
      "Epoch 4/10\n",
      "200/200 [==============================] - 4s 22ms/step - loss: 0.3669 - accuracy: 0.8582 - val_loss: 0.6137 - val_accuracy: 0.7530\n",
      "Epoch 5/10\n",
      "200/200 [==============================] - 4s 20ms/step - loss: 0.3269 - accuracy: 0.8753 - val_loss: 0.6588 - val_accuracy: 0.7577\n",
      "Epoch 6/10\n",
      "200/200 [==============================] - 4s 20ms/step - loss: 0.2899 - accuracy: 0.8927 - val_loss: 0.6867 - val_accuracy: 0.7447\n",
      "Epoch 7/10\n",
      "200/200 [==============================] - 4s 20ms/step - loss: 0.2639 - accuracy: 0.9025 - val_loss: 0.7663 - val_accuracy: 0.7370\n",
      "Epoch 8/10\n",
      "200/200 [==============================] - 4s 20ms/step - loss: 0.2361 - accuracy: 0.9101 - val_loss: 0.8530 - val_accuracy: 0.7447\n",
      "Epoch 9/10\n",
      "200/200 [==============================] - 4s 20ms/step - loss: 0.2138 - accuracy: 0.9185 - val_loss: 0.9212 - val_accuracy: 0.7364\n",
      "Epoch 10/10\n",
      "200/200 [==============================] - 4s 20ms/step - loss: 0.1925 - accuracy: 0.9245 - val_loss: 0.9976 - val_accuracy: 0.7350\n"
     ]
    }
   ],
   "source": [
    "num_epochs = 10\n",
    "history = baseline_model.fit(train_padded, training_label_seq, epochs=num_epochs, validation_data=(validation_padded, validation_label_seq), batch_size=128)"
   ]
  },
  {
   "cell_type": "code",
   "execution_count": 23,
   "metadata": {},
   "outputs": [
    {
     "data": {
      "image/png": "[encoded data removed]",
      "text/plain": [
       "<Figure size 432x288 with 1 Axes>"
      ]
     },
     "metadata": {
      "needs_background": "light"
     },
     "output_type": "display_data"
    },
    {
     "data": {
      "image/png": "[encoded data removed]",
      "text/plain": [
       "<Figure size 432x288 with 1 Axes>"
      ]
     },
     "metadata": {
      "needs_background": "light"
     },
     "output_type": "display_data"
    }
   ],
   "source": [
    "import matplotlib.pyplot as plt\n",
    "def plot_graphs(history, string):\n",
    "  plt.plot(history.history[string])\n",
    "  plt.plot(history.history['val_'+string])\n",
    "  plt.xlabel(\"Epochs\")\n",
    "  plt.ylabel(string)\n",
    "  plt.legend([string, 'val_'+string])\n",
    "  plt.show()\n",
    "  \n",
    "plot_graphs(history, \"accuracy\")\n",
    "plot_graphs(history, \"loss\")"
   ]
  },
  {
   "cell_type": "code",
   "execution_count": 1,
   "metadata": {},
   "outputs": [
    {
     "name": "stderr",
     "output_type": "stream",
     "text": [
      "WARNING:absl:`lr` is deprecated in Keras optimizer, please use `learning_rate` or use the legacy optimizer, e.g.,tf.keras.optimizers.legacy.Nadam.\n"
     ]
    }
   ],
   "source": [
    "import tensorflow as tf\n",
    "vocab_size = 10000\n",
    "embedding_dim = 64\n",
    "max_length = 100\n",
    "trunc_type = 'post'\n",
    "padding_type = 'post'\n",
    "oov_tok = ''\n",
    "\n",
    "model = tf.keras.Sequential([\n",
    "  tf.keras.layers.Embedding(128, embedding_dim, input_length=max_length, mask_zero=True),\n",
    "  tf.keras.layers.Bidirectional(tf.keras.layers.LSTM(64,return_sequences=True)),\n",
    "  tf.keras.layers.Bidirectional(tf.keras.layers.LSTM(16)),\n",
    "  tf.keras.layers.Dense(16,kernel_initializer=\"he_normal\", kernel_regularizer = tf.keras.regularizers.l2(0.1),bias_regularizer = tf.keras.regularizers.l2(0.01)),\n",
    "  tf.keras.layers.LeakyReLU(alpha=0.3),\n",
    "  tf.keras.layers.Dropout(0.5),\n",
    "  tf.keras.layers.BatchNormalization(),\n",
    "  tf.keras.layers.Dense(16, kernel_initializer=\"he_normal\", kernel_regularizer = tf.keras.regularizers.l2(0.1),\n",
    "                        bias_regularizer  = tf.keras.regularizers.l2(0.01),\n",
    "                        activation='elu'),\n",
    "  tf.keras.layers.Dropout(0.5),\n",
    "  tf.keras.layers.BatchNormalization(),\n",
    "  tf.keras.layers.Dense(8, kernel_initializer=\"he_normal\", kernel_regularizer = tf.keras.regularizers.l2(0.1),\n",
    "                        activation='relu'),\n",
    "  tf.keras.layers.Dense(3, activation='softmax')\n",
    "  ])\n",
    "\n",
    "\n",
    "opt = tf.keras.optimizers.Nadam(lr=0.0001, clipvalue=1.0)\n",
    "model.compile(loss='sparse_categorical_crossentropy', optimizer=opt, metrics=['accuracy'])"
   ]
  },
  {
   "cell_type": "code",
   "execution_count": 3,
   "metadata": {},
   "outputs": [
    {
     "name": "stdout",
     "output_type": "stream",
     "text": [
      "Model: \"sequential\"\n",
      "_________________________________________________________________\n",
      " Layer (type)                Output Shape              Param #   \n",
      "=================================================================\n",
      " embedding (Embedding)       (None, 100, 64)           8192      \n",
      "                                                                 \n",
      " bidirectional (Bidirection  (None, 100, 128)          66048     \n",
      " al)                                                             \n",
      "                                                                 \n",
      " bidirectional_1 (Bidirecti  (None, 32)                18560     \n",
      " onal)                                                           \n",
      "                                                                 \n",
      " dense (Dense)               (None, 16)                528       \n",
      "                                                                 \n",
      " leaky_re_lu (LeakyReLU)     (None, 16)                0         \n",
      "                                                                 \n",
      " dropout (Dropout)           (None, 16)                0         \n",
      "                                                                 \n",
      " batch_normalization (Batch  (None, 16)                64        \n",
      " Normalization)                                                  \n",
      "                                                                 \n",
      " dense_1 (Dense)             (None, 16)                272       \n",
      "                                                                 \n",
      " dropout_1 (Dropout)         (None, 16)                0         \n",
      "                                                                 \n",
      " batch_normalization_1 (Bat  (None, 16)                64        \n",
      " chNormalization)                                                \n",
      "                                                                 \n",
      " dense_2 (Dense)             (None, 8)                 136       \n",
      "                                                                 \n",
      " dense_3 (Dense)             (None, 3)                 27        \n",
      "                                                                 \n",
      "=================================================================\n",
      "Total params: 93891 (366.76 KB)\n",
      "Trainable params: 93827 (366.51 KB)\n",
      "Non-trainable params: 64 (256.00 Byte)\n",
      "_________________________________________________________________\n"
     ]
    }
   ],
   "source": [
    "\n",
    "model.summary()"
   ]
  },
  {
   "cell_type": "code",
   "execution_count": 26,
   "metadata": {},
   "outputs": [
    {
     "name": "stdout",
     "output_type": "stream",
     "text": [
      "Epoch 1/30\n",
      "256/256 [==============================] - 28s 53ms/step - loss: 8.1894 - accuracy: 0.3892 - val_loss: 7.5707 - val_accuracy: 0.5756 - lr: 1.0000e-04\n",
      "Epoch 2/30\n",
      "256/256 [==============================] - 8s 33ms/step - loss: 7.1354 - accuracy: 0.4963 - val_loss: 6.6267 - val_accuracy: 0.6079 - lr: 1.0000e-04\n",
      "Epoch 3/30\n",
      "256/256 [==============================] - 8s 33ms/step - loss: 6.2725 - accuracy: 0.5517 - val_loss: 5.8097 - val_accuracy: 0.6425 - lr: 1.0000e-04\n",
      "Epoch 4/30\n",
      "256/256 [==============================] - 8s 31ms/step - loss: 5.5366 - accuracy: 0.5868 - val_loss: 5.1493 - val_accuracy: 0.6451 - lr: 1.0000e-04\n",
      "Epoch 5/30\n",
      "256/256 [==============================] - 8s 32ms/step - loss: 4.8951 - accuracy: 0.6128 - val_loss: 4.5426 - val_accuracy: 0.6542 - lr: 1.0000e-04\n",
      "Epoch 6/30\n",
      "256/256 [==============================] - 8s 32ms/step - loss: 4.3342 - accuracy: 0.6313 - val_loss: 4.0328 - val_accuracy: 0.6760 - lr: 1.0000e-04\n",
      "Epoch 7/30\n",
      "256/256 [==============================] - 8s 31ms/step - loss: 3.8403 - accuracy: 0.6454 - val_loss: 3.5656 - val_accuracy: 0.6833 - lr: 1.0000e-04\n",
      "Epoch 8/30\n",
      "256/256 [==============================] - 8s 31ms/step - loss: 3.4041 - accuracy: 0.6585 - val_loss: 3.1892 - val_accuracy: 0.7002 - lr: 1.0000e-04\n",
      "Epoch 9/30\n",
      "256/256 [==============================] - 8s 31ms/step - loss: 3.0196 - accuracy: 0.6731 - val_loss: 2.8079 - val_accuracy: 0.7184 - lr: 1.0000e-04\n",
      "Epoch 10/30\n",
      "256/256 [==============================] - 8s 32ms/step - loss: 2.6830 - accuracy: 0.6860 - val_loss: 2.5051 - val_accuracy: 0.7226 - lr: 1.0000e-04\n",
      "Epoch 11/30\n",
      "256/256 [==============================] - 8s 31ms/step - loss: 2.3861 - accuracy: 0.7002 - val_loss: 2.2357 - val_accuracy: 0.7378 - lr: 1.0000e-04\n",
      "Epoch 12/30\n",
      "256/256 [==============================] - 8s 32ms/step - loss: 2.1216 - accuracy: 0.7177 - val_loss: 1.9911 - val_accuracy: 0.7439 - lr: 1.0000e-04\n",
      "Epoch 13/30\n",
      "256/256 [==============================] - 8s 32ms/step - loss: 1.8904 - accuracy: 0.7356 - val_loss: 1.7830 - val_accuracy: 0.7503 - lr: 1.0000e-04\n",
      "Epoch 14/30\n",
      "256/256 [==============================] - 8s 31ms/step - loss: 1.6866 - accuracy: 0.7493 - val_loss: 1.6081 - val_accuracy: 0.7495 - lr: 1.0000e-04\n",
      "Epoch 15/30\n",
      "256/256 [==============================] - 8s 30ms/step - loss: 1.5123 - accuracy: 0.7617 - val_loss: 1.4520 - val_accuracy: 0.7603 - lr: 1.0000e-04\n",
      "Epoch 16/30\n",
      "256/256 [==============================] - 8s 31ms/step - loss: 1.3588 - accuracy: 0.7751 - val_loss: 1.3233 - val_accuracy: 0.7588 - lr: 1.0000e-04\n",
      "Epoch 17/30\n",
      "256/256 [==============================] - 8s 31ms/step - loss: 1.2199 - accuracy: 0.7887 - val_loss: 1.2130 - val_accuracy: 0.7517 - lr: 1.0000e-04\n",
      "Epoch 18/30\n",
      "256/256 [==============================] - 8s 31ms/step - loss: 1.1048 - accuracy: 0.7963 - val_loss: 1.1175 - val_accuracy: 0.7575 - lr: 1.0000e-04\n",
      "Epoch 19/30\n",
      "256/256 [==============================] - 8s 30ms/step - loss: 1.0000 - accuracy: 0.8081 - val_loss: 1.0450 - val_accuracy: 0.7549 - lr: 1.0000e-04\n",
      "Epoch 20/30\n",
      "256/256 [==============================] - 8s 31ms/step - loss: 0.9150 - accuracy: 0.8122 - val_loss: 0.9757 - val_accuracy: 0.7559 - lr: 1.0000e-04\n",
      "Epoch 21/30\n",
      "256/256 [==============================] - 8s 30ms/step - loss: 0.8355 - accuracy: 0.8236 - val_loss: 0.9212 - val_accuracy: 0.7553 - lr: 1.0000e-04\n",
      "Epoch 22/30\n",
      "256/256 [==============================] - 8s 30ms/step - loss: 0.7722 - accuracy: 0.8292 - val_loss: 0.8794 - val_accuracy: 0.7549 - lr: 1.0000e-04\n",
      "Epoch 23/30\n",
      "256/256 [==============================] - 8s 31ms/step - loss: 0.7148 - accuracy: 0.8349 - val_loss: 0.8413 - val_accuracy: 0.7539 - lr: 1.0000e-04\n",
      "Epoch 24/30\n",
      "256/256 [==============================] - 8s 32ms/step - loss: 0.6628 - accuracy: 0.8432 - val_loss: 0.8120 - val_accuracy: 0.7558 - lr: 1.0000e-04\n",
      "Epoch 25/30\n",
      "256/256 [==============================] - 8s 31ms/step - loss: 0.6225 - accuracy: 0.8491 - val_loss: 0.7893 - val_accuracy: 0.7511 - lr: 1.0000e-04\n",
      "Epoch 26/30\n",
      "256/256 [==============================] - 8s 31ms/step - loss: 0.5824 - accuracy: 0.8533 - val_loss: 0.7763 - val_accuracy: 0.7549 - lr: 1.0000e-04\n",
      "Epoch 27/30\n",
      "256/256 [==============================] - 8s 31ms/step - loss: 0.5530 - accuracy: 0.8595 - val_loss: 0.7660 - val_accuracy: 0.7441 - lr: 1.0000e-04\n",
      "Epoch 28/30\n",
      "256/256 [==============================] - 8s 32ms/step - loss: 0.5244 - accuracy: 0.8627 - val_loss: 0.7531 - val_accuracy: 0.7486 - lr: 1.0000e-04\n",
      "Epoch 29/30\n",
      "256/256 [==============================] - 8s 31ms/step - loss: 0.4998 - accuracy: 0.8673 - val_loss: 0.7506 - val_accuracy: 0.7475 - lr: 1.0000e-04\n",
      "Epoch 30/30\n",
      "256/256 [==============================] - 8s 32ms/step - loss: 0.4844 - accuracy: 0.8702 - val_loss: 0.7427 - val_accuracy: 0.7467 - lr: 1.0000e-04\n"
     ]
    }
   ],
   "source": [
    "callback = tf.keras.callbacks.EarlyStopping(monitor='val_loss', patience=1, verbose=1)\n",
    "reduce_lr = tf.keras.callbacks.ReduceLROnPlateau(monitor='val_loss', factor=0.2,\n",
    "                              patience=5, min_lr=0.001)\n",
    "checkpoint_filepath = './checkpoint_model'\n",
    "model_checkpoint = tf.keras.callbacks.ModelCheckpoint(\n",
    "    filepath=checkpoint_filepath,\n",
    "    save_weights_only=True,\n",
    "    monitor='val_accuracy',\n",
    "    mode='max',\n",
    "    save_best_only=True)\n",
    "\n",
    "num_epochs = 30\n",
    "history = model.fit(train_padded, training_label_seq, epochs=num_epochs, validation_data=(validation_padded, validation_label_seq), batch_size=100, callbacks=[callback, reduce_lr, model_checkpoint])"
   ]
  },
  {
   "cell_type": "code",
   "execution_count": 27,
   "metadata": {},
   "outputs": [
    {
     "data": {
      "image/png": "[encoded data removed]",
      "text/plain": [
       "<Figure size 432x288 with 1 Axes>"
      ]
     },
     "metadata": {
      "needs_background": "light"
     },
     "output_type": "display_data"
    },
    {
     "data": {
      "image/png": "[encoded data removed]",
      "text/plain": [
       "<Figure size 432x288 with 1 Axes>"
      ]
     },
     "metadata": {
      "needs_background": "light"
     },
     "output_type": "display_data"
    }
   ],
   "source": [
    "loss = history.history['loss']\n",
    "val_loss = history.history['val_loss']\n",
    "acc = history.history['accuracy']\n",
    "val_acc = history.history['val_accuracy']\n",
    "epochs = range(1, len(acc) + 1)\n",
    "\n",
    "plt.figure()\n",
    "plt.title('Training and validation accuracy')\n",
    "plt.plot(epochs, acc, 'red', label='Accuracy')\n",
    "plt.plot(epochs, val_acc, 'blue', label='ValidationAccuracy')\n",
    "plt.legend()\n",
    "\n",
    "plt.figure()\n",
    "plt.title('Training and validation loss')\n",
    "plt.plot(epochs, loss, 'red', label='Training loss')\n",
    "plt.plot(epochs, val_loss, 'blue', label='Validation loss')\n",
    "plt.legend()\n",
    "\n",
    "plt.show()"
   ]
  },
  {
   "cell_type": "code",
   "execution_count": 28,
   "metadata": {},
   "outputs": [
    {
     "name": "stdout",
     "output_type": "stream",
     "text": [
      "Build model...\n",
      "Summary of the built model...\n",
      "Model: \"sequential_2\"\n",
      "_________________________________________________________________\n",
      " Layer (type)                Output Shape              Param #   \n",
      "=================================================================\n",
      " embedding_3 (Embedding)     (None, 15, 100)           1000000   \n",
      "                                                                 \n",
      " gru (GRU)                   (None, 32)                12864     \n",
      "                                                                 \n",
      " dense_10 (Dense)            (None, 3)                 99        \n",
      "                                                                 \n",
      "=================================================================\n",
      "Total params: 1,012,963\n",
      "Trainable params: 1,012,963\n",
      "Non-trainable params: 0\n",
      "_________________________________________________________________\n",
      "None\n"
     ]
    }
   ],
   "source": [
    "from keras.models import Sequential\n",
    "from keras.layers import Dense, Embedding, LSTM, GRU\n",
    "from keras.layers import Embedding\n",
    "\n",
    "EMBEDDING_DIM = 100\n",
    "\n",
    "print('Build model...')\n",
    "\n",
    "model_gru = Sequential()\n",
    "model_gru.add(Embedding(vocab_size, EMBEDDING_DIM, input_length=max_length))\n",
    "model_gru.add(GRU(units=32,  dropout=0.2, recurrent_dropout=0.2))\n",
    "model_gru.add(Dense(3, activation='softmax'))\n",
    "\n",
    "# try using different optimizers and different optimizer configs\n",
    "model_gru.compile(loss='binary_crossentropy', optimizer='adam', metrics=['accuracy'])\n",
    "\n",
    "print('Summary of the built model...')\n",
    "print(model_gru.summary())"
   ]
  },
  {
   "cell_type": "code",
   "execution_count": 29,
   "metadata": {},
   "outputs": [
    {
     "name": "stdout",
     "output_type": "stream",
     "text": [
      "WARNING:tensorflow:From C:\\Users\\jmspa\\AppData\\Local\\Temp\\ipykernel_33840\\2294859201.py:2: experimental_run_functions_eagerly (from tensorflow.python.eager.def_function) is deprecated and will be removed in a future version.\n",
      "Instructions for updating:\n",
      "Use `tf.config.run_functions_eagerly` instead of the experimental version.\n",
      "Train...\n",
      "Epoch 1/25\n"
     ]
    },
    {
     "name": "stderr",
     "output_type": "stream",
     "text": [
      "c:\\Users\\jmspa\\anaconda3\\lib\\site-packages\\tensorflow\\python\\data\\ops\\structured_function.py:264: UserWarning: Even though the `tf.config.experimental_run_functions_eagerly` option is set, this option does not apply to tf.data functions. To force eager execution of tf.data functions, please use `tf.data.experimental.enable_debug_mode()`.\n",
      "  warnings.warn(\n"
     ]
    },
    {
     "name": "stdout",
     "output_type": "stream",
     "text": [
      "200/200 - 42s - loss: 0.4972 - accuracy: 0.6314 - val_loss: 0.3803 - val_accuracy: 0.7240 - lr: 0.0010 - 42s/epoch - 212ms/step\n",
      "Epoch 2/25\n",
      "200/200 - 43s - loss: 0.3541 - accuracy: 0.7577 - val_loss: 0.3359 - val_accuracy: 0.7680 - lr: 0.0010 - 43s/epoch - 213ms/step\n",
      "Epoch 3/25\n",
      "200/200 - 42s - loss: 0.3000 - accuracy: 0.8060 - val_loss: 0.3354 - val_accuracy: 0.7658 - lr: 0.0010 - 42s/epoch - 212ms/step\n",
      "Epoch 4/25\n",
      "200/200 - 43s - loss: 0.2670 - accuracy: 0.8346 - val_loss: 0.3470 - val_accuracy: 0.7675 - lr: 0.0010 - 43s/epoch - 213ms/step\n",
      "Epoch 4: early stopping\n"
     ]
    }
   ],
   "source": [
    "callback = tf.keras.callbacks.EarlyStopping(monitor='val_loss', patience=1, verbose=1)\n",
    "tf.config.experimental_run_functions_eagerly(True)\n",
    "print('Train...')\n",
    "# labels = tf.reshape(training_label_seq, [-1])\n",
    "# val_labels = tf.reshape(validation_label_seq, [-1])\n",
    "num_classes = 3  # Replace 3 with the number of classes in your problem\n",
    "labels = tf.one_hot(training_label_seq, depth=num_classes)\n",
    "val_labels = tf.one_hot(validation_label_seq, depth=num_classes)\n",
    "gru = model_gru.fit(train_padded, labels, batch_size=128, epochs=25, validation_data=(validation_padded, val_labels), verbose=2,callbacks=[callback, reduce_lr, model_checkpoint]) "
   ]
  },
  {
   "cell_type": "code",
   "execution_count": 30,
   "metadata": {},
   "outputs": [
    {
     "data": {
      "image/png": "[encoded data removed]",
      "text/plain": [
       "<Figure size 432x288 with 1 Axes>"
      ]
     },
     "metadata": {
      "needs_background": "light"
     },
     "output_type": "display_data"
    },
    {
     "data": {
      "image/png": "[encoded data removed]",
      "text/plain": [
       "<Figure size 432x288 with 1 Axes>"
      ]
     },
     "metadata": {
      "needs_background": "light"
     },
     "output_type": "display_data"
    }
   ],
   "source": [
    "loss_gru = gru.history['loss']\n",
    "val_loss_gru = gru.history['val_loss']\n",
    "acc_gru = gru.history['accuracy']\n",
    "val_acc_gru = gru.history['val_accuracy']\n",
    "epochs_gru = range(1, len(acc_gru) + 1)\n",
    "plt.figure()\n",
    "plt.title('Training and validation accuracy')\n",
    "plt.plot(epochs_gru, acc_gru, 'red', label='Accuracy')\n",
    "plt.plot(epochs_gru, val_acc_gru, 'blue', label='ValidationAccuracy')\n",
    "plt.legend()\n",
    "\n",
    "plt.figure()\n",
    "plt.title('Training and validation loss')\n",
    "plt.plot(epochs_gru, loss_gru, 'red', label='Training loss')\n",
    "plt.plot(epochs_gru, val_loss_gru, 'blue', label='Validation loss')\n",
    "plt.legend()\n",
    "\n",
    "plt.show()"
   ]
  },
  {
   "cell_type": "code",
   "execution_count": null,
   "metadata": {},
   "outputs": [],
   "source": []
  }
 ],
 "metadata": {
  "kernelspec": {
   "display_name": "base",
   "language": "python",
   "name": "python3"
  },
  "language_info": {
   "codemirror_mode": {
    "name": "ipython",
    "version": 3
   },
   "file_extension": ".py",
   "mimetype": "text/x-python",
   "name": "python",
   "nbconvert_exporter": "python",
   "pygments_lexer": "ipython3",
   "version": "3.11.4"
  },
  "orig_nbformat": 4
 },
 "nbformat": 4,
 "nbformat_minor": 2
}
