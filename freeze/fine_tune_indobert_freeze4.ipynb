{
  "cells": [
    {
      "cell_type": "code",
      "execution_count": 1,
      "metadata": {},
      "outputs": [
        {
          "data": {
            "text/plain": [
              "True"
            ]
          },
          "execution_count": 1,
          "metadata": {},
          "output_type": "execute_result"
        }
      ],
      "source": [
        "import torch\n",
        "torch.cuda.is_available()"
      ]
    },
    {
      "cell_type": "code",
      "execution_count": 2,
      "metadata": {
        "id": "8HNUE5fXIb-W"
      },
      "outputs": [
        {
          "name": "stderr",
          "output_type": "stream",
          "text": [
            "c:\\Users\\IBDA\\.conda\\envs\\ta_james_bert\\Lib\\site-packages\\tqdm\\auto.py:21: TqdmWarning: IProgress not found. Please update jupyter and ipywidgets. See https://ipywidgets.readthedocs.io/en/stable/user_install.html\n",
            "  from .autonotebook import tqdm as notebook_tqdm\n"
          ]
        }
      ],
      "source": [
        "import torch\n",
        "from torch import nn\n",
        "from torch.utils.data import DataLoader, Dataset\n",
        "from transformers import BertTokenizer, BertModel, AdamW, get_linear_schedule_with_warmup\n",
        "from sklearn.model_selection import train_test_split\n",
        "from sklearn.metrics import accuracy_score, classification_report\n",
        "import pandas as pd\n",
        "from sklearn.model_selection import train_test_split\n",
        "from sklearn.metrics import accuracy_score, recall_score, precision_score, f1_score\n",
        "import torch\n",
        "from transformers import BertTokenizer, BertModel\n",
        "import torch.nn.functional as F\n",
        "import matplotlib.pyplot as plt\n",
        "import numpy as np"
      ]
    },
    {
      "cell_type": "markdown",
      "metadata": {},
      "source": [
        "# Initiate Dataset"
      ]
    },
    {
      "cell_type": "code",
      "execution_count": 3,
      "metadata": {
        "colab": {
          "base_uri": "https://localhost:8080/",
          "height": 206
        },
        "id": "ZLuKyvHJ47xK",
        "outputId": "c854bd43-9109-4a56-ce0d-fa4e3d2e7544"
      },
      "outputs": [
        {
          "data": {
            "text/html": [
              "<div>\n",
              "<style scoped>\n",
              "    .dataframe tbody tr th:only-of-type {\n",
              "        vertical-align: middle;\n",
              "    }\n",
              "\n",
              "    .dataframe tbody tr th {\n",
              "        vertical-align: top;\n",
              "    }\n",
              "\n",
              "    .dataframe thead th {\n",
              "        text-align: right;\n",
              "    }\n",
              "</style>\n",
              "<table border=\"1\" class=\"dataframe\">\n",
              "  <thead>\n",
              "    <tr style=\"text-align: right;\">\n",
              "      <th></th>\n",
              "      <th>Unnamed: 0</th>\n",
              "      <th>comments</th>\n",
              "      <th>bank</th>\n",
              "      <th>platform</th>\n",
              "      <th>sentiment</th>\n",
              "      <th>topic</th>\n",
              "    </tr>\n",
              "  </thead>\n",
              "  <tbody>\n",
              "    <tr>\n",
              "      <th>0</th>\n",
              "      <td>0</td>\n",
              "      <td>keren sekali transmart bintang melanda bintang...</td>\n",
              "      <td>Bank Mega</td>\n",
              "      <td>Instagram</td>\n",
              "      <td>0</td>\n",
              "      <td>service</td>\n",
              "    </tr>\n",
              "    <tr>\n",
              "      <th>1</th>\n",
              "      <td>1</td>\n",
              "      <td>tidak pernah kabari menerapkan</td>\n",
              "      <td>Bank Mega</td>\n",
              "      <td>Instagram</td>\n",
              "      <td>1</td>\n",
              "      <td>service</td>\n",
              "    </tr>\n",
              "    <tr>\n",
              "      <th>2</th>\n",
              "      <td>2</td>\n",
              "      <td>keren bht</td>\n",
              "      <td>Bank Mega</td>\n",
              "      <td>Instagram</td>\n",
              "      <td>0</td>\n",
              "      <td>service</td>\n",
              "    </tr>\n",
              "    <tr>\n",
              "      <th>3</th>\n",
              "      <td>3</td>\n",
              "      <td>transmart makssar masih kurang lengkap barangnya</td>\n",
              "      <td>Bank Mega</td>\n",
              "      <td>Instagram</td>\n",
              "      <td>2</td>\n",
              "      <td>service</td>\n",
              "    </tr>\n",
              "    <tr>\n",
              "      <th>4</th>\n",
              "      <td>4</td>\n",
              "      <td>dan transmart keren oke wajah tersenyum dengan...</td>\n",
              "      <td>Bank Mega</td>\n",
              "      <td>Instagram</td>\n",
              "      <td>0</td>\n",
              "      <td>service</td>\n",
              "    </tr>\n",
              "  </tbody>\n",
              "</table>\n",
              "</div>"
            ],
            "text/plain": [
              "   Unnamed: 0                                           comments       bank  \\\n",
              "0           0  keren sekali transmart bintang melanda bintang...  Bank Mega   \n",
              "1           1                     tidak pernah kabari menerapkan  Bank Mega   \n",
              "2           2                                          keren bht  Bank Mega   \n",
              "3           3   transmart makssar masih kurang lengkap barangnya  Bank Mega   \n",
              "4           4  dan transmart keren oke wajah tersenyum dengan...  Bank Mega   \n",
              "\n",
              "    platform  sentiment    topic  \n",
              "0  Instagram          0  service  \n",
              "1  Instagram          1  service  \n",
              "2  Instagram          0  service  \n",
              "3  Instagram          2  service  \n",
              "4  Instagram          0  service  "
            ]
          },
          "execution_count": 3,
          "metadata": {},
          "output_type": "execute_result"
        }
      ],
      "source": [
        "# https://www.kaggle.com/competitions/jigsaw-toxic-comment-classification-challenge/data\n",
        "df = pd.read_excel(\"25k_labeling.xlsx\",sheet_name=\"Sheet1\")\n",
        "df['comments'] = df['comments'].astype(str)\n",
        "df['sentiment'] = df['sentiment'].astype(int)\n",
        "# df = df.rename(columns={'label': 'sentiment'})\n",
        "df.head()"
      ]
    },
    {
      "cell_type": "code",
      "execution_count": 4,
      "metadata": {
        "id": "vWHj7tkRG0Je"
      },
      "outputs": [],
      "source": [
        "class TextClassificationDataset(Dataset):\n",
        "    def __init__(self, texts, labels, tokenizer, max_length):\n",
        "            self.texts = texts\n",
        "            self.labels = labels\n",
        "            self.tokenizer = tokenizer\n",
        "            self.max_length = max_length\n",
        "    def __len__(self):\n",
        "        return len(self.texts)\n",
        "    def __getitem__(self, idx):\n",
        "        text = self.texts[idx]\n",
        "        label = self.labels[idx]\n",
        "        encoding = self.tokenizer(text, return_tensors='pt', max_length=self.max_length, padding='max_length', truncation=True)\n",
        "        return {'input_ids': encoding['input_ids'].flatten(), 'attention_mask': encoding['attention_mask'].flatten(), 'label': torch.tensor(label)}"
      ]
    },
    {
      "cell_type": "markdown",
      "metadata": {},
      "source": [
        "## Train Validation Split"
      ]
    },
    {
      "cell_type": "code",
      "execution_count": 5,
      "metadata": {},
      "outputs": [],
      "source": [
        "train_df, val_df = train_test_split(df, test_size=0.2, random_state=42)\n",
        "# Reset index for both train and validation sets\n",
        "train_df.reset_index(drop=True, inplace=True)\n",
        "val_df.reset_index(drop=True, inplace=True)\n",
        "\n",
        "# Extract texts and labels\n",
        "train_texts, train_labels = train_df[\"comments\"], train_df[\"sentiment\"]\n",
        "val_texts, val_labels = val_df[\"comments\"], val_df[\"sentiment\"]"
      ]
    },
    {
      "cell_type": "markdown",
      "metadata": {},
      "source": [
        "# BERT Model"
      ]
    },
    {
      "cell_type": "code",
      "execution_count": 6,
      "metadata": {
        "id": "UzuMYgS6fZNE"
      },
      "outputs": [],
      "source": [
        "class BERTClassifier(nn.Module):\n",
        "    def __init__(self, bert_model_name, num_classes, freeze_layers = 0):\n",
        "        super(BERTClassifier, self).__init__()\n",
        "        self.bert = BertModel.from_pretrained(bert_model_name)\n",
        "        self.dropout = nn.Dropout(0.1)\n",
        "        self.fc = nn.Linear(self.bert.config.hidden_size, num_classes) #add classification layer\n",
        "        self.freeze_layers = freeze_layers\n",
        "        # print(self.bert.encoder.layer)\n",
        "        # print(self.named_parameters())\n",
        "        # for param in self.bert.parameters():\n",
        "        #     param.requires_grad = False\n",
        "        for i in range(freeze_layers):\n",
        "            for name, param in self.bert.encoder.layer[i].named_parameters():\n",
        "                param.requires_grad = False\n",
        "\n",
        "        # layer_count = 0\n",
        "        # for name, param in self.bert.named_parameters():\n",
        "        #     print(name)\n",
        "        #     if 'layer' in name:\n",
        "        #         layer_count += 1\n",
        "        #         if layer_count <= freeze_layers:\n",
        "        #             param.requires_grad = False\n",
        "        #             # print('Masuk')\n",
        "        # print(layer_count)\n",
        "\n",
        "\n",
        "    def forward(self, input_ids, attention_mask):\n",
        "            outputs = self.bert(input_ids=input_ids, attention_mask=attention_mask)\n",
        "            # # Freeze specified layers\n",
        "            # if self.freeze_layers > 0:\n",
        "            #     with torch.no_grad():\n",
        "            #         # Detach the output of the frozen layers from the computational graph\n",
        "            #         for layer in range(self.freeze_layers):\n",
        "            #             outputs.hidden_states[layer] = outputs.hidden_states[layer].detach()\n",
        "            last_hidden_states = outputs.last_hidden_state\n",
        "            hidden_states = outputs.hidden_states\n",
        "            attentions = outputs.attentions\n",
        "            pooled_output = outputs.pooler_output\n",
        "            x = self.dropout(pooled_output)\n",
        "            logits = self.fc(x)\n",
        "            # print(last_hidden_states)\n",
        "            # print(hidden_states)\n",
        "            # print(attentions)\n",
        "            # print(pooled_output)\n",
        "            # print(logits)\n",
        "            return logits\n",
        "    \n",
        "    def print_layers(self):\n",
        "        for name, param in self.named_parameters():\n",
        "            print(f\"Layer: {name}, Requires Gradient: {param.requires_grad}\")"
      ]
    },
    {
      "cell_type": "code",
      "execution_count": 7,
      "metadata": {
        "id": "gtqfE6lyK0mp"
      },
      "outputs": [],
      "source": [
        "def evaluate(model, data_loader, device):\n",
        "    model.eval()\n",
        "    predictions = []\n",
        "    actual_labels = []\n",
        "    val_loss = 0.0\n",
        "    with torch.no_grad():\n",
        "        for batch in data_loader:\n",
        "            input_ids = batch['input_ids'].to(device)\n",
        "            attention_mask = batch['attention_mask'].to(device)\n",
        "            labels = batch['label'].to(device).long()\n",
        "            outputs = model(input_ids=input_ids, attention_mask=attention_mask)\n",
        "            _, preds = torch.max(outputs, dim=1)\n",
        "            predictions.extend(preds.cpu().tolist())\n",
        "            actual_labels.extend(labels.cpu().tolist())\n",
        "\n",
        "            # Compute validation loss\n",
        "            loss = F.cross_entropy(outputs, labels)\n",
        "            val_loss += loss.item() * input_ids.size(0)  # Accumulate the loss\n",
        "    # val_accuracy = accuracy_score(actual_labels, predictions)\n",
        "    # classification_rep = classification_report(actual_labels, predictions)\n",
        "    avg_val_loss = val_loss / len(data_loader.dataset)  # Compute average validation loss\n",
        "    return accuracy_score(actual_labels, predictions), classification_report(actual_labels, predictions), avg_val_loss"
      ]
    },
    {
      "cell_type": "code",
      "execution_count": 8,
      "metadata": {},
      "outputs": [],
      "source": [
        "def compute_saliency_map(model, input_ids, attention_mask, label):\n",
        "    print(input_ids, attention_mask, label)\n",
        "    model.eval()\n",
        "    grad_input_ids = torch.ones_like(input_ids, dtype=torch.float32, requires_grad=True)\n",
        "    grad_attention_mask = torch.ones_like(attention_mask, dtype=torch.float32, requires_grad=True)\n",
        "\n",
        "    outputs = model(input_ids=input_ids, attention_mask=attention_mask)\n",
        "    loss = F.cross_entropy(outputs, label)\n",
        "\n",
        "    model.zero_grad()\n",
        "\n",
        "    # Compute gradients of the loss with respect to the new tensors\n",
        "    loss.backward(retain_graph=True)\n",
        "\n",
        "    # Ensure gradients are computed and accessible\n",
        "    if grad_input_ids.grad is None:\n",
        "        raise RuntimeError(\"Gradients for grad_input_ids are None. Check if gradients are being computed correctly.\")\n",
        "\n",
        "    # Compute the saliency map\n",
        "    saliency_map = grad_input_ids.grad.abs().sum(dim=-1).detach().cpu().numpy()\n",
        "\n",
        "    # Debugging: Print gradients of the model parameters after backward pass\n",
        "    print(\"Gradients after backward pass:\")\n",
        "    for name, param in model.named_parameters():\n",
        "        print(name, param.grad)\n",
        "\n",
        "    return saliency_map\n",
        "\n",
        "def visualize_saliency_maps(batch, saliency_map):\n",
        "    input_text = batch['input_text']\n",
        "    tokens = input_text.split()  # Assuming input_text is a single string of space-separated tokens\n",
        "\n",
        "    # Normalize the saliency map\n",
        "    saliency_map = saliency_map / np.max(saliency_map)\n",
        "\n",
        "    # Plot the saliency map\n",
        "    plt.figure(figsize=(10, 6))\n",
        "    plt.bar(range(len(tokens)), saliency_map, tick_label=tokens, color='skyblue')\n",
        "    plt.xlabel('Tokens')\n",
        "    plt.ylabel('Saliency Score')\n",
        "    plt.title('Saliency Map')\n",
        "    plt.xticks(rotation=45, ha='right')\n",
        "    plt.tight_layout()\n",
        "    plt.show()"
      ]
    },
    {
      "cell_type": "code",
      "execution_count": 9,
      "metadata": {},
      "outputs": [],
      "source": [
        "import torch\n",
        "\n",
        "def train(model, train_loader, val_loader, optimizer, scheduler, device, num_epochs, patience, checkpoint_path):\n",
        "    model.train()\n",
        "    best_val_accuracy = 0.0\n",
        "    consecutive_no_improvement = 0\n",
        "    train_losses = []\n",
        "    val_losses = []\n",
        "    val_accuracies = []\n",
        "    train_accuracies = []\n",
        "    for epoch in range(num_epochs):\n",
        "        print(f\"Epoch {epoch + 1}/{num_epochs}\")\n",
        "\n",
        "        # Training phase\n",
        "        epoch_train_loss = 0.0\n",
        "        correct_train = 0\n",
        "        total_train = 0\n",
        "        for batch in train_loader:\n",
        "            optimizer.zero_grad()\n",
        "            input_ids = batch['input_ids'].to(device)\n",
        "            attention_mask = batch['attention_mask'].to(device)\n",
        "            labels = batch['label'].to(device)\n",
        "             # Compute gradients for saliency map\n",
        "            # saliency_map = compute_saliency_map(model, input_ids, attention_mask, labels)\n",
        "            outputs = model(input_ids=input_ids, attention_mask=attention_mask)\n",
        "            loss = nn.CrossEntropyLoss()(outputs, labels.long())\n",
        "            # grad_input_ids = torch.ones_like(input_ids, dtype=torch.float32, requires_grad=True)\n",
        "            # print(grad_input_ids)\n",
        "            loss.backward(retain_graph=True)\n",
        "            # print(\"Gradients before optimizer step:\")\n",
        "            # for name, param in model.named_parameters():\n",
        "            #     if param.grad is not None:\n",
        "            #         print(name, param.grad.mean())\n",
        "            #     else:\n",
        "            #         print(name, \"None\")\n",
        "\n",
        "            optimizer.step()\n",
        "            scheduler.step()\n",
        "            _, predicted = torch.max(outputs, 1)\n",
        "            correct_train += (predicted == labels).sum().item()\n",
        "            total_train += labels.size(0)\n",
        "            # saliency_map = grad_input_ids.grad.abs().sum(dim=-1).detach().cpu().numpy()\n",
        "            # print(\"Gradients after optimizer step:\")\n",
        "            # for name, param in model.named_parameters():\n",
        "            #     if param.grad is not None:\n",
        "            #         print(name, param.grad.mean())\n",
        "            #     else:\n",
        "            #         print(name, \"None\")\n",
        "\n",
        "            epoch_train_loss += loss.item()\n",
        "        train_loss = epoch_train_loss / len(train_loader)\n",
        "        train_losses.append(train_loss)\n",
        "        train_accuracy = correct_train / total_train\n",
        "        train_accuracies.append(train_accuracy)\n",
        "\n",
        "        # Validation phase\n",
        "        val_accuracy, report, val_loss = evaluate(model, val_loader, device)\n",
        "        print(report)\n",
        "        val_losses.append(val_loss)\n",
        "        val_accuracies.append(val_accuracy)\n",
        "        print(f\"Validation Accuracy: {val_accuracy}, Validation Loss: {val_loss}\")\n",
        "\n",
        "        # Check for early stopping\n",
        "        if val_accuracy > best_val_accuracy:\n",
        "            best_val_accuracy = val_accuracy\n",
        "            consecutive_no_improvement = 0\n",
        "\n",
        "            # Save the checkpoint\n",
        "            torch.save({\n",
        "                'epoch': epoch,\n",
        "                'model_state_dict': model.state_dict(),\n",
        "                'optimizer_state_dict': optimizer.state_dict(),\n",
        "                'scheduler_state_dict': scheduler.state_dict(),\n",
        "                'best_val_accuracy': best_val_accuracy,\n",
        "                'consecutive_no_improvement': consecutive_no_improvement\n",
        "            }, checkpoint_path)\n",
        "\n",
        "        else:\n",
        "            consecutive_no_improvement += 1\n",
        "\n",
        "        if consecutive_no_improvement >= patience:\n",
        "            print(f\"Early stopping after {epoch + 1} epochs without improvement.\")\n",
        "            break\n",
        "        #Visualize saliency maps\n",
        "        # if epoch % 2 == 0:\n",
        "        #     visualize_saliency_maps(batch, saliency_map)\n",
        "\n",
        "    # Plot learning curves\n",
        "    plt.figure(figsize=(15, 10))\n",
        "\n",
        "    plt.subplot(2, 1, 1)\n",
        "    plt.plot(train_losses, label='Training Loss')\n",
        "    plt.plot(val_losses, label='Validation Loss')\n",
        "    plt.xlabel('Epoch')\n",
        "    plt.ylabel('Loss')\n",
        "    plt.title('Loss Curves')\n",
        "    plt.legend()\n",
        "\n",
        "    plt.subplot(2, 1, 2)\n",
        "    plt.plot(train_accuracies, label='Training Accuracy')\n",
        "    plt.plot(val_accuracies, label='Validation Accuracy')\n",
        "    plt.xlabel('Epoch')\n",
        "    plt.ylabel('Accuracy')\n",
        "    plt.title('Accuracy Curves')\n",
        "    plt.legend()\n",
        "\n",
        "    plt.tight_layout()\n",
        "    plt.show()\n",
        "\n",
        "    print(\"Training completed.\")"
      ]
    },
    {
      "cell_type": "code",
      "execution_count": 10,
      "metadata": {
        "id": "wNnnnueVLDdL"
      },
      "outputs": [],
      "source": [
        "bert_model_name = 'indolem/indobert-base-uncased'\n",
        "num_classes = 3\n",
        "max_length = 128\n",
        "batch_size = 16\n",
        "num_epochs = 50\n",
        "learning_rate = 2e-5\n",
        "patience = 5\n"
      ]
    },
    {
      "cell_type": "code",
      "execution_count": 11,
      "metadata": {},
      "outputs": [],
      "source": [
        "tokenizer = BertTokenizer.from_pretrained(bert_model_name)\n",
        "train_dataset = TextClassificationDataset(train_texts, train_labels, tokenizer, max_length)\n",
        "val_dataset = TextClassificationDataset(val_texts, val_labels, tokenizer, max_length)\n",
        "train_dataloader = DataLoader(train_dataset, batch_size=batch_size, shuffle=True)\n",
        "val_dataloader = DataLoader(val_dataset, batch_size=batch_size)"
      ]
    },
    {
      "cell_type": "code",
      "execution_count": 12,
      "metadata": {},
      "outputs": [
        {
          "data": {
            "text/plain": [
              "True"
            ]
          },
          "execution_count": 12,
          "metadata": {},
          "output_type": "execute_result"
        }
      ],
      "source": [
        "torch.cuda.is_available()"
      ]
    },
    {
      "cell_type": "code",
      "execution_count": 13,
      "metadata": {
        "id": "DmNI31RbMU2l"
      },
      "outputs": [
        {
          "name": "stdout",
          "output_type": "stream",
          "text": [
            "BERTClassifier(\n",
            "  (bert): BertModel(\n",
            "    (embeddings): BertEmbeddings(\n",
            "      (word_embeddings): Embedding(31923, 768, padding_idx=0)\n",
            "      (position_embeddings): Embedding(512, 768)\n",
            "      (token_type_embeddings): Embedding(2, 768)\n",
            "      (LayerNorm): LayerNorm((768,), eps=1e-12, elementwise_affine=True)\n",
            "      (dropout): Dropout(p=0.1, inplace=False)\n",
            "    )\n",
            "    (encoder): BertEncoder(\n",
            "      (layer): ModuleList(\n",
            "        (0-11): 12 x BertLayer(\n",
            "          (attention): BertAttention(\n",
            "            (self): BertSelfAttention(\n",
            "              (query): Linear(in_features=768, out_features=768, bias=True)\n",
            "              (key): Linear(in_features=768, out_features=768, bias=True)\n",
            "              (value): Linear(in_features=768, out_features=768, bias=True)\n",
            "              (dropout): Dropout(p=0.1, inplace=False)\n",
            "            )\n",
            "            (output): BertSelfOutput(\n",
            "              (dense): Linear(in_features=768, out_features=768, bias=True)\n",
            "              (LayerNorm): LayerNorm((768,), eps=1e-12, elementwise_affine=True)\n",
            "              (dropout): Dropout(p=0.1, inplace=False)\n",
            "            )\n",
            "          )\n",
            "          (intermediate): BertIntermediate(\n",
            "            (dense): Linear(in_features=768, out_features=3072, bias=True)\n",
            "            (intermediate_act_fn): GELUActivation()\n",
            "          )\n",
            "          (output): BertOutput(\n",
            "            (dense): Linear(in_features=3072, out_features=768, bias=True)\n",
            "            (LayerNorm): LayerNorm((768,), eps=1e-12, elementwise_affine=True)\n",
            "            (dropout): Dropout(p=0.1, inplace=False)\n",
            "          )\n",
            "        )\n",
            "      )\n",
            "    )\n",
            "    (pooler): BertPooler(\n",
            "      (dense): Linear(in_features=768, out_features=768, bias=True)\n",
            "      (activation): Tanh()\n",
            "    )\n",
            "  )\n",
            "  (dropout): Dropout(p=0.1, inplace=False)\n",
            "  (fc): Linear(in_features=768, out_features=3, bias=True)\n",
            ")\n"
          ]
        }
      ],
      "source": [
        "device = torch.device(\"cuda\" if torch.cuda.is_available() else \"cpu\")\n",
        "freeze_layers = 4\n",
        "checkpoint_path = f\"best_indobert_model_{freeze_layers}_tr020.pth\"\n",
        "model = BERTClassifier(bert_model_name, num_classes, freeze_layers).to(device)\n",
        "print(model)"
      ]
    },
    {
      "cell_type": "code",
      "execution_count": 14,
      "metadata": {},
      "outputs": [
        {
          "name": "stdout",
          "output_type": "stream",
          "text": [
            "cuda\n"
          ]
        }
      ],
      "source": [
        "print(device)"
      ]
    },
    {
      "cell_type": "code",
      "execution_count": 15,
      "metadata": {
        "colab": {
          "base_uri": "https://localhost:8080/"
        },
        "id": "tGuq3bQ7NFrc",
        "outputId": "9afaa6df-2f09-4977-edff-2f77a68fe24d"
      },
      "outputs": [
        {
          "name": "stderr",
          "output_type": "stream",
          "text": [
            "c:\\Users\\IBDA\\.conda\\envs\\ta_james_bert\\Lib\\site-packages\\transformers\\optimization.py:521: FutureWarning: This implementation of AdamW is deprecated and will be removed in a future version. Use the PyTorch implementation torch.optim.AdamW instead, or set `no_deprecation_warning=True` to disable this warning\n",
            "  warnings.warn(\n"
          ]
        }
      ],
      "source": [
        "optimizer = AdamW(model.parameters(), lr=learning_rate)\n",
        "total_steps = len(train_dataloader) * num_epochs\n",
        "scheduler = get_linear_schedule_with_warmup(optimizer, num_warmup_steps=0, num_training_steps=total_steps)"
      ]
    },
    {
      "cell_type": "code",
      "execution_count": 16,
      "metadata": {},
      "outputs": [
        {
          "name": "stdout",
          "output_type": "stream",
          "text": [
            "Epoch 1/50\n",
            "              precision    recall  f1-score   support\n",
            "\n",
            "           0       0.76      0.91      0.83      2084\n",
            "           1       0.85      0.75      0.80      2502\n",
            "           2       0.82      0.56      0.66       405\n",
            "\n",
            "    accuracy                           0.80      4991\n",
            "   macro avg       0.81      0.74      0.76      4991\n",
            "weighted avg       0.81      0.80      0.80      4991\n",
            "\n",
            "Validation Accuracy: 0.8024443999198557, Validation Loss: 0.4950937398973769\n",
            "Epoch 2/50\n",
            "              precision    recall  f1-score   support\n",
            "\n",
            "           0       0.81      0.89      0.85      2084\n",
            "           1       0.83      0.82      0.83      2502\n",
            "           2       0.89      0.47      0.62       405\n",
            "\n",
            "    accuracy                           0.82      4991\n",
            "   macro avg       0.84      0.73      0.77      4991\n",
            "weighted avg       0.83      0.82      0.82      4991\n",
            "\n",
            "Validation Accuracy: 0.8240833500300541, Validation Loss: 0.44206983215272416\n",
            "Epoch 3/50\n",
            "              precision    recall  f1-score   support\n",
            "\n",
            "           0       0.89      0.82      0.85      2084\n",
            "           1       0.80      0.90      0.85      2502\n",
            "           2       0.85      0.52      0.64       405\n",
            "\n",
            "    accuracy                           0.84      4991\n",
            "   macro avg       0.84      0.75      0.78      4991\n",
            "weighted avg       0.84      0.84      0.83      4991\n",
            "\n",
            "Validation Accuracy: 0.8367060709276698, Validation Loss: 0.4500583080831259\n",
            "Epoch 4/50\n",
            "              precision    recall  f1-score   support\n",
            "\n",
            "           0       0.84      0.86      0.85      2084\n",
            "           1       0.84      0.79      0.81      2502\n",
            "           2       0.57      0.75      0.65       405\n",
            "\n",
            "    accuracy                           0.81      4991\n",
            "   macro avg       0.75      0.80      0.77      4991\n",
            "weighted avg       0.82      0.81      0.81      4991\n",
            "\n",
            "Validation Accuracy: 0.8124624323782809, Validation Loss: 0.5879858217863252\n",
            "Epoch 5/50\n",
            "              precision    recall  f1-score   support\n",
            "\n",
            "           0       0.89      0.82      0.85      2084\n",
            "           1       0.82      0.89      0.86      2502\n",
            "           2       0.76      0.66      0.71       405\n",
            "\n",
            "    accuracy                           0.84      4991\n",
            "   macro avg       0.83      0.79      0.81      4991\n",
            "weighted avg       0.85      0.84      0.84      4991\n",
            "\n",
            "Validation Accuracy: 0.844319775596073, Validation Loss: 0.6923744334764458\n",
            "Epoch 6/50\n",
            "              precision    recall  f1-score   support\n",
            "\n",
            "           0       0.87      0.84      0.86      2084\n",
            "           1       0.81      0.89      0.85      2502\n",
            "           2       0.86      0.50      0.63       405\n",
            "\n",
            "    accuracy                           0.84      4991\n",
            "   macro avg       0.85      0.74      0.78      4991\n",
            "weighted avg       0.84      0.84      0.83      4991\n",
            "\n",
            "Validation Accuracy: 0.8381085954718493, Validation Loss: 0.7750952598890557\n",
            "Epoch 7/50\n",
            "              precision    recall  f1-score   support\n",
            "\n",
            "           0       0.80      0.90      0.84      2084\n",
            "           1       0.87      0.76      0.81      2502\n",
            "           2       0.66      0.72      0.69       405\n",
            "\n",
            "    accuracy                           0.82      4991\n",
            "   macro avg       0.78      0.79      0.78      4991\n",
            "weighted avg       0.82      0.82      0.82      4991\n",
            "\n",
            "Validation Accuracy: 0.8162692847124825, Validation Loss: 0.8379342803700585\n",
            "Epoch 8/50\n",
            "              precision    recall  f1-score   support\n",
            "\n",
            "           0       0.81      0.88      0.85      2084\n",
            "           1       0.85      0.81      0.83      2502\n",
            "           2       0.75      0.62      0.68       405\n",
            "\n",
            "    accuracy                           0.83      4991\n",
            "   macro avg       0.81      0.77      0.79      4991\n",
            "weighted avg       0.83      0.83      0.83      4991\n",
            "\n",
            "Validation Accuracy: 0.8272891204167502, Validation Loss: 0.7692112577648057\n",
            "Epoch 9/50\n",
            "              precision    recall  f1-score   support\n",
            "\n",
            "           0       0.85      0.86      0.85      2084\n",
            "           1       0.83      0.86      0.84      2502\n",
            "           2       0.73      0.59      0.65       405\n",
            "\n",
            "    accuracy                           0.83      4991\n",
            "   macro avg       0.81      0.77      0.78      4991\n",
            "weighted avg       0.83      0.83      0.83      4991\n",
            "\n",
            "Validation Accuracy: 0.8343017431376477, Validation Loss: 0.7986944040469788\n",
            "Epoch 10/50\n",
            "              precision    recall  f1-score   support\n",
            "\n",
            "           0       0.86      0.85      0.86      2084\n",
            "           1       0.84      0.86      0.85      2502\n",
            "           2       0.76      0.67      0.71       405\n",
            "\n",
            "    accuracy                           0.84      4991\n",
            "   macro avg       0.82      0.79      0.80      4991\n",
            "weighted avg       0.84      0.84      0.84      4991\n",
            "\n",
            "Validation Accuracy: 0.8395111200160289, Validation Loss: 0.8858957946432247\n",
            "Early stopping after 10 epochs without improvement.\n"
          ]
        },
        {
          "data": {
            "image/png": "[encoded data removed]",
            "text/plain": [
              "<Figure size 1500x1000 with 2 Axes>"
            ]
          },
          "metadata": {},
          "output_type": "display_data"
        },
        {
          "name": "stdout",
          "output_type": "stream",
          "text": [
            "Training completed.\n"
          ]
        }
      ],
      "source": [
        "train(model, train_dataloader, val_dataloader, optimizer, scheduler, device, num_epochs, patience, checkpoint_path)"
      ]
    },
    {
      "cell_type": "markdown",
      "metadata": {},
      "source": [
        "## Save model"
      ]
    },
    {
      "cell_type": "code",
      "execution_count": 17,
      "metadata": {},
      "outputs": [],
      "source": [
        "torch.save(model.state_dict(), f'bert_model_{freeze_layers}_ts020.pth')"
      ]
    },
    {
      "cell_type": "code",
      "execution_count": 18,
      "metadata": {},
      "outputs": [
        {
          "ename": "FileNotFoundError",
          "evalue": "[Errno 2] No such file or directory: 'bert_model2.pth'",
          "output_type": "error",
          "traceback": [
            "\u001b[1;31m---------------------------------------------------------------------------\u001b[0m",
            "\u001b[1;31mFileNotFoundError\u001b[0m                         Traceback (most recent call last)",
            "Cell \u001b[1;32mIn[18], line 5\u001b[0m\n\u001b[0;32m      2\u001b[0m loaded_model \u001b[38;5;241m=\u001b[39m BERTClassifier(bert_model_name, num_classes)\n\u001b[0;32m      4\u001b[0m \u001b[38;5;66;03m# Load the saved model state dictionary\u001b[39;00m\n\u001b[1;32m----> 5\u001b[0m loaded_model\u001b[38;5;241m.\u001b[39mload_state_dict(\u001b[43mtorch\u001b[49m\u001b[38;5;241;43m.\u001b[39;49m\u001b[43mload\u001b[49m\u001b[43m(\u001b[49m\u001b[38;5;124;43m'\u001b[39;49m\u001b[38;5;124;43mbert_model2.pth\u001b[39;49m\u001b[38;5;124;43m'\u001b[39;49m\u001b[43m)\u001b[49m)\n\u001b[0;32m      7\u001b[0m \u001b[38;5;66;03m# Set the model to evaluation mode (important if you have dropout layers)\u001b[39;00m\n\u001b[0;32m      8\u001b[0m loaded_model\u001b[38;5;241m.\u001b[39meval()\n",
            "File \u001b[1;32mc:\\Users\\IBDA\\.conda\\envs\\ta_james_bert\\Lib\\site-packages\\torch\\serialization.py:998\u001b[0m, in \u001b[0;36mload\u001b[1;34m(f, map_location, pickle_module, weights_only, mmap, **pickle_load_args)\u001b[0m\n\u001b[0;32m    995\u001b[0m \u001b[38;5;28;01mif\u001b[39;00m \u001b[38;5;124m'\u001b[39m\u001b[38;5;124mencoding\u001b[39m\u001b[38;5;124m'\u001b[39m \u001b[38;5;129;01mnot\u001b[39;00m \u001b[38;5;129;01min\u001b[39;00m pickle_load_args\u001b[38;5;241m.\u001b[39mkeys():\n\u001b[0;32m    996\u001b[0m     pickle_load_args[\u001b[38;5;124m'\u001b[39m\u001b[38;5;124mencoding\u001b[39m\u001b[38;5;124m'\u001b[39m] \u001b[38;5;241m=\u001b[39m \u001b[38;5;124m'\u001b[39m\u001b[38;5;124mutf-8\u001b[39m\u001b[38;5;124m'\u001b[39m\n\u001b[1;32m--> 998\u001b[0m \u001b[38;5;28;01mwith\u001b[39;00m \u001b[43m_open_file_like\u001b[49m\u001b[43m(\u001b[49m\u001b[43mf\u001b[49m\u001b[43m,\u001b[49m\u001b[43m \u001b[49m\u001b[38;5;124;43m'\u001b[39;49m\u001b[38;5;124;43mrb\u001b[39;49m\u001b[38;5;124;43m'\u001b[39;49m\u001b[43m)\u001b[49m \u001b[38;5;28;01mas\u001b[39;00m opened_file:\n\u001b[0;32m    999\u001b[0m     \u001b[38;5;28;01mif\u001b[39;00m _is_zipfile(opened_file):\n\u001b[0;32m   1000\u001b[0m         \u001b[38;5;66;03m# The zipfile reader is going to advance the current file position.\u001b[39;00m\n\u001b[0;32m   1001\u001b[0m         \u001b[38;5;66;03m# If we want to actually tail call to torch.jit.load, we need to\u001b[39;00m\n\u001b[0;32m   1002\u001b[0m         \u001b[38;5;66;03m# reset back to the original position.\u001b[39;00m\n\u001b[0;32m   1003\u001b[0m         orig_position \u001b[38;5;241m=\u001b[39m opened_file\u001b[38;5;241m.\u001b[39mtell()\n",
            "File \u001b[1;32mc:\\Users\\IBDA\\.conda\\envs\\ta_james_bert\\Lib\\site-packages\\torch\\serialization.py:445\u001b[0m, in \u001b[0;36m_open_file_like\u001b[1;34m(name_or_buffer, mode)\u001b[0m\n\u001b[0;32m    443\u001b[0m \u001b[38;5;28;01mdef\u001b[39;00m \u001b[38;5;21m_open_file_like\u001b[39m(name_or_buffer, mode):\n\u001b[0;32m    444\u001b[0m     \u001b[38;5;28;01mif\u001b[39;00m _is_path(name_or_buffer):\n\u001b[1;32m--> 445\u001b[0m         \u001b[38;5;28;01mreturn\u001b[39;00m \u001b[43m_open_file\u001b[49m\u001b[43m(\u001b[49m\u001b[43mname_or_buffer\u001b[49m\u001b[43m,\u001b[49m\u001b[43m \u001b[49m\u001b[43mmode\u001b[49m\u001b[43m)\u001b[49m\n\u001b[0;32m    446\u001b[0m     \u001b[38;5;28;01melse\u001b[39;00m:\n\u001b[0;32m    447\u001b[0m         \u001b[38;5;28;01mif\u001b[39;00m \u001b[38;5;124m'\u001b[39m\u001b[38;5;124mw\u001b[39m\u001b[38;5;124m'\u001b[39m \u001b[38;5;129;01min\u001b[39;00m mode:\n",
            "File \u001b[1;32mc:\\Users\\IBDA\\.conda\\envs\\ta_james_bert\\Lib\\site-packages\\torch\\serialization.py:426\u001b[0m, in \u001b[0;36m_open_file.__init__\u001b[1;34m(self, name, mode)\u001b[0m\n\u001b[0;32m    425\u001b[0m \u001b[38;5;28;01mdef\u001b[39;00m \u001b[38;5;21m__init__\u001b[39m(\u001b[38;5;28mself\u001b[39m, name, mode):\n\u001b[1;32m--> 426\u001b[0m     \u001b[38;5;28msuper\u001b[39m()\u001b[38;5;241m.\u001b[39m\u001b[38;5;21m__init__\u001b[39m(\u001b[38;5;28;43mopen\u001b[39;49m\u001b[43m(\u001b[49m\u001b[43mname\u001b[49m\u001b[43m,\u001b[49m\u001b[43m \u001b[49m\u001b[43mmode\u001b[49m\u001b[43m)\u001b[49m)\n",
            "\u001b[1;31mFileNotFoundError\u001b[0m: [Errno 2] No such file or directory: 'bert_model2.pth'"
          ]
        }
      ],
      "source": [
        "# Instantiate the BERT model architecture\n",
        "loaded_model = BERTClassifier(bert_model_name, num_classes)\n",
        "\n",
        "# Load the saved model state dictionary\n",
        "loaded_model.load_state_dict(torch.load('bert_model2.pth'))\n",
        "\n",
        "# Set the model to evaluation mode (important if you have dropout layers)\n",
        "loaded_model.eval()\n",
        "\n",
        "# Move the model to the desired device (CPU or GPU)\n",
        "loaded_model.to(device)"
      ]
    },
    {
      "cell_type": "markdown",
      "metadata": {},
      "source": [
        "## Test model"
      ]
    },
    {
      "cell_type": "code",
      "execution_count": null,
      "metadata": {
        "id": "34NJH6IKAqWr"
      },
      "outputs": [],
      "source": [
        "def predict_sentiment(text, model, tokenizer, device, max_length=128):\n",
        "    model.eval()\n",
        "    encoding = tokenizer(text, return_tensors='pt', max_length=max_length, padding='max_length', truncation=True)\n",
        "    input_ids = encoding['input_ids'].to(device)\n",
        "    attention_mask = encoding['attention_mask'].to(device)\n",
        "\n",
        "    with torch.no_grad():\n",
        "        outputs = model(input_ids=input_ids, attention_mask=attention_mask)\n",
        "        _, preds = torch.max(outputs, dim=1)\n",
        "        print(preds)\n",
        "        print(preds.item())\n",
        "    if preds.item() == 0:\n",
        "        return \"positive\"\n",
        "    elif preds.item() == 1:\n",
        "        return \"neutral\"\n",
        "    else:\n",
        "        return \"negative\""
      ]
    },
    {
      "cell_type": "code",
      "execution_count": null,
      "metadata": {},
      "outputs": [
        {
          "name": "stdout",
          "output_type": "stream",
          "text": [
            "tensor([1])\n",
            "1\n",
            "neutral\n"
          ]
        }
      ],
      "source": [
        "device = torch.device(\"cuda\" if torch.cuda.is_available() else \"cpu\")\n",
        "\n",
        "print(predict_sentiment(\"bank mega jelek banget pelayanannya\", loaded_model, tokenizer, device))"
      ]
    },
    {
      "cell_type": "markdown",
      "metadata": {},
      "source": [
        "# Check last BERT layer"
      ]
    },
    {
      "cell_type": "code",
      "execution_count": null,
      "metadata": {},
      "outputs": [
        {
          "name": "stdout",
          "output_type": "stream",
          "text": [
            "Parameter containing:\n",
            "tensor([[ 0.0689,  0.0189,  0.0165,  ...,  0.0400, -0.0020, -0.0178],\n",
            "        [ 0.0153,  0.0355, -0.0269,  ..., -0.0227,  0.0060, -0.0521],\n",
            "        [-0.0291, -0.0510, -0.0291,  ..., -0.0312, -0.0193, -0.0641],\n",
            "        ...,\n",
            "        [-0.0168, -0.0012,  0.0832,  ...,  0.0555,  0.0214, -0.0211],\n",
            "        [ 0.0209,  0.0067, -0.0119,  ...,  0.0427, -0.0628, -0.0385],\n",
            "        [ 0.0015,  0.0131, -0.0260,  ...,  0.0237,  0.0370, -0.0185]],\n",
            "       requires_grad=True)\n"
          ]
        }
      ],
      "source": [
        "last_layer_weights = model.bert.encoder.layer[-1].output.dense.weight\n",
        "print(last_layer_weights)"
      ]
    },
    {
      "cell_type": "code",
      "execution_count": null,
      "metadata": {},
      "outputs": [],
      "source": [
        "def predict_sentiment2(text, model, tokenizer, device, max_length=128):\n",
        "    model.eval()\n",
        "    encoding = tokenizer(text, return_tensors='pt', max_length=max_length, padding='max_length', truncation=True)\n",
        "    input_ids = encoding['input_ids'].to(device)\n",
        "    attention_mask = encoding['attention_mask'].to(device)\n",
        "\n",
        "    with torch.no_grad():\n",
        "        outputs = model(input_ids=input_ids, attention_mask=attention_mask)\n",
        "        _, preds = torch.max(outputs, dim=1)\n",
        "        last_hidden_states = outputs.last_hidden_state\n",
        "        pooler_output = outputs.pooler_output\n",
        "        hidden_states = outputs.hidden_states\n",
        "        attentions = outputs.attentions\n",
        "        print(last_hidden_states)\n",
        "        print(pooler_output)\n",
        "        print(hidden_states)\n",
        "        print(attentions)\n",
        "    if preds.item() == 0:\n",
        "        return \"positive\"\n",
        "    elif preds.item() == 1:\n",
        "        return \"neutral\"\n",
        "    else:\n",
        "        return \"negative\""
      ]
    },
    {
      "cell_type": "code",
      "execution_count": null,
      "metadata": {},
      "outputs": [
        {
          "ename": "AttributeError",
          "evalue": "'Tensor' object has no attribute 'last_hidden_state'",
          "output_type": "error",
          "traceback": [
            "\u001b[1;31m---------------------------------------------------------------------------\u001b[0m",
            "\u001b[1;31mAttributeError\u001b[0m                            Traceback (most recent call last)",
            "Cell \u001b[1;32mIn[20], line 1\u001b[0m\n\u001b[1;32m----> 1\u001b[0m \u001b[38;5;28mprint\u001b[39m(\u001b[43mpredict_sentiment2\u001b[49m\u001b[43m(\u001b[49m\u001b[38;5;124;43m\"\u001b[39;49m\u001b[38;5;124;43mbank mega jelek banget pelayanannya\u001b[39;49m\u001b[38;5;124;43m\"\u001b[39;49m\u001b[43m,\u001b[49m\u001b[43m \u001b[49m\u001b[43mloaded_model\u001b[49m\u001b[43m,\u001b[49m\u001b[43m \u001b[49m\u001b[43mtokenizer\u001b[49m\u001b[43m,\u001b[49m\u001b[43m \u001b[49m\u001b[43mdevice\u001b[49m\u001b[43m)\u001b[49m)\n",
            "Cell \u001b[1;32mIn[19], line 10\u001b[0m, in \u001b[0;36mpredict_sentiment2\u001b[1;34m(text, model, tokenizer, device, max_length)\u001b[0m\n\u001b[0;32m      8\u001b[0m outputs \u001b[38;5;241m=\u001b[39m model(input_ids\u001b[38;5;241m=\u001b[39minput_ids, attention_mask\u001b[38;5;241m=\u001b[39mattention_mask)\n\u001b[0;32m      9\u001b[0m _, preds \u001b[38;5;241m=\u001b[39m torch\u001b[38;5;241m.\u001b[39mmax(outputs, dim\u001b[38;5;241m=\u001b[39m\u001b[38;5;241m1\u001b[39m)\n\u001b[1;32m---> 10\u001b[0m last_hidden_states \u001b[38;5;241m=\u001b[39m \u001b[43moutputs\u001b[49m\u001b[38;5;241;43m.\u001b[39;49m\u001b[43mlast_hidden_state\u001b[49m\n\u001b[0;32m     11\u001b[0m pooler_output \u001b[38;5;241m=\u001b[39m outputs\u001b[38;5;241m.\u001b[39mpooler_output\n\u001b[0;32m     12\u001b[0m hidden_states \u001b[38;5;241m=\u001b[39m outputs\u001b[38;5;241m.\u001b[39mhidden_states\n",
            "\u001b[1;31mAttributeError\u001b[0m: 'Tensor' object has no attribute 'last_hidden_state'"
          ]
        }
      ],
      "source": [
        "print(predict_sentiment2(\"bank mega jelek banget pelayanannya\", loaded_model, tokenizer, device))"
      ]
    },
    {
      "cell_type": "code",
      "execution_count": null,
      "metadata": {},
      "outputs": [
        {
          "data": {
            "text/plain": [
              "BERTClassifier(\n",
              "  (bert): BertModel(\n",
              "    (embeddings): BertEmbeddings(\n",
              "      (word_embeddings): Embedding(31923, 768, padding_idx=0)\n",
              "      (position_embeddings): Embedding(512, 768)\n",
              "      (token_type_embeddings): Embedding(2, 768)\n",
              "      (LayerNorm): LayerNorm((768,), eps=1e-12, elementwise_affine=True)\n",
              "      (dropout): Dropout(p=0.1, inplace=False)\n",
              "    )\n",
              "    (encoder): BertEncoder(\n",
              "      (layer): ModuleList(\n",
              "        (0-11): 12 x BertLayer(\n",
              "          (attention): BertAttention(\n",
              "            (self): BertSelfAttention(\n",
              "              (query): Linear(in_features=768, out_features=768, bias=True)\n",
              "              (key): Linear(in_features=768, out_features=768, bias=True)\n",
              "              (value): Linear(in_features=768, out_features=768, bias=True)\n",
              "              (dropout): Dropout(p=0.1, inplace=False)\n",
              "            )\n",
              "            (output): BertSelfOutput(\n",
              "              (dense): Linear(in_features=768, out_features=768, bias=True)\n",
              "              (LayerNorm): LayerNorm((768,), eps=1e-12, elementwise_affine=True)\n",
              "              (dropout): Dropout(p=0.1, inplace=False)\n",
              "            )\n",
              "          )\n",
              "          (intermediate): BertIntermediate(\n",
              "            (dense): Linear(in_features=768, out_features=3072, bias=True)\n",
              "            (intermediate_act_fn): GELUActivation()\n",
              "          )\n",
              "          (output): BertOutput(\n",
              "            (dense): Linear(in_features=3072, out_features=768, bias=True)\n",
              "            (LayerNorm): LayerNorm((768,), eps=1e-12, elementwise_affine=True)\n",
              "            (dropout): Dropout(p=0.1, inplace=False)\n",
              "          )\n",
              "        )\n",
              "      )\n",
              "    )\n",
              "    (pooler): BertPooler(\n",
              "      (dense): Linear(in_features=768, out_features=768, bias=True)\n",
              "      (activation): Tanh()\n",
              "    )\n",
              "  )\n",
              "  (dropout): Dropout(p=0.1, inplace=False)\n",
              "  (fc): Linear(in_features=768, out_features=3, bias=True)\n",
              ")"
            ]
          },
          "execution_count": 17,
          "metadata": {},
          "output_type": "execute_result"
        }
      ],
      "source": [
        "model.load_state_dict(torch.load('bert_model_0_ts020.pth'))\n",
        "\n",
        "# If GPU is available, move the model to GPU\n",
        "if torch.cuda.is_available():\n",
        "    model = model.to('cuda')\n",
        "\n",
        "# Set the model to evaluation mode\n",
        "model.eval()"
      ]
    },
    {
      "cell_type": "code",
      "execution_count": null,
      "metadata": {},
      "outputs": [],
      "source": [
        "df = pd.read_excel('25k_labeling.xlsx')\n",
        "df['comments'] = df['comments'].astype(str)\n",
        "\n",
        "# Load your BERT tokenizer\n",
        "tokenizer = BertTokenizer.from_pretrained('indolem/indobert-base-uncased')\n",
        "\n",
        "# Define a dataset class for inference\n",
        "class InferenceDataset(Dataset):\n",
        "    def __init__(self, data, tokenizer, max_length):\n",
        "        self.data = data\n",
        "        self.tokenizer = tokenizer\n",
        "        self.max_length = max_length\n",
        "\n",
        "    def __len__(self):\n",
        "        return len(self.data)\n",
        "\n",
        "    def __getitem__(self, idx):\n",
        "        comment = self.data.iloc[idx]['comments']\n",
        "        inputs = self.tokenizer.encode_plus(\n",
        "            comment,\n",
        "            add_special_tokens=True,\n",
        "            max_length=self.max_length,\n",
        "            padding='max_length',\n",
        "            truncation=True,\n",
        "            return_tensors='pt'\n",
        "        )\n",
        "        input_ids = inputs['input_ids'].squeeze(0)\n",
        "        attention_mask = inputs['attention_mask'].squeeze(0)\n",
        "        return input_ids, attention_mask\n",
        "\n",
        "# Define your model\n",
        "model = BERTClassifier(bert_model_name='indolem/indobert-base-uncased', num_classes=3, freeze_layers=0)\n",
        "\n",
        "# Load the trained model weights\n",
        "model.load_state_dict(torch.load('bert_model_0_ts020.pth'))\n",
        "\n",
        "# If GPU is available, move the model to GPU\n",
        "device = torch.device('cuda' if torch.cuda.is_available() else 'cpu')\n",
        "model = model.to(device)\n",
        "\n",
        "# Set the model to evaluation mode\n",
        "model.eval()\n",
        "\n",
        "# Define inference dataset and dataloader\n",
        "max_length = 128  # Define your desired max length for input sequences\n",
        "inference_dataset = InferenceDataset(df, tokenizer, max_length)\n",
        "inference_dataloader = DataLoader(inference_dataset, batch_size=64)\n",
        "\n",
        "# Perform inference\n",
        "predictions = []\n",
        "with torch.no_grad():\n",
        "    for input_ids, attention_mask in inference_dataloader:\n",
        "        input_ids, attention_mask = input_ids.to(device), attention_mask.to(device)\n",
        "        logits = model(input_ids, attention_mask)\n",
        "        probabilities = torch.softmax(logits, dim=-1)\n",
        "        predicted_class = torch.argmax(probabilities, dim=-1)\n",
        "        predictions.extend(predicted_class.cpu().numpy())\n",
        "\n",
        "# Assign predictions to DataFrame column\n",
        "df['predicted_label'] = predictions\n",
        "\n",
        "# Save the DataFrame with the predicted column\n",
        "df.to_excel('your_predicted_data.xlsx', index=False)"
      ]
    },
    {
      "cell_type": "code",
      "execution_count": null,
      "metadata": {},
      "outputs": [],
      "source": []
    }
  ],
  "metadata": {
    "accelerator": "GPU",
    "colab": {
      "gpuType": "T4",
      "provenance": []
    },
    "kernelspec": {
      "display_name": "Python 3",
      "name": "python3"
    },
    "language_info": {
      "codemirror_mode": {
        "name": "ipython",
        "version": 3
      },
      "file_extension": ".py",
      "mimetype": "text/x-python",
      "name": "python",
      "nbconvert_exporter": "python",
      "pygments_lexer": "ipython3",
      "version": "3.12.3"
    }
  },
  "nbformat": 4,
  "nbformat_minor": 0
}
